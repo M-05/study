{
  "nbformat": 4,
  "nbformat_minor": 0,
  "metadata": {
    "colab": {
      "provenance": []
    },
    "kernelspec": {
      "name": "python3",
      "display_name": "Python 3"
    },
    "language_info": {
      "name": "python"
    }
  },
  "cells": [
    {
      "cell_type": "code",
      "source": [
        "# Double under method\n",
        "# magic method"
      ],
      "metadata": {
        "id": "ygBURx7m0QHb"
      },
      "execution_count": null,
      "outputs": []
    },
    {
      "cell_type": "code",
      "execution_count": 1,
      "metadata": {
        "colab": {
          "base_uri": "https://localhost:8080/"
        },
        "id": "mh0mGYCKzMQ8",
        "outputId": "22b5fbda-1802-4c6f-a8c0-84c4bca9ce5d"
      },
      "outputs": [
        {
          "output_type": "stream",
          "name": "stdout",
          "text": [
            "<__main__.Rand object at 0x7efb833f95d0>\n"
          ]
        }
      ],
      "source": [
        "class Rand:\n",
        "    def __init__(self, start):\n",
        "        self.start = start\n",
        "\n",
        "x = Rand(100)\n",
        "print(x)"
      ]
    },
    {
      "cell_type": "code",
      "source": [
        "class Rand:\n",
        "    def __init__(self, start):\n",
        "        self.start = start\n",
        "\n",
        "    def __repr__(self):\n",
        "        return str(self.start)\n",
        "\n",
        "x = Rand(100)\n",
        "print(x)"
      ],
      "metadata": {
        "colab": {
          "base_uri": "https://localhost:8080/"
        },
        "id": "jRGYeZoszZG5",
        "outputId": "88abc1fb-db12-4bf9-d8f0-3721f3170b7d"
      },
      "execution_count": 9,
      "outputs": [
        {
          "output_type": "stream",
          "name": "stdout",
          "text": [
            "100\n"
          ]
        }
      ]
    },
    {
      "cell_type": "code",
      "source": [
        "class Rand:\n",
        "    def __init__(self, start):\n",
        "        self.start = start\n",
        "\n",
        "    def __repr__(self):\n",
        "        return str(self.start)\n",
        "\n",
        "    def __add__(self, item):\n",
        "        return self.start + item\n",
        "\n",
        "x = Rand(100)\n",
        "print(x + 123)"
      ],
      "metadata": {
        "colab": {
          "base_uri": "https://localhost:8080/"
        },
        "id": "9sUxRMQdzetD",
        "outputId": "56c68bf4-19c3-47ea-9858-b244365ae259"
      },
      "execution_count": 10,
      "outputs": [
        {
          "output_type": "stream",
          "name": "stdout",
          "text": [
            "223\n"
          ]
        }
      ]
    },
    {
      "cell_type": "code",
      "source": [],
      "metadata": {
        "id": "j0VswPVEz-9P"
      },
      "execution_count": null,
      "outputs": []
    }
  ]
}