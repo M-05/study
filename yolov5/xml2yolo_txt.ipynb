{
  "nbformat": 4,
  "nbformat_minor": 0,
  "metadata": {
    "colab": {
      "provenance": []
    },
    "kernelspec": {
      "name": "python3",
      "display_name": "Python 3"
    },
    "language_info": {
      "name": "python"
    }
  },
  "cells": [
    {
      "cell_type": "code",
      "source": [
        "# xml 2 txt -> yolo 형식으로 변환\n",
        "\n",
        "# 경로를 지정해주자.\n",
        "\n",
        "path = \"./dataset\"\n",
        "annot_path = os.path.join(path,\"annotations\")\n",
        "img_path = os.path.join(path,\"images\")\n",
        "label_path = os.path.join(path,\"labels\")\n",
        "\n",
        "import xml.etree.ElementTree as ET\n",
        "import glob\n",
        "import os\n",
        "import json\n",
        "\n",
        "# xml bbox 형식을 yolo bbox 형태로 변환하는 함수\n",
        "def xml_to_yolo_bbox(bbox, w, h):\n",
        "    # xmin, ymin, xmax, ymax\n",
        "    x_center = ((bbox[2] + bbox[0]) / 2) / w\n",
        "    y_center = ((bbox[3] + bbox[1]) / 2) / h\n",
        "    width = (bbox[2] - bbox[0]) / w\n",
        "    height = (bbox[3] - bbox[1]) / h\n",
        "    return [x_center, y_center, width, height]\n",
        "\n",
        "classes = []\n",
        "\n",
        "from tqdm import tqdm\n",
        "files = glob.glob(os.path.join(annot_path, '*.xml'))\n",
        "\n",
        "for f in tqdm(files): #\n",
        "    basename = os.path.basename(f)\n",
        "    filename = os.path.splitext(basename)[0]\n",
        "\n",
        "    result = [] #\n",
        "\n",
        "    tree = ET.parse(f)\n",
        "    root = tree.getroot()\n",
        "    # 너비 높이\n",
        "    width = int(root.find(\"size\").find(\"width\").text)\n",
        "    height = int(root.find(\"size\").find(\"height\").text)\n",
        "\n",
        "    for obj in root.findall('object'):\n",
        "        label = obj.find(\"name\").text  # label 이름\n",
        "\n",
        "        if label not in classes:\n",
        "            classes.append(label)\n",
        "\n",
        "        index = classes.index(label)\n",
        "\n",
        "        # bbox 위치 찾고 각각의 값들 리스트 안에 넣기.\n",
        "        pil_bbox = [int(x.text) for x in obj.find(\"bndbox\")]\n",
        "        # yolo 형식으로 바꾸기.\n",
        "        yolo_bbox = xml_to_yolo_bbox(pil_bbox, width, height)\n",
        "        # , 없애고 띄어쓰기 기준으로 분할\n",
        "        bbox_string = \" \".join([str(x) for x in yolo_bbox])\n",
        "        # class 리스트의 몇 번째에 속하는지\n",
        "        result.append(f\"{index} {bbox_string}\") #\n",
        "\n",
        "\n",
        "    if result: # 1개가 있다면 labels 폴더에 넣기!\n",
        "        with open(os.path.join(label_path, f\"{filename}.txt\"), \"w\", encoding=\"utf-8\") as f:\n",
        "            f.write(\"\\n\".join(result))"
      ],
      "metadata": {
        "id": "FeZY11EpUxCR"
      },
      "execution_count": null,
      "outputs": []
    },
    {
      "cell_type": "markdown",
      "source": [
        "---\n",
        "xml 파일로 만들기"
      ],
      "metadata": {
        "id": "tSF8AO5YkJ_c"
      }
    },
    {
      "cell_type": "code",
      "source": [
        "<annotation>\n",
        "\t<folder>20211026 090012 H265-1</folder>\n",
        "\t<filename>20211026 090012 H265-1_2.jpg</filename>\n",
        "\t<path>C:\\Users\\itnj\\Desktop\\AI 데이터셋 프레임 파일\\20211026 090012 H265-1\\20211026 090012 H265-1_2.jpg</path>\n",
        "\t<source>\n",
        "\t\t<database>Unknown</database>\n",
        "\t</source>\n",
        "\t<size>\n",
        "\t\t<width>1920</width>\n",
        "\t\t<height>1080</height>\n",
        "\t\t<depth>3</depth>\n",
        "\t</size>\n",
        "\t<segmented>0</segmented>\n",
        "\t<object>\n",
        "\t\t<name>person</name>\n",
        "\t\t<pose>Unspecified</pose>\n",
        "\t\t<truncated>0</truncated>\n",
        "\t\t<difficult>0</difficult>\n",
        "\t\t<bndbox>\n",
        "\t\t\t<xmin>1446</xmin>\n",
        "\t\t\t<ymin>217</ymin>\n",
        "\t\t\t<xmax>1603</xmax>\n",
        "\t\t\t<ymax>699</ymax>\n",
        "\t\t</bndbox>\n",
        "\t</object>\n",
        "</annotation>"
      ],
      "metadata": {
        "id": "JTfOCJOpkJLw"
      },
      "execution_count": null,
      "outputs": []
    },
    {
      "cell_type": "code",
      "source": [
        "from xml.etree.ElementTree import Element, SubElement, ElementTree\n",
        "\n",
        "filename = '20211026 090012 H265-1_2'\n",
        "width = 1920\n",
        "height = 1080\n",
        "point1 = (1446, 1603)\n",
        "point2 = (217, 699)\n",
        "label = 'person'\n",
        "\n",
        "root = Element('annotation')\n",
        "SubElement(root, 'folder').text = '20211026 090012 H265-1'\n",
        "SubElement(root, 'filename').text = filename + '.jpg'\n",
        "SubElement(root, 'path').text = './contents/MyDrive/working/images' +  filename + '.jpg'\n",
        "source = SubElement(root, 'source')\n",
        "SubElement(source, 'database').text = 'Unknown'\n",
        "\n",
        "size = SubElement(root, 'size')\n",
        "SubElement(size, 'width').text = str(width)\n",
        "SubElement(size, 'height').text = str(height)\n",
        "SubElement(size, 'depth').text = '3'\n",
        "\n",
        "SubElement(root, 'segmented').text = '0'\n",
        "\n",
        "obj = SubElement(root, 'object')\n",
        "SubElement(obj, 'name').text = label\n",
        "SubElement(obj, 'pose').text = 'Unspecified'\n",
        "SubElement(obj, 'truncated').text = '0'\n",
        "SubElement(obj, 'difficult').text = '0'\n",
        "bbox = SubElement(obj, 'bndbox')\n",
        "SubElement(bbox, 'xmin').text = str(point1[0])\n",
        "SubElement(bbox, 'ymin').text = str(point1[1])\n",
        "SubElement(bbox, 'xmax').text = str(point2[0])\n",
        "SubElement(bbox, 'ymax').text = str(point2[1])\n",
        "\n",
        "tree = ElementTree(root)\n",
        "tree.write('./' + filename +'.xml')"
      ],
      "metadata": {
        "id": "vR9RQ6Cag-sO"
      },
      "execution_count": 19,
      "outputs": []
    },
    {
      "cell_type": "markdown",
      "source": [
        "# 1개의 xml 파일 테스트"
      ],
      "metadata": {
        "id": "yqRxQjQOkMT1"
      }
    },
    {
      "cell_type": "code",
      "source": [
        "import os\n",
        "import xml.etree.ElementTree as ET\n",
        "\n",
        "xml_file ='20211026 090012 H265-1_2.xml'\n",
        "\n",
        "# xml bbox 형식을 yolo bbox 형태로 변환하는 함수\n",
        "def xml_to_yolo_bbox(bbox, w, h):\n",
        "    # xmin, ymin, xmax, ymax\n",
        "    x_center = ((bbox[2] + bbox[0]) / 2) / w\n",
        "    y_center = ((bbox[3] + bbox[1]) / 2) / h\n",
        "    width = (bbox[2] - bbox[0]) / w\n",
        "    height = (bbox[3] - bbox[1]) / h\n",
        "    return [x_center, y_center, width, height]\n",
        "\n",
        "classes = []\n",
        "\n",
        "\n",
        "basename = os.path.basename(xml_file)\n",
        "filename = os.path.splitext(basename)[0]\n",
        "\n",
        "result = [] #\n",
        "\n",
        "tree = ET.parse(xml_file)\n",
        "root = tree.getroot()\n",
        "# 너비 높이\n",
        "width = int(root.find(\"size\").find(\"width\").text)\n",
        "height = int(root.find(\"size\").find(\"height\").text)\n",
        "\n",
        "for obj in root.findall('object'):\n",
        "    label = obj.find(\"name\").text  # label 이름\n",
        "\n",
        "    if label not in classes:\n",
        "        classes.append(label)\n",
        "\n",
        "    index = classes.index(label)\n",
        "\n",
        "    # bbox 위치 찾고 각각의 값들 리스트 안에 넣기.\n",
        "    pil_bbox = [int(x.text) for x in obj.find(\"bndbox\")]\n",
        "    # yolo 형식으로 바꾸기.\n",
        "    yolo_bbox = xml_to_yolo_bbox(pil_bbox, width, height)\n",
        "    # , 없애고 띄어쓰기 기준으로 분할\n",
        "    bbox_string = \" \".join([str(x) for x in yolo_bbox])\n",
        "    # class 리스트의 몇 번째에 속하는지\n",
        "    result.append(f\"{index} {bbox_string}\") #\n",
        "print(result)"
      ],
      "metadata": {
        "colab": {
          "base_uri": "https://localhost:8080/"
        },
        "id": "dwO7ScwcjME0",
        "outputId": "e2d87d8b-5dd5-441d-95c0-36ef54ea888c"
      },
      "execution_count": 36,
      "outputs": [
        {
          "output_type": "stream",
          "name": "stdout",
          "text": [
            "['0 0.43307291666666664 1.0657407407407407 -0.6401041666666667 -0.837037037037037']\n"
          ]
        }
      ]
    },
    {
      "cell_type": "code",
      "source": [
        "print(label)"
      ],
      "metadata": {
        "colab": {
          "base_uri": "https://localhost:8080/"
        },
        "id": "Ks4HUQnqj9sd",
        "outputId": "64c2987e-42c8-4446-f134-6ceb5c25b137"
      },
      "execution_count": 40,
      "outputs": [
        {
          "output_type": "stream",
          "name": "stdout",
          "text": [
            "person\n"
          ]
        }
      ]
    },
    {
      "cell_type": "code",
      "source": [
        "print(width, height)"
      ],
      "metadata": {
        "colab": {
          "base_uri": "https://localhost:8080/"
        },
        "id": "_lGB2Um5jqRL",
        "outputId": "9b198dd9-10d8-4e9f-d16b-26471cdd03d9"
      },
      "execution_count": 37,
      "outputs": [
        {
          "output_type": "stream",
          "name": "stdout",
          "text": [
            "1920 1080\n"
          ]
        }
      ]
    },
    {
      "cell_type": "code",
      "source": [
        "print(pil_bbox)\n",
        "print(yolo_bbox)"
      ],
      "metadata": {
        "colab": {
          "base_uri": "https://localhost:8080/"
        },
        "id": "RKEEynU-j3cn",
        "outputId": "ccb90313-59a0-4261-c7ff-9dc7523e1f36"
      },
      "execution_count": 39,
      "outputs": [
        {
          "output_type": "stream",
          "name": "stdout",
          "text": [
            "[1446, 1603, 217, 699]\n",
            "[0.43307291666666664, 1.0657407407407407, -0.6401041666666667, -0.837037037037037]\n"
          ]
        }
      ]
    },
    {
      "cell_type": "code",
      "source": [],
      "metadata": {
        "id": "hQSqRfpngvNd"
      },
      "execution_count": null,
      "outputs": []
    }
  ]
}