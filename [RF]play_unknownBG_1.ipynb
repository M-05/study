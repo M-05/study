{
  "nbformat": 4,
  "nbformat_minor": 0,
  "metadata": {
    "colab": {
      "provenance": []
    },
    "kernelspec": {
      "name": "python3",
      "display_name": "Python 3"
    },
    "language_info": {
      "name": "python"
    }
  },
  "cells": [
    {
      "cell_type": "markdown",
      "source": [
        "# Player Unknown Battle Ground"
      ],
      "metadata": {
        "id": "i10AAvopF_QZ"
      }
    },
    {
      "cell_type": "markdown",
      "source": [
        "### Data fields\n",
        "`DBNOs` - Number of enemy players knocked.  \n",
        "`assists` - Number of enemy players this player damaged that were killed by teammates.  \n",
        "`boosts` - Number of boost items used.  \n",
        "`damageDealt` - Total damage dealt. Note: Self inflicted damage is subtracted.  \n",
        "`headshotKills` - Number of enemy players killed with headshots.  \n",
        "`heals` - Number of healing items used.  \n",
        "`Id` - Player’s Id\n",
        "`killPlace` - Ranking in match of number of enemy players killed.  \n",
        "`killPoints` - Kills-based external ranking of player. (Think of this as an Elo ranking where only kills matter.) If there is a value other than -1 in rankPoints, then any 0 in killPoints should be treated as a “None”.  \n",
        "`killStreaks` - Max number of enemy players killed in a short amount of time.  \n",
        "`kills` - Number of enemy players killed.  \n",
        "`longestKill` - Longest distance between player and player killed at time of death. This may be misleading, as downing a player and driving away may lead to a large longestKill stat.  \n",
        "`matchDuration` - Duration of match in seconds.  \n",
        "`matchId` - ID to identify match. There are no matches that are in both the training and testing set.  \n",
        "`matchType` - String identifying the game mode that the data comes from. The standard modes are “solo”, “duo”, “squad”, “solo-fpp”, “duo-fpp”, and “squad-fpp”; other modes are from events or custom matches.  \n",
        "`rankPoints` - Elo-like ranking of player. This ranking is inconsistent and is being deprecated in the API’s next version, so use with caution. Value of -1 takes place of “None”.  \n",
        "`revives` - Number of times this player revived teammates.  \n",
        "rideDistance - Total distance traveled in vehicles measured in meters.  \n",
        "`roadKills` - Number of kills while in a vehicle.  \n",
        "`swimDistance` - Total distance traveled by swimming measured in meters.  \n",
        "`teamKills` - Number of times this player killed a teammate.  \n",
        "`vehicleDestroys` - Number of vehicles destroyed.  \n",
        "`walkDistance` - Total distance traveled on foot measured in meters.  \n",
        "`weaponsAcquired` - Number of weapons picked up.\n",
        "`winPoints` - Win-based external ranking of player. (Think of this as an Elo ranking where only winning matters.) If there is a value other than -1 in rankPoints, then any 0 in winPoints should be treated as a “None”.\n",
        "`groupId` - ID to identify a group within a match. If the same group of players plays in different matches, they will have a different groupId each time.  \n",
        "`numGroups` - Number of groups we have data for in the match.  \n",
        "`maxPlace` - Worst placement we have data for in the match. This may not match with numGroups, as sometimes the data skips over placements.  \n",
        "`winPlacePerc` - The target of prediction. This is a percentile winning placement, where 1 corresponds to 1st place, and 0 corresponds to last place in the match. It is calculated off of maxPlace, not numGroups, so it is possible to have missing chunks in a match."
      ],
      "metadata": {
        "id": "HEJXVFYDF-_U"
      }
    },
    {
      "cell_type": "markdown",
      "source": [
        "# Drive 연결"
      ],
      "metadata": {
        "id": "uZiC4aBv1HSc"
      }
    },
    {
      "cell_type": "code",
      "execution_count": 1,
      "metadata": {
        "id": "gWIEIAf_z8B6"
      },
      "outputs": [],
      "source": [
        "from google.colab import drive"
      ]
    },
    {
      "cell_type": "code",
      "source": [
        "drive.mount('./content')"
      ],
      "metadata": {
        "colab": {
          "base_uri": "https://localhost:8080/"
        },
        "id": "TAHfXaC-0TvC",
        "outputId": "39b91913-5786-41cb-cb6c-028169bf728c"
      },
      "execution_count": 2,
      "outputs": [
        {
          "output_type": "stream",
          "name": "stdout",
          "text": [
            "Mounted at ./content\n"
          ]
        }
      ]
    },
    {
      "cell_type": "markdown",
      "source": [
        "# kaggle 데이터 다운로드"
      ],
      "metadata": {
        "id": "DyMLS0ei6WCW"
      }
    },
    {
      "cell_type": "code",
      "source": [
        "#pip install kaggle"
      ],
      "metadata": {
        "id": "f8Dnco9H6S05"
      },
      "execution_count": null,
      "outputs": []
    },
    {
      "cell_type": "code",
      "source": [
        "import os"
      ],
      "metadata": {
        "id": "GfYhGJyl0y_B"
      },
      "execution_count": 6,
      "outputs": []
    },
    {
      "cell_type": "code",
      "source": [
        "os.environ['KAGGLE_USERNAME'] = 'mabcde'\n",
        "os.environ[\"KAGGLE_KEY\"] = 'feaa37f21ae299c52686bcc037160e50'"
      ],
      "metadata": {
        "id": "qowtoMAO00OX"
      },
      "execution_count": 7,
      "outputs": []
    },
    {
      "cell_type": "code",
      "source": [
        "!kaggle competitions download -c pubg-finish-placement-prediction"
      ],
      "metadata": {
        "colab": {
          "base_uri": "https://localhost:8080/"
        },
        "id": "-9C2hd-B0Qlc",
        "outputId": "8fe2f7e8-3f06-451f-953b-87e17cfb3835"
      },
      "execution_count": 29,
      "outputs": [
        {
          "output_type": "stream",
          "name": "stdout",
          "text": [
            "Downloading pubg-finish-placement-prediction.zip to /content\n",
            " 96% 348M/361M [00:02<00:00, 142MB/s]\n",
            "100% 361M/361M [00:02<00:00, 155MB/s]\n"
          ]
        }
      ]
    },
    {
      "cell_type": "code",
      "source": [
        "ls content/MyDrive/'Colab Notebooks'/data"
      ],
      "metadata": {
        "colab": {
          "base_uri": "https://localhost:8080/"
        },
        "id": "SmDQTV6E0j7f",
        "outputId": "a2e04d7f-71ba-4332-dffc-94b01fb5ccb8"
      },
      "execution_count": 23,
      "outputs": [
        {
          "output_type": "stream",
          "name": "stdout",
          "text": [
            "preprocessed_test.csv   sample_submission.csv  submission.csv\n",
            "preprocessed_train.csv  submission123.csv\n"
          ]
        }
      ]
    },
    {
      "cell_type": "code",
      "source": [
        "source = \"pubg-finish-placement-prediction.zip\"\n",
        "destination = \"/content/MyDrive/Colab Notebooks/data/\""
      ],
      "metadata": {
        "id": "97ZckuqP3iJl"
      },
      "execution_count": 45,
      "outputs": []
    },
    {
      "cell_type": "code",
      "source": [
        "import shutil"
      ],
      "metadata": {
        "id": "UofDczkT1XaN"
      },
      "execution_count": 26,
      "outputs": []
    },
    {
      "cell_type": "code",
      "source": [
        "shutil.move(source, destination)"
      ],
      "metadata": {
        "colab": {
          "base_uri": "https://localhost:8080/",
          "height": 35
        },
        "id": "Oep6q5re3XVy",
        "outputId": "19170107-dd93-474c-8dca-209b683b6cb2"
      },
      "execution_count": 46,
      "outputs": [
        {
          "output_type": "execute_result",
          "data": {
            "text/plain": [
              "'/content/MyDrive/Colab Notebooks/data/pubg-finish-placement-prediction.zip'"
            ],
            "application/vnd.google.colaboratory.intrinsic+json": {
              "type": "string"
            }
          },
          "metadata": {},
          "execution_count": 46
        }
      ]
    },
    {
      "cell_type": "code",
      "source": [
        "ls content/MyDrive/\"Colab Notebooks\"/data"
      ],
      "metadata": {
        "colab": {
          "base_uri": "https://localhost:8080/"
        },
        "id": "p5EN3uVM3x7h",
        "outputId": "ed726d6b-98cf-4790-b86f-3d1d4637e312"
      },
      "execution_count": 50,
      "outputs": [
        {
          "output_type": "stream",
          "name": "stdout",
          "text": [
            "preprocessed_test.csv   pubg-finish-placement-prediction.zip  submission123.csv\n",
            "preprocessed_train.csv  sample_submission.csv                 submission.csv\n"
          ]
        }
      ]
    },
    {
      "cell_type": "code",
      "source": [
        "!unzip content/MyDrive/\"Colab Notebooks\"/data/pubg-finish-placement-prediction.zip -d content/MyDrive/\"Colab Notebooks\"/data/"
      ],
      "metadata": {
        "colab": {
          "base_uri": "https://localhost:8080/"
        },
        "id": "cWSK9GDB4iRC",
        "outputId": "a2d12a37-16bb-4809-e3cd-229fe8686cc0"
      },
      "execution_count": 53,
      "outputs": [
        {
          "output_type": "stream",
          "name": "stdout",
          "text": [
            "Archive:  content/MyDrive/Colab Notebooks/data/pubg-finish-placement-prediction.zip\n",
            "  inflating: content/MyDrive/Colab Notebooks/data/sample_submission_V2.csv  \n",
            "  inflating: content/MyDrive/Colab Notebooks/data/test_V2.csv  \n",
            "  inflating: content/MyDrive/Colab Notebooks/data/train_V2.csv  \n"
          ]
        }
      ]
    },
    {
      "cell_type": "code",
      "source": [
        "ls content/MyDrive/\"Colab Notebooks\"/data"
      ],
      "metadata": {
        "colab": {
          "base_uri": "https://localhost:8080/"
        },
        "id": "NayScURN6a0v",
        "outputId": "df4c1279-7d2a-48e4-83a2-1560c85f27a6"
      },
      "execution_count": 54,
      "outputs": [
        {
          "output_type": "stream",
          "name": "stdout",
          "text": [
            "preprocessed_test.csv                 sample_submission.csv     submission.csv\n",
            "preprocessed_train.csv                sample_submission_V2.csv  test_V2.csv\n",
            "pubg-finish-placement-prediction.zip  submission123.csv         train_V2.csv\n"
          ]
        }
      ]
    },
    {
      "cell_type": "code",
      "source": [
        "path = 'content/MyDrive/Colab Notebooks/data'"
      ],
      "metadata": {
        "id": "FjCr09iu6b-e"
      },
      "execution_count": 55,
      "outputs": []
    },
    {
      "cell_type": "markdown",
      "source": [
        "# 데이터 불러오기"
      ],
      "metadata": {
        "id": "jKRKYwIZ6ziz"
      }
    },
    {
      "cell_type": "code",
      "source": [
        "import pandas as pd\n",
        "import numpy as np\n",
        "import matplotlib.pyplot as plt\n",
        "import seaborn as sns"
      ],
      "metadata": {
        "id": "R8ihTqpp64aQ"
      },
      "execution_count": 56,
      "outputs": []
    },
    {
      "cell_type": "code",
      "source": [
        "train_df = pd.read_csv(path + \"/train_V2.csv\")\n",
        "test_df = pd.read_csv(path + \"/test_V2.csv\")"
      ],
      "metadata": {
        "id": "wy_Rba0a60-R"
      },
      "execution_count": 58,
      "outputs": []
    },
    {
      "cell_type": "code",
      "source": [
        "train_df"
      ],
      "metadata": {
        "colab": {
          "base_uri": "https://localhost:8080/",
          "height": 444
        },
        "id": "oIdWdGCq8J-k",
        "outputId": "07b9d8f6-648b-4bd3-f7f4-7bde42ec1bf9"
      },
      "execution_count": 66,
      "outputs": [
        {
          "output_type": "execute_result",
          "data": {
            "text/plain": [
              "                     Id         groupId         matchId  assists  boosts  \\\n",
              "0        7f96b2f878858a  4d4b580de459be  a10357fd1a4a91        0       0   \n",
              "1        eef90569b9d03c  684d5656442f9e  aeb375fc57110c        0       0   \n",
              "2        1eaf90ac73de72  6a4a42c3245a74  110163d8bb94ae        1       0   \n",
              "3        4616d365dd2853  a930a9c79cd721  f1f1f4ef412d7e        0       0   \n",
              "4        315c96c26c9aac  de04010b3458dd  6dc8ff871e21e6        0       0   \n",
              "...                 ...             ...             ...      ...     ...   \n",
              "4446961  afff7f652dbc10  d238e426f50de7  18492834ce5635        0       0   \n",
              "4446962  f4197cf374e6c0  408cdb5c46b2ac  ee854b837376d9        0       1   \n",
              "4446963  e1948b1295c88a  e26ac84bdf7cef  6d0cd12784f1ab        0       0   \n",
              "4446964  cc032cdd73b7ac  c2223f35411394  c9c701d0ad758a        0       4   \n",
              "4446965  0d8e7ed728b6fd  8c74f72fedf5ff  62a16aabcc095c        0       2   \n",
              "\n",
              "         damageDealt  DBNOs  headshotKills  heals  killPlace  ...  revives  \\\n",
              "0               0.00      0              0      0         60  ...        0   \n",
              "1              91.47      0              0      0         57  ...        0   \n",
              "2              68.00      0              0      0         47  ...        0   \n",
              "3              32.90      0              0      0         75  ...        0   \n",
              "4             100.00      0              0      0         45  ...        0   \n",
              "...              ...    ...            ...    ...        ...  ...      ...   \n",
              "4446961         0.00      0              0      0         74  ...        0   \n",
              "4446962        44.15      0              0      0         69  ...        0   \n",
              "4446963        59.06      0              0      0         66  ...        0   \n",
              "4446964       180.40      1              1      2         11  ...        2   \n",
              "4446965       268.00      0              0      1         18  ...        0   \n",
              "\n",
              "         rideDistance  roadKills  swimDistance  teamKills vehicleDestroys  \\\n",
              "0              0.0000          0         0.000          0               0   \n",
              "1              0.0045          0        11.040          0               0   \n",
              "2              0.0000          0         0.000          0               0   \n",
              "3              0.0000          0         0.000          0               0   \n",
              "4              0.0000          0         0.000          0               0   \n",
              "...               ...        ...           ...        ...             ...   \n",
              "4446961     1292.0000          0         0.000          0               0   \n",
              "4446962        0.0000          0         0.000          0               0   \n",
              "4446963        0.0000          0         2.184          0               0   \n",
              "4446964        0.0000          0         0.000          0               0   \n",
              "4446965     1369.0000          0         0.000          0               0   \n",
              "\n",
              "         walkDistance  weaponsAcquired  winPoints  winPlacePerc  \n",
              "0              244.80                1       1466        0.4444  \n",
              "1             1434.00                5          0        0.6400  \n",
              "2              161.80                2          0        0.7755  \n",
              "3              202.70                3          0        0.1667  \n",
              "4               49.75                2          0        0.1875  \n",
              "...               ...              ...        ...           ...  \n",
              "4446961       1019.00                3       1507        0.1786  \n",
              "4446962         81.70                6          0        0.2935  \n",
              "4446963        788.70                4          0        0.4815  \n",
              "4446964       2748.00                8          0        0.8000  \n",
              "4446965       1244.00                5          0        0.5464  \n",
              "\n",
              "[4446966 rows x 29 columns]"
            ],
            "text/html": [
              "\n",
              "  <div id=\"df-118aef8f-2434-482e-9255-063d7bb38a74\" class=\"colab-df-container\">\n",
              "    <div>\n",
              "<style scoped>\n",
              "    .dataframe tbody tr th:only-of-type {\n",
              "        vertical-align: middle;\n",
              "    }\n",
              "\n",
              "    .dataframe tbody tr th {\n",
              "        vertical-align: top;\n",
              "    }\n",
              "\n",
              "    .dataframe thead th {\n",
              "        text-align: right;\n",
              "    }\n",
              "</style>\n",
              "<table border=\"1\" class=\"dataframe\">\n",
              "  <thead>\n",
              "    <tr style=\"text-align: right;\">\n",
              "      <th></th>\n",
              "      <th>Id</th>\n",
              "      <th>groupId</th>\n",
              "      <th>matchId</th>\n",
              "      <th>assists</th>\n",
              "      <th>boosts</th>\n",
              "      <th>damageDealt</th>\n",
              "      <th>DBNOs</th>\n",
              "      <th>headshotKills</th>\n",
              "      <th>heals</th>\n",
              "      <th>killPlace</th>\n",
              "      <th>...</th>\n",
              "      <th>revives</th>\n",
              "      <th>rideDistance</th>\n",
              "      <th>roadKills</th>\n",
              "      <th>swimDistance</th>\n",
              "      <th>teamKills</th>\n",
              "      <th>vehicleDestroys</th>\n",
              "      <th>walkDistance</th>\n",
              "      <th>weaponsAcquired</th>\n",
              "      <th>winPoints</th>\n",
              "      <th>winPlacePerc</th>\n",
              "    </tr>\n",
              "  </thead>\n",
              "  <tbody>\n",
              "    <tr>\n",
              "      <th>0</th>\n",
              "      <td>7f96b2f878858a</td>\n",
              "      <td>4d4b580de459be</td>\n",
              "      <td>a10357fd1a4a91</td>\n",
              "      <td>0</td>\n",
              "      <td>0</td>\n",
              "      <td>0.00</td>\n",
              "      <td>0</td>\n",
              "      <td>0</td>\n",
              "      <td>0</td>\n",
              "      <td>60</td>\n",
              "      <td>...</td>\n",
              "      <td>0</td>\n",
              "      <td>0.0000</td>\n",
              "      <td>0</td>\n",
              "      <td>0.000</td>\n",
              "      <td>0</td>\n",
              "      <td>0</td>\n",
              "      <td>244.80</td>\n",
              "      <td>1</td>\n",
              "      <td>1466</td>\n",
              "      <td>0.4444</td>\n",
              "    </tr>\n",
              "    <tr>\n",
              "      <th>1</th>\n",
              "      <td>eef90569b9d03c</td>\n",
              "      <td>684d5656442f9e</td>\n",
              "      <td>aeb375fc57110c</td>\n",
              "      <td>0</td>\n",
              "      <td>0</td>\n",
              "      <td>91.47</td>\n",
              "      <td>0</td>\n",
              "      <td>0</td>\n",
              "      <td>0</td>\n",
              "      <td>57</td>\n",
              "      <td>...</td>\n",
              "      <td>0</td>\n",
              "      <td>0.0045</td>\n",
              "      <td>0</td>\n",
              "      <td>11.040</td>\n",
              "      <td>0</td>\n",
              "      <td>0</td>\n",
              "      <td>1434.00</td>\n",
              "      <td>5</td>\n",
              "      <td>0</td>\n",
              "      <td>0.6400</td>\n",
              "    </tr>\n",
              "    <tr>\n",
              "      <th>2</th>\n",
              "      <td>1eaf90ac73de72</td>\n",
              "      <td>6a4a42c3245a74</td>\n",
              "      <td>110163d8bb94ae</td>\n",
              "      <td>1</td>\n",
              "      <td>0</td>\n",
              "      <td>68.00</td>\n",
              "      <td>0</td>\n",
              "      <td>0</td>\n",
              "      <td>0</td>\n",
              "      <td>47</td>\n",
              "      <td>...</td>\n",
              "      <td>0</td>\n",
              "      <td>0.0000</td>\n",
              "      <td>0</td>\n",
              "      <td>0.000</td>\n",
              "      <td>0</td>\n",
              "      <td>0</td>\n",
              "      <td>161.80</td>\n",
              "      <td>2</td>\n",
              "      <td>0</td>\n",
              "      <td>0.7755</td>\n",
              "    </tr>\n",
              "    <tr>\n",
              "      <th>3</th>\n",
              "      <td>4616d365dd2853</td>\n",
              "      <td>a930a9c79cd721</td>\n",
              "      <td>f1f1f4ef412d7e</td>\n",
              "      <td>0</td>\n",
              "      <td>0</td>\n",
              "      <td>32.90</td>\n",
              "      <td>0</td>\n",
              "      <td>0</td>\n",
              "      <td>0</td>\n",
              "      <td>75</td>\n",
              "      <td>...</td>\n",
              "      <td>0</td>\n",
              "      <td>0.0000</td>\n",
              "      <td>0</td>\n",
              "      <td>0.000</td>\n",
              "      <td>0</td>\n",
              "      <td>0</td>\n",
              "      <td>202.70</td>\n",
              "      <td>3</td>\n",
              "      <td>0</td>\n",
              "      <td>0.1667</td>\n",
              "    </tr>\n",
              "    <tr>\n",
              "      <th>4</th>\n",
              "      <td>315c96c26c9aac</td>\n",
              "      <td>de04010b3458dd</td>\n",
              "      <td>6dc8ff871e21e6</td>\n",
              "      <td>0</td>\n",
              "      <td>0</td>\n",
              "      <td>100.00</td>\n",
              "      <td>0</td>\n",
              "      <td>0</td>\n",
              "      <td>0</td>\n",
              "      <td>45</td>\n",
              "      <td>...</td>\n",
              "      <td>0</td>\n",
              "      <td>0.0000</td>\n",
              "      <td>0</td>\n",
              "      <td>0.000</td>\n",
              "      <td>0</td>\n",
              "      <td>0</td>\n",
              "      <td>49.75</td>\n",
              "      <td>2</td>\n",
              "      <td>0</td>\n",
              "      <td>0.1875</td>\n",
              "    </tr>\n",
              "    <tr>\n",
              "      <th>...</th>\n",
              "      <td>...</td>\n",
              "      <td>...</td>\n",
              "      <td>...</td>\n",
              "      <td>...</td>\n",
              "      <td>...</td>\n",
              "      <td>...</td>\n",
              "      <td>...</td>\n",
              "      <td>...</td>\n",
              "      <td>...</td>\n",
              "      <td>...</td>\n",
              "      <td>...</td>\n",
              "      <td>...</td>\n",
              "      <td>...</td>\n",
              "      <td>...</td>\n",
              "      <td>...</td>\n",
              "      <td>...</td>\n",
              "      <td>...</td>\n",
              "      <td>...</td>\n",
              "      <td>...</td>\n",
              "      <td>...</td>\n",
              "      <td>...</td>\n",
              "    </tr>\n",
              "    <tr>\n",
              "      <th>4446961</th>\n",
              "      <td>afff7f652dbc10</td>\n",
              "      <td>d238e426f50de7</td>\n",
              "      <td>18492834ce5635</td>\n",
              "      <td>0</td>\n",
              "      <td>0</td>\n",
              "      <td>0.00</td>\n",
              "      <td>0</td>\n",
              "      <td>0</td>\n",
              "      <td>0</td>\n",
              "      <td>74</td>\n",
              "      <td>...</td>\n",
              "      <td>0</td>\n",
              "      <td>1292.0000</td>\n",
              "      <td>0</td>\n",
              "      <td>0.000</td>\n",
              "      <td>0</td>\n",
              "      <td>0</td>\n",
              "      <td>1019.00</td>\n",
              "      <td>3</td>\n",
              "      <td>1507</td>\n",
              "      <td>0.1786</td>\n",
              "    </tr>\n",
              "    <tr>\n",
              "      <th>4446962</th>\n",
              "      <td>f4197cf374e6c0</td>\n",
              "      <td>408cdb5c46b2ac</td>\n",
              "      <td>ee854b837376d9</td>\n",
              "      <td>0</td>\n",
              "      <td>1</td>\n",
              "      <td>44.15</td>\n",
              "      <td>0</td>\n",
              "      <td>0</td>\n",
              "      <td>0</td>\n",
              "      <td>69</td>\n",
              "      <td>...</td>\n",
              "      <td>0</td>\n",
              "      <td>0.0000</td>\n",
              "      <td>0</td>\n",
              "      <td>0.000</td>\n",
              "      <td>0</td>\n",
              "      <td>0</td>\n",
              "      <td>81.70</td>\n",
              "      <td>6</td>\n",
              "      <td>0</td>\n",
              "      <td>0.2935</td>\n",
              "    </tr>\n",
              "    <tr>\n",
              "      <th>4446963</th>\n",
              "      <td>e1948b1295c88a</td>\n",
              "      <td>e26ac84bdf7cef</td>\n",
              "      <td>6d0cd12784f1ab</td>\n",
              "      <td>0</td>\n",
              "      <td>0</td>\n",
              "      <td>59.06</td>\n",
              "      <td>0</td>\n",
              "      <td>0</td>\n",
              "      <td>0</td>\n",
              "      <td>66</td>\n",
              "      <td>...</td>\n",
              "      <td>0</td>\n",
              "      <td>0.0000</td>\n",
              "      <td>0</td>\n",
              "      <td>2.184</td>\n",
              "      <td>0</td>\n",
              "      <td>0</td>\n",
              "      <td>788.70</td>\n",
              "      <td>4</td>\n",
              "      <td>0</td>\n",
              "      <td>0.4815</td>\n",
              "    </tr>\n",
              "    <tr>\n",
              "      <th>4446964</th>\n",
              "      <td>cc032cdd73b7ac</td>\n",
              "      <td>c2223f35411394</td>\n",
              "      <td>c9c701d0ad758a</td>\n",
              "      <td>0</td>\n",
              "      <td>4</td>\n",
              "      <td>180.40</td>\n",
              "      <td>1</td>\n",
              "      <td>1</td>\n",
              "      <td>2</td>\n",
              "      <td>11</td>\n",
              "      <td>...</td>\n",
              "      <td>2</td>\n",
              "      <td>0.0000</td>\n",
              "      <td>0</td>\n",
              "      <td>0.000</td>\n",
              "      <td>0</td>\n",
              "      <td>0</td>\n",
              "      <td>2748.00</td>\n",
              "      <td>8</td>\n",
              "      <td>0</td>\n",
              "      <td>0.8000</td>\n",
              "    </tr>\n",
              "    <tr>\n",
              "      <th>4446965</th>\n",
              "      <td>0d8e7ed728b6fd</td>\n",
              "      <td>8c74f72fedf5ff</td>\n",
              "      <td>62a16aabcc095c</td>\n",
              "      <td>0</td>\n",
              "      <td>2</td>\n",
              "      <td>268.00</td>\n",
              "      <td>0</td>\n",
              "      <td>0</td>\n",
              "      <td>1</td>\n",
              "      <td>18</td>\n",
              "      <td>...</td>\n",
              "      <td>0</td>\n",
              "      <td>1369.0000</td>\n",
              "      <td>0</td>\n",
              "      <td>0.000</td>\n",
              "      <td>0</td>\n",
              "      <td>0</td>\n",
              "      <td>1244.00</td>\n",
              "      <td>5</td>\n",
              "      <td>0</td>\n",
              "      <td>0.5464</td>\n",
              "    </tr>\n",
              "  </tbody>\n",
              "</table>\n",
              "<p>4446966 rows × 29 columns</p>\n",
              "</div>\n",
              "    <div class=\"colab-df-buttons\">\n",
              "\n",
              "  <div class=\"colab-df-container\">\n",
              "    <button class=\"colab-df-convert\" onclick=\"convertToInteractive('df-118aef8f-2434-482e-9255-063d7bb38a74')\"\n",
              "            title=\"Convert this dataframe to an interactive table.\"\n",
              "            style=\"display:none;\">\n",
              "\n",
              "  <svg xmlns=\"http://www.w3.org/2000/svg\" height=\"24px\" viewBox=\"0 -960 960 960\">\n",
              "    <path d=\"M120-120v-720h720v720H120Zm60-500h600v-160H180v160Zm220 220h160v-160H400v160Zm0 220h160v-160H400v160ZM180-400h160v-160H180v160Zm440 0h160v-160H620v160ZM180-180h160v-160H180v160Zm440 0h160v-160H620v160Z\"/>\n",
              "  </svg>\n",
              "    </button>\n",
              "\n",
              "  <style>\n",
              "    .colab-df-container {\n",
              "      display:flex;\n",
              "      gap: 12px;\n",
              "    }\n",
              "\n",
              "    .colab-df-convert {\n",
              "      background-color: #E8F0FE;\n",
              "      border: none;\n",
              "      border-radius: 50%;\n",
              "      cursor: pointer;\n",
              "      display: none;\n",
              "      fill: #1967D2;\n",
              "      height: 32px;\n",
              "      padding: 0 0 0 0;\n",
              "      width: 32px;\n",
              "    }\n",
              "\n",
              "    .colab-df-convert:hover {\n",
              "      background-color: #E2EBFA;\n",
              "      box-shadow: 0px 1px 2px rgba(60, 64, 67, 0.3), 0px 1px 3px 1px rgba(60, 64, 67, 0.15);\n",
              "      fill: #174EA6;\n",
              "    }\n",
              "\n",
              "    .colab-df-buttons div {\n",
              "      margin-bottom: 4px;\n",
              "    }\n",
              "\n",
              "    [theme=dark] .colab-df-convert {\n",
              "      background-color: #3B4455;\n",
              "      fill: #D2E3FC;\n",
              "    }\n",
              "\n",
              "    [theme=dark] .colab-df-convert:hover {\n",
              "      background-color: #434B5C;\n",
              "      box-shadow: 0px 1px 3px 1px rgba(0, 0, 0, 0.15);\n",
              "      filter: drop-shadow(0px 1px 2px rgba(0, 0, 0, 0.3));\n",
              "      fill: #FFFFFF;\n",
              "    }\n",
              "  </style>\n",
              "\n",
              "    <script>\n",
              "      const buttonEl =\n",
              "        document.querySelector('#df-118aef8f-2434-482e-9255-063d7bb38a74 button.colab-df-convert');\n",
              "      buttonEl.style.display =\n",
              "        google.colab.kernel.accessAllowed ? 'block' : 'none';\n",
              "\n",
              "      async function convertToInteractive(key) {\n",
              "        const element = document.querySelector('#df-118aef8f-2434-482e-9255-063d7bb38a74');\n",
              "        const dataTable =\n",
              "          await google.colab.kernel.invokeFunction('convertToInteractive',\n",
              "                                                    [key], {});\n",
              "        if (!dataTable) return;\n",
              "\n",
              "        const docLinkHtml = 'Like what you see? Visit the ' +\n",
              "          '<a target=\"_blank\" href=https://colab.research.google.com/notebooks/data_table.ipynb>data table notebook</a>'\n",
              "          + ' to learn more about interactive tables.';\n",
              "        element.innerHTML = '';\n",
              "        dataTable['output_type'] = 'display_data';\n",
              "        await google.colab.output.renderOutput(dataTable, element);\n",
              "        const docLink = document.createElement('div');\n",
              "        docLink.innerHTML = docLinkHtml;\n",
              "        element.appendChild(docLink);\n",
              "      }\n",
              "    </script>\n",
              "  </div>\n",
              "\n",
              "\n",
              "<div id=\"df-a48c236f-c0de-4839-a1ba-e640d2562b52\">\n",
              "  <button class=\"colab-df-quickchart\" onclick=\"quickchart('df-a48c236f-c0de-4839-a1ba-e640d2562b52')\"\n",
              "            title=\"Suggest charts.\"\n",
              "            style=\"display:none;\">\n",
              "\n",
              "<svg xmlns=\"http://www.w3.org/2000/svg\" height=\"24px\"viewBox=\"0 0 24 24\"\n",
              "     width=\"24px\">\n",
              "    <g>\n",
              "        <path d=\"M19 3H5c-1.1 0-2 .9-2 2v14c0 1.1.9 2 2 2h14c1.1 0 2-.9 2-2V5c0-1.1-.9-2-2-2zM9 17H7v-7h2v7zm4 0h-2V7h2v10zm4 0h-2v-4h2v4z\"/>\n",
              "    </g>\n",
              "</svg>\n",
              "  </button>\n",
              "\n",
              "<style>\n",
              "  .colab-df-quickchart {\n",
              "      --bg-color: #E8F0FE;\n",
              "      --fill-color: #1967D2;\n",
              "      --hover-bg-color: #E2EBFA;\n",
              "      --hover-fill-color: #174EA6;\n",
              "      --disabled-fill-color: #AAA;\n",
              "      --disabled-bg-color: #DDD;\n",
              "  }\n",
              "\n",
              "  [theme=dark] .colab-df-quickchart {\n",
              "      --bg-color: #3B4455;\n",
              "      --fill-color: #D2E3FC;\n",
              "      --hover-bg-color: #434B5C;\n",
              "      --hover-fill-color: #FFFFFF;\n",
              "      --disabled-bg-color: #3B4455;\n",
              "      --disabled-fill-color: #666;\n",
              "  }\n",
              "\n",
              "  .colab-df-quickchart {\n",
              "    background-color: var(--bg-color);\n",
              "    border: none;\n",
              "    border-radius: 50%;\n",
              "    cursor: pointer;\n",
              "    display: none;\n",
              "    fill: var(--fill-color);\n",
              "    height: 32px;\n",
              "    padding: 0;\n",
              "    width: 32px;\n",
              "  }\n",
              "\n",
              "  .colab-df-quickchart:hover {\n",
              "    background-color: var(--hover-bg-color);\n",
              "    box-shadow: 0 1px 2px rgba(60, 64, 67, 0.3), 0 1px 3px 1px rgba(60, 64, 67, 0.15);\n",
              "    fill: var(--button-hover-fill-color);\n",
              "  }\n",
              "\n",
              "  .colab-df-quickchart-complete:disabled,\n",
              "  .colab-df-quickchart-complete:disabled:hover {\n",
              "    background-color: var(--disabled-bg-color);\n",
              "    fill: var(--disabled-fill-color);\n",
              "    box-shadow: none;\n",
              "  }\n",
              "\n",
              "  .colab-df-spinner {\n",
              "    border: 2px solid var(--fill-color);\n",
              "    border-color: transparent;\n",
              "    border-bottom-color: var(--fill-color);\n",
              "    animation:\n",
              "      spin 1s steps(1) infinite;\n",
              "  }\n",
              "\n",
              "  @keyframes spin {\n",
              "    0% {\n",
              "      border-color: transparent;\n",
              "      border-bottom-color: var(--fill-color);\n",
              "      border-left-color: var(--fill-color);\n",
              "    }\n",
              "    20% {\n",
              "      border-color: transparent;\n",
              "      border-left-color: var(--fill-color);\n",
              "      border-top-color: var(--fill-color);\n",
              "    }\n",
              "    30% {\n",
              "      border-color: transparent;\n",
              "      border-left-color: var(--fill-color);\n",
              "      border-top-color: var(--fill-color);\n",
              "      border-right-color: var(--fill-color);\n",
              "    }\n",
              "    40% {\n",
              "      border-color: transparent;\n",
              "      border-right-color: var(--fill-color);\n",
              "      border-top-color: var(--fill-color);\n",
              "    }\n",
              "    60% {\n",
              "      border-color: transparent;\n",
              "      border-right-color: var(--fill-color);\n",
              "    }\n",
              "    80% {\n",
              "      border-color: transparent;\n",
              "      border-right-color: var(--fill-color);\n",
              "      border-bottom-color: var(--fill-color);\n",
              "    }\n",
              "    90% {\n",
              "      border-color: transparent;\n",
              "      border-bottom-color: var(--fill-color);\n",
              "    }\n",
              "  }\n",
              "</style>\n",
              "\n",
              "  <script>\n",
              "    async function quickchart(key) {\n",
              "      const quickchartButtonEl =\n",
              "        document.querySelector('#' + key + ' button');\n",
              "      quickchartButtonEl.disabled = true;  // To prevent multiple clicks.\n",
              "      quickchartButtonEl.classList.add('colab-df-spinner');\n",
              "      try {\n",
              "        const charts = await google.colab.kernel.invokeFunction(\n",
              "            'suggestCharts', [key], {});\n",
              "      } catch (error) {\n",
              "        console.error('Error during call to suggestCharts:', error);\n",
              "      }\n",
              "      quickchartButtonEl.classList.remove('colab-df-spinner');\n",
              "      quickchartButtonEl.classList.add('colab-df-quickchart-complete');\n",
              "    }\n",
              "    (() => {\n",
              "      let quickchartButtonEl =\n",
              "        document.querySelector('#df-a48c236f-c0de-4839-a1ba-e640d2562b52 button');\n",
              "      quickchartButtonEl.style.display =\n",
              "        google.colab.kernel.accessAllowed ? 'block' : 'none';\n",
              "    })();\n",
              "  </script>\n",
              "</div>\n",
              "    </div>\n",
              "  </div>\n"
            ]
          },
          "metadata": {},
          "execution_count": 66
        }
      ]
    },
    {
      "cell_type": "code",
      "source": [
        "test_df"
      ],
      "metadata": {
        "colab": {
          "base_uri": "https://localhost:8080/",
          "height": 444
        },
        "id": "Qiz_BhFQ7CwB",
        "outputId": "c20a058c-78f9-414f-ab10-1ff35bfb27a8"
      },
      "execution_count": 65,
      "outputs": [
        {
          "output_type": "execute_result",
          "data": {
            "text/plain": [
              "                     Id         groupId         matchId  assists  boosts  \\\n",
              "0        9329eb41e215eb  676b23c24e70d6  45b576ab7daa7f        0       0   \n",
              "1        639bd0dcd7bda8  430933124148dd  42a9a0b906c928        0       4   \n",
              "2        63d5c8ef8dfe91  0b45f5db20ba99  87e7e4477a048e        1       0   \n",
              "3        cf5b81422591d1  b7497dbdc77f4a  1b9a94f1af67f1        0       0   \n",
              "4        ee6a295187ba21  6604ce20a1d230  40754a93016066        0       4   \n",
              "...                 ...             ...             ...      ...     ...   \n",
              "1934169  a316c3a13887d5  80e82180c90951  f276da5fd73536        1       2   \n",
              "1934170  5312146b27d875  147264a127c56e  fb77cbfe094a6b        0       0   \n",
              "1934171  fc8818b5b32ad3  7bbb4779ebedd5  efb74d5f6e9779        0       0   \n",
              "1934172  a0f91e35f8458f  149a506a64c2b1  3a2cf335bc302f        1       2   \n",
              "1934173  3696fc9f3a42b2  c770d7feaf020f  9d4e2b6d506fd0        0       0   \n",
              "\n",
              "         damageDealt  DBNOs  headshotKills  heals  killPlace  ...  rankPoints  \\\n",
              "0              51.46      0              0      0         73  ...        1500   \n",
              "1             179.10      0              0      2         11  ...        1503   \n",
              "2              23.40      0              0      4         49  ...        1565   \n",
              "3              65.52      0              0      0         54  ...        1465   \n",
              "4             330.20      1              2      1          7  ...        1480   \n",
              "...              ...    ...            ...    ...        ...  ...         ...   \n",
              "1934169       381.00      3              0      7          4  ...          -1   \n",
              "1934170         0.00      0              0      0         64  ...          -1   \n",
              "1934171        91.96      0              0      3         24  ...        1482   \n",
              "1934172       138.60      0              0     12         25  ...        1456   \n",
              "1934173        19.80      0              0      0         86  ...          -1   \n",
              "\n",
              "         revives  rideDistance  roadKills  swimDistance teamKills  \\\n",
              "0              0           0.0          0         0.000         0   \n",
              "1              2        4669.0          0         0.000         0   \n",
              "2              0           0.0          0         0.000         0   \n",
              "3              0           0.0          0         0.000         0   \n",
              "4              1           0.0          0         0.000         0   \n",
              "...          ...           ...        ...           ...       ...   \n",
              "1934169        1           0.0          0         0.000         0   \n",
              "1934170        0           0.0          0         0.000         0   \n",
              "1934171        0           0.0          0         7.798         1   \n",
              "1934172        1           0.0          0         0.000         0   \n",
              "1934173        0           0.0          0         0.000         0   \n",
              "\n",
              "         vehicleDestroys  walkDistance  weaponsAcquired  winPoints  \n",
              "0                      0        588.00                1          0  \n",
              "1                      0       2017.00                6          0  \n",
              "2                      0        787.80                4          0  \n",
              "3                      0       1812.00                3          0  \n",
              "4                      0       2963.00                4          0  \n",
              "...                  ...           ...              ...        ...  \n",
              "1934169                0       1799.00                5       1526  \n",
              "1934170                0       1195.00                3       1496  \n",
              "1934171                0       3327.00                3          0  \n",
              "1934172                0       1893.00                4          0  \n",
              "1934173                0         68.89                0       1551  \n",
              "\n",
              "[1934174 rows x 28 columns]"
            ],
            "text/html": [
              "\n",
              "  <div id=\"df-226dffa5-082d-47b9-9c54-fd3ff10192da\" class=\"colab-df-container\">\n",
              "    <div>\n",
              "<style scoped>\n",
              "    .dataframe tbody tr th:only-of-type {\n",
              "        vertical-align: middle;\n",
              "    }\n",
              "\n",
              "    .dataframe tbody tr th {\n",
              "        vertical-align: top;\n",
              "    }\n",
              "\n",
              "    .dataframe thead th {\n",
              "        text-align: right;\n",
              "    }\n",
              "</style>\n",
              "<table border=\"1\" class=\"dataframe\">\n",
              "  <thead>\n",
              "    <tr style=\"text-align: right;\">\n",
              "      <th></th>\n",
              "      <th>Id</th>\n",
              "      <th>groupId</th>\n",
              "      <th>matchId</th>\n",
              "      <th>assists</th>\n",
              "      <th>boosts</th>\n",
              "      <th>damageDealt</th>\n",
              "      <th>DBNOs</th>\n",
              "      <th>headshotKills</th>\n",
              "      <th>heals</th>\n",
              "      <th>killPlace</th>\n",
              "      <th>...</th>\n",
              "      <th>rankPoints</th>\n",
              "      <th>revives</th>\n",
              "      <th>rideDistance</th>\n",
              "      <th>roadKills</th>\n",
              "      <th>swimDistance</th>\n",
              "      <th>teamKills</th>\n",
              "      <th>vehicleDestroys</th>\n",
              "      <th>walkDistance</th>\n",
              "      <th>weaponsAcquired</th>\n",
              "      <th>winPoints</th>\n",
              "    </tr>\n",
              "  </thead>\n",
              "  <tbody>\n",
              "    <tr>\n",
              "      <th>0</th>\n",
              "      <td>9329eb41e215eb</td>\n",
              "      <td>676b23c24e70d6</td>\n",
              "      <td>45b576ab7daa7f</td>\n",
              "      <td>0</td>\n",
              "      <td>0</td>\n",
              "      <td>51.46</td>\n",
              "      <td>0</td>\n",
              "      <td>0</td>\n",
              "      <td>0</td>\n",
              "      <td>73</td>\n",
              "      <td>...</td>\n",
              "      <td>1500</td>\n",
              "      <td>0</td>\n",
              "      <td>0.0</td>\n",
              "      <td>0</td>\n",
              "      <td>0.000</td>\n",
              "      <td>0</td>\n",
              "      <td>0</td>\n",
              "      <td>588.00</td>\n",
              "      <td>1</td>\n",
              "      <td>0</td>\n",
              "    </tr>\n",
              "    <tr>\n",
              "      <th>1</th>\n",
              "      <td>639bd0dcd7bda8</td>\n",
              "      <td>430933124148dd</td>\n",
              "      <td>42a9a0b906c928</td>\n",
              "      <td>0</td>\n",
              "      <td>4</td>\n",
              "      <td>179.10</td>\n",
              "      <td>0</td>\n",
              "      <td>0</td>\n",
              "      <td>2</td>\n",
              "      <td>11</td>\n",
              "      <td>...</td>\n",
              "      <td>1503</td>\n",
              "      <td>2</td>\n",
              "      <td>4669.0</td>\n",
              "      <td>0</td>\n",
              "      <td>0.000</td>\n",
              "      <td>0</td>\n",
              "      <td>0</td>\n",
              "      <td>2017.00</td>\n",
              "      <td>6</td>\n",
              "      <td>0</td>\n",
              "    </tr>\n",
              "    <tr>\n",
              "      <th>2</th>\n",
              "      <td>63d5c8ef8dfe91</td>\n",
              "      <td>0b45f5db20ba99</td>\n",
              "      <td>87e7e4477a048e</td>\n",
              "      <td>1</td>\n",
              "      <td>0</td>\n",
              "      <td>23.40</td>\n",
              "      <td>0</td>\n",
              "      <td>0</td>\n",
              "      <td>4</td>\n",
              "      <td>49</td>\n",
              "      <td>...</td>\n",
              "      <td>1565</td>\n",
              "      <td>0</td>\n",
              "      <td>0.0</td>\n",
              "      <td>0</td>\n",
              "      <td>0.000</td>\n",
              "      <td>0</td>\n",
              "      <td>0</td>\n",
              "      <td>787.80</td>\n",
              "      <td>4</td>\n",
              "      <td>0</td>\n",
              "    </tr>\n",
              "    <tr>\n",
              "      <th>3</th>\n",
              "      <td>cf5b81422591d1</td>\n",
              "      <td>b7497dbdc77f4a</td>\n",
              "      <td>1b9a94f1af67f1</td>\n",
              "      <td>0</td>\n",
              "      <td>0</td>\n",
              "      <td>65.52</td>\n",
              "      <td>0</td>\n",
              "      <td>0</td>\n",
              "      <td>0</td>\n",
              "      <td>54</td>\n",
              "      <td>...</td>\n",
              "      <td>1465</td>\n",
              "      <td>0</td>\n",
              "      <td>0.0</td>\n",
              "      <td>0</td>\n",
              "      <td>0.000</td>\n",
              "      <td>0</td>\n",
              "      <td>0</td>\n",
              "      <td>1812.00</td>\n",
              "      <td>3</td>\n",
              "      <td>0</td>\n",
              "    </tr>\n",
              "    <tr>\n",
              "      <th>4</th>\n",
              "      <td>ee6a295187ba21</td>\n",
              "      <td>6604ce20a1d230</td>\n",
              "      <td>40754a93016066</td>\n",
              "      <td>0</td>\n",
              "      <td>4</td>\n",
              "      <td>330.20</td>\n",
              "      <td>1</td>\n",
              "      <td>2</td>\n",
              "      <td>1</td>\n",
              "      <td>7</td>\n",
              "      <td>...</td>\n",
              "      <td>1480</td>\n",
              "      <td>1</td>\n",
              "      <td>0.0</td>\n",
              "      <td>0</td>\n",
              "      <td>0.000</td>\n",
              "      <td>0</td>\n",
              "      <td>0</td>\n",
              "      <td>2963.00</td>\n",
              "      <td>4</td>\n",
              "      <td>0</td>\n",
              "    </tr>\n",
              "    <tr>\n",
              "      <th>...</th>\n",
              "      <td>...</td>\n",
              "      <td>...</td>\n",
              "      <td>...</td>\n",
              "      <td>...</td>\n",
              "      <td>...</td>\n",
              "      <td>...</td>\n",
              "      <td>...</td>\n",
              "      <td>...</td>\n",
              "      <td>...</td>\n",
              "      <td>...</td>\n",
              "      <td>...</td>\n",
              "      <td>...</td>\n",
              "      <td>...</td>\n",
              "      <td>...</td>\n",
              "      <td>...</td>\n",
              "      <td>...</td>\n",
              "      <td>...</td>\n",
              "      <td>...</td>\n",
              "      <td>...</td>\n",
              "      <td>...</td>\n",
              "      <td>...</td>\n",
              "    </tr>\n",
              "    <tr>\n",
              "      <th>1934169</th>\n",
              "      <td>a316c3a13887d5</td>\n",
              "      <td>80e82180c90951</td>\n",
              "      <td>f276da5fd73536</td>\n",
              "      <td>1</td>\n",
              "      <td>2</td>\n",
              "      <td>381.00</td>\n",
              "      <td>3</td>\n",
              "      <td>0</td>\n",
              "      <td>7</td>\n",
              "      <td>4</td>\n",
              "      <td>...</td>\n",
              "      <td>-1</td>\n",
              "      <td>1</td>\n",
              "      <td>0.0</td>\n",
              "      <td>0</td>\n",
              "      <td>0.000</td>\n",
              "      <td>0</td>\n",
              "      <td>0</td>\n",
              "      <td>1799.00</td>\n",
              "      <td>5</td>\n",
              "      <td>1526</td>\n",
              "    </tr>\n",
              "    <tr>\n",
              "      <th>1934170</th>\n",
              "      <td>5312146b27d875</td>\n",
              "      <td>147264a127c56e</td>\n",
              "      <td>fb77cbfe094a6b</td>\n",
              "      <td>0</td>\n",
              "      <td>0</td>\n",
              "      <td>0.00</td>\n",
              "      <td>0</td>\n",
              "      <td>0</td>\n",
              "      <td>0</td>\n",
              "      <td>64</td>\n",
              "      <td>...</td>\n",
              "      <td>-1</td>\n",
              "      <td>0</td>\n",
              "      <td>0.0</td>\n",
              "      <td>0</td>\n",
              "      <td>0.000</td>\n",
              "      <td>0</td>\n",
              "      <td>0</td>\n",
              "      <td>1195.00</td>\n",
              "      <td>3</td>\n",
              "      <td>1496</td>\n",
              "    </tr>\n",
              "    <tr>\n",
              "      <th>1934171</th>\n",
              "      <td>fc8818b5b32ad3</td>\n",
              "      <td>7bbb4779ebedd5</td>\n",
              "      <td>efb74d5f6e9779</td>\n",
              "      <td>0</td>\n",
              "      <td>0</td>\n",
              "      <td>91.96</td>\n",
              "      <td>0</td>\n",
              "      <td>0</td>\n",
              "      <td>3</td>\n",
              "      <td>24</td>\n",
              "      <td>...</td>\n",
              "      <td>1482</td>\n",
              "      <td>0</td>\n",
              "      <td>0.0</td>\n",
              "      <td>0</td>\n",
              "      <td>7.798</td>\n",
              "      <td>1</td>\n",
              "      <td>0</td>\n",
              "      <td>3327.00</td>\n",
              "      <td>3</td>\n",
              "      <td>0</td>\n",
              "    </tr>\n",
              "    <tr>\n",
              "      <th>1934172</th>\n",
              "      <td>a0f91e35f8458f</td>\n",
              "      <td>149a506a64c2b1</td>\n",
              "      <td>3a2cf335bc302f</td>\n",
              "      <td>1</td>\n",
              "      <td>2</td>\n",
              "      <td>138.60</td>\n",
              "      <td>0</td>\n",
              "      <td>0</td>\n",
              "      <td>12</td>\n",
              "      <td>25</td>\n",
              "      <td>...</td>\n",
              "      <td>1456</td>\n",
              "      <td>1</td>\n",
              "      <td>0.0</td>\n",
              "      <td>0</td>\n",
              "      <td>0.000</td>\n",
              "      <td>0</td>\n",
              "      <td>0</td>\n",
              "      <td>1893.00</td>\n",
              "      <td>4</td>\n",
              "      <td>0</td>\n",
              "    </tr>\n",
              "    <tr>\n",
              "      <th>1934173</th>\n",
              "      <td>3696fc9f3a42b2</td>\n",
              "      <td>c770d7feaf020f</td>\n",
              "      <td>9d4e2b6d506fd0</td>\n",
              "      <td>0</td>\n",
              "      <td>0</td>\n",
              "      <td>19.80</td>\n",
              "      <td>0</td>\n",
              "      <td>0</td>\n",
              "      <td>0</td>\n",
              "      <td>86</td>\n",
              "      <td>...</td>\n",
              "      <td>-1</td>\n",
              "      <td>0</td>\n",
              "      <td>0.0</td>\n",
              "      <td>0</td>\n",
              "      <td>0.000</td>\n",
              "      <td>0</td>\n",
              "      <td>0</td>\n",
              "      <td>68.89</td>\n",
              "      <td>0</td>\n",
              "      <td>1551</td>\n",
              "    </tr>\n",
              "  </tbody>\n",
              "</table>\n",
              "<p>1934174 rows × 28 columns</p>\n",
              "</div>\n",
              "    <div class=\"colab-df-buttons\">\n",
              "\n",
              "  <div class=\"colab-df-container\">\n",
              "    <button class=\"colab-df-convert\" onclick=\"convertToInteractive('df-226dffa5-082d-47b9-9c54-fd3ff10192da')\"\n",
              "            title=\"Convert this dataframe to an interactive table.\"\n",
              "            style=\"display:none;\">\n",
              "\n",
              "  <svg xmlns=\"http://www.w3.org/2000/svg\" height=\"24px\" viewBox=\"0 -960 960 960\">\n",
              "    <path d=\"M120-120v-720h720v720H120Zm60-500h600v-160H180v160Zm220 220h160v-160H400v160Zm0 220h160v-160H400v160ZM180-400h160v-160H180v160Zm440 0h160v-160H620v160ZM180-180h160v-160H180v160Zm440 0h160v-160H620v160Z\"/>\n",
              "  </svg>\n",
              "    </button>\n",
              "\n",
              "  <style>\n",
              "    .colab-df-container {\n",
              "      display:flex;\n",
              "      gap: 12px;\n",
              "    }\n",
              "\n",
              "    .colab-df-convert {\n",
              "      background-color: #E8F0FE;\n",
              "      border: none;\n",
              "      border-radius: 50%;\n",
              "      cursor: pointer;\n",
              "      display: none;\n",
              "      fill: #1967D2;\n",
              "      height: 32px;\n",
              "      padding: 0 0 0 0;\n",
              "      width: 32px;\n",
              "    }\n",
              "\n",
              "    .colab-df-convert:hover {\n",
              "      background-color: #E2EBFA;\n",
              "      box-shadow: 0px 1px 2px rgba(60, 64, 67, 0.3), 0px 1px 3px 1px rgba(60, 64, 67, 0.15);\n",
              "      fill: #174EA6;\n",
              "    }\n",
              "\n",
              "    .colab-df-buttons div {\n",
              "      margin-bottom: 4px;\n",
              "    }\n",
              "\n",
              "    [theme=dark] .colab-df-convert {\n",
              "      background-color: #3B4455;\n",
              "      fill: #D2E3FC;\n",
              "    }\n",
              "\n",
              "    [theme=dark] .colab-df-convert:hover {\n",
              "      background-color: #434B5C;\n",
              "      box-shadow: 0px 1px 3px 1px rgba(0, 0, 0, 0.15);\n",
              "      filter: drop-shadow(0px 1px 2px rgba(0, 0, 0, 0.3));\n",
              "      fill: #FFFFFF;\n",
              "    }\n",
              "  </style>\n",
              "\n",
              "    <script>\n",
              "      const buttonEl =\n",
              "        document.querySelector('#df-226dffa5-082d-47b9-9c54-fd3ff10192da button.colab-df-convert');\n",
              "      buttonEl.style.display =\n",
              "        google.colab.kernel.accessAllowed ? 'block' : 'none';\n",
              "\n",
              "      async function convertToInteractive(key) {\n",
              "        const element = document.querySelector('#df-226dffa5-082d-47b9-9c54-fd3ff10192da');\n",
              "        const dataTable =\n",
              "          await google.colab.kernel.invokeFunction('convertToInteractive',\n",
              "                                                    [key], {});\n",
              "        if (!dataTable) return;\n",
              "\n",
              "        const docLinkHtml = 'Like what you see? Visit the ' +\n",
              "          '<a target=\"_blank\" href=https://colab.research.google.com/notebooks/data_table.ipynb>data table notebook</a>'\n",
              "          + ' to learn more about interactive tables.';\n",
              "        element.innerHTML = '';\n",
              "        dataTable['output_type'] = 'display_data';\n",
              "        await google.colab.output.renderOutput(dataTable, element);\n",
              "        const docLink = document.createElement('div');\n",
              "        docLink.innerHTML = docLinkHtml;\n",
              "        element.appendChild(docLink);\n",
              "      }\n",
              "    </script>\n",
              "  </div>\n",
              "\n",
              "\n",
              "<div id=\"df-d14f7c16-6ffe-4b05-bc1b-04e7f200aa63\">\n",
              "  <button class=\"colab-df-quickchart\" onclick=\"quickchart('df-d14f7c16-6ffe-4b05-bc1b-04e7f200aa63')\"\n",
              "            title=\"Suggest charts.\"\n",
              "            style=\"display:none;\">\n",
              "\n",
              "<svg xmlns=\"http://www.w3.org/2000/svg\" height=\"24px\"viewBox=\"0 0 24 24\"\n",
              "     width=\"24px\">\n",
              "    <g>\n",
              "        <path d=\"M19 3H5c-1.1 0-2 .9-2 2v14c0 1.1.9 2 2 2h14c1.1 0 2-.9 2-2V5c0-1.1-.9-2-2-2zM9 17H7v-7h2v7zm4 0h-2V7h2v10zm4 0h-2v-4h2v4z\"/>\n",
              "    </g>\n",
              "</svg>\n",
              "  </button>\n",
              "\n",
              "<style>\n",
              "  .colab-df-quickchart {\n",
              "      --bg-color: #E8F0FE;\n",
              "      --fill-color: #1967D2;\n",
              "      --hover-bg-color: #E2EBFA;\n",
              "      --hover-fill-color: #174EA6;\n",
              "      --disabled-fill-color: #AAA;\n",
              "      --disabled-bg-color: #DDD;\n",
              "  }\n",
              "\n",
              "  [theme=dark] .colab-df-quickchart {\n",
              "      --bg-color: #3B4455;\n",
              "      --fill-color: #D2E3FC;\n",
              "      --hover-bg-color: #434B5C;\n",
              "      --hover-fill-color: #FFFFFF;\n",
              "      --disabled-bg-color: #3B4455;\n",
              "      --disabled-fill-color: #666;\n",
              "  }\n",
              "\n",
              "  .colab-df-quickchart {\n",
              "    background-color: var(--bg-color);\n",
              "    border: none;\n",
              "    border-radius: 50%;\n",
              "    cursor: pointer;\n",
              "    display: none;\n",
              "    fill: var(--fill-color);\n",
              "    height: 32px;\n",
              "    padding: 0;\n",
              "    width: 32px;\n",
              "  }\n",
              "\n",
              "  .colab-df-quickchart:hover {\n",
              "    background-color: var(--hover-bg-color);\n",
              "    box-shadow: 0 1px 2px rgba(60, 64, 67, 0.3), 0 1px 3px 1px rgba(60, 64, 67, 0.15);\n",
              "    fill: var(--button-hover-fill-color);\n",
              "  }\n",
              "\n",
              "  .colab-df-quickchart-complete:disabled,\n",
              "  .colab-df-quickchart-complete:disabled:hover {\n",
              "    background-color: var(--disabled-bg-color);\n",
              "    fill: var(--disabled-fill-color);\n",
              "    box-shadow: none;\n",
              "  }\n",
              "\n",
              "  .colab-df-spinner {\n",
              "    border: 2px solid var(--fill-color);\n",
              "    border-color: transparent;\n",
              "    border-bottom-color: var(--fill-color);\n",
              "    animation:\n",
              "      spin 1s steps(1) infinite;\n",
              "  }\n",
              "\n",
              "  @keyframes spin {\n",
              "    0% {\n",
              "      border-color: transparent;\n",
              "      border-bottom-color: var(--fill-color);\n",
              "      border-left-color: var(--fill-color);\n",
              "    }\n",
              "    20% {\n",
              "      border-color: transparent;\n",
              "      border-left-color: var(--fill-color);\n",
              "      border-top-color: var(--fill-color);\n",
              "    }\n",
              "    30% {\n",
              "      border-color: transparent;\n",
              "      border-left-color: var(--fill-color);\n",
              "      border-top-color: var(--fill-color);\n",
              "      border-right-color: var(--fill-color);\n",
              "    }\n",
              "    40% {\n",
              "      border-color: transparent;\n",
              "      border-right-color: var(--fill-color);\n",
              "      border-top-color: var(--fill-color);\n",
              "    }\n",
              "    60% {\n",
              "      border-color: transparent;\n",
              "      border-right-color: var(--fill-color);\n",
              "    }\n",
              "    80% {\n",
              "      border-color: transparent;\n",
              "      border-right-color: var(--fill-color);\n",
              "      border-bottom-color: var(--fill-color);\n",
              "    }\n",
              "    90% {\n",
              "      border-color: transparent;\n",
              "      border-bottom-color: var(--fill-color);\n",
              "    }\n",
              "  }\n",
              "</style>\n",
              "\n",
              "  <script>\n",
              "    async function quickchart(key) {\n",
              "      const quickchartButtonEl =\n",
              "        document.querySelector('#' + key + ' button');\n",
              "      quickchartButtonEl.disabled = true;  // To prevent multiple clicks.\n",
              "      quickchartButtonEl.classList.add('colab-df-spinner');\n",
              "      try {\n",
              "        const charts = await google.colab.kernel.invokeFunction(\n",
              "            'suggestCharts', [key], {});\n",
              "      } catch (error) {\n",
              "        console.error('Error during call to suggestCharts:', error);\n",
              "      }\n",
              "      quickchartButtonEl.classList.remove('colab-df-spinner');\n",
              "      quickchartButtonEl.classList.add('colab-df-quickchart-complete');\n",
              "    }\n",
              "    (() => {\n",
              "      let quickchartButtonEl =\n",
              "        document.querySelector('#df-d14f7c16-6ffe-4b05-bc1b-04e7f200aa63 button');\n",
              "      quickchartButtonEl.style.display =\n",
              "        google.colab.kernel.accessAllowed ? 'block' : 'none';\n",
              "    })();\n",
              "  </script>\n",
              "</div>\n",
              "    </div>\n",
              "  </div>\n"
            ]
          },
          "metadata": {},
          "execution_count": 65
        }
      ]
    },
    {
      "cell_type": "code",
      "source": [],
      "metadata": {
        "id": "Ykxfh5R-7JL9"
      },
      "execution_count": null,
      "outputs": []
    },
    {
      "cell_type": "markdown",
      "source": [
        "# Preparation for Machine Learning"
      ],
      "metadata": {
        "id": "ESIkk8qM7kzy"
      }
    },
    {
      "cell_type": "code",
      "source": [
        "from sklearn_pandas import DataFrameMapper\n",
        "from sklearn.preprocessing import LabelEncoder, StandardScaler\n",
        "from pandas.api.types import is_string_dtype, is_numeric_dtype\n",
        "from sklearn.ensemble import RandomForestRegressor, RandomForestClassifier\n",
        "from sklearn.tree import export_graphviz"
      ],
      "metadata": {
        "id": "GDJpH0H-7k8k"
      },
      "execution_count": 64,
      "outputs": []
    },
    {
      "cell_type": "code",
      "source": [
        "sample = 500000"
      ],
      "metadata": {
        "id": "rMFp1BkW7lWu"
      },
      "execution_count": 67,
      "outputs": []
    },
    {
      "cell_type": "code",
      "source": [
        "sampled_df = train_df.sample(n=sample)\n",
        "sampled_df.shape"
      ],
      "metadata": {
        "colab": {
          "base_uri": "https://localhost:8080/"
        },
        "id": "kqyRLpBn8jn-",
        "outputId": "d371064c-80f6-405e-e7f4-ed4827733e2b"
      },
      "execution_count": 70,
      "outputs": [
        {
          "output_type": "execute_result",
          "data": {
            "text/plain": [
              "(500000, 29)"
            ]
          },
          "metadata": {},
          "execution_count": 70
        }
      ]
    },
    {
      "cell_type": "code",
      "source": [
        "X = sampled_df.drop(columns = ['Id', 'groupId', 'matchId', 'matchType', 'winPlacePerc'])\n",
        "y = sampled_df['winPlacePerc']"
      ],
      "metadata": {
        "id": "dS0AwmE68lON"
      },
      "execution_count": 81,
      "outputs": []
    },
    {
      "cell_type": "code",
      "source": [
        "X.columns"
      ],
      "metadata": {
        "colab": {
          "base_uri": "https://localhost:8080/"
        },
        "id": "udhPce7f-4CM",
        "outputId": "d356125b-6a78-405c-a7a9-b9f803ae6490"
      },
      "execution_count": 79,
      "outputs": [
        {
          "output_type": "execute_result",
          "data": {
            "text/plain": [
              "Index(['Id', 'groupId', 'matchId', 'assists', 'boosts', 'damageDealt', 'DBNOs',\n",
              "       'headshotKills', 'heals', 'killPlace', 'killPoints', 'kills',\n",
              "       'killStreaks', 'longestKill', 'matchDuration', 'matchType', 'maxPlace',\n",
              "       'numGroups', 'rankPoints', 'revives', 'rideDistance', 'roadKills',\n",
              "       'swimDistance', 'teamKills', 'vehicleDestroys', 'walkDistance',\n",
              "       'weaponsAcquired', 'winPoints'],\n",
              "      dtype='object')"
            ]
          },
          "metadata": {},
          "execution_count": 79
        }
      ]
    },
    {
      "cell_type": "code",
      "source": [
        "X.info()"
      ],
      "metadata": {
        "colab": {
          "base_uri": "https://localhost:8080/"
        },
        "id": "dRnItcWc9mSB",
        "outputId": "b25ab811-6193-468d-90a6-2121905be2eb"
      },
      "execution_count": 82,
      "outputs": [
        {
          "output_type": "stream",
          "name": "stdout",
          "text": [
            "<class 'pandas.core.frame.DataFrame'>\n",
            "Int64Index: 500000 entries, 3350763 to 1302003\n",
            "Data columns (total 24 columns):\n",
            " #   Column           Non-Null Count   Dtype  \n",
            "---  ------           --------------   -----  \n",
            " 0   assists          500000 non-null  int64  \n",
            " 1   boosts           500000 non-null  int64  \n",
            " 2   damageDealt      500000 non-null  float64\n",
            " 3   DBNOs            500000 non-null  int64  \n",
            " 4   headshotKills    500000 non-null  int64  \n",
            " 5   heals            500000 non-null  int64  \n",
            " 6   killPlace        500000 non-null  int64  \n",
            " 7   killPoints       500000 non-null  int64  \n",
            " 8   kills            500000 non-null  int64  \n",
            " 9   killStreaks      500000 non-null  int64  \n",
            " 10  longestKill      500000 non-null  float64\n",
            " 11  matchDuration    500000 non-null  int64  \n",
            " 12  maxPlace         500000 non-null  int64  \n",
            " 13  numGroups        500000 non-null  int64  \n",
            " 14  rankPoints       500000 non-null  int64  \n",
            " 15  revives          500000 non-null  int64  \n",
            " 16  rideDistance     500000 non-null  float64\n",
            " 17  roadKills        500000 non-null  int64  \n",
            " 18  swimDistance     500000 non-null  float64\n",
            " 19  teamKills        500000 non-null  int64  \n",
            " 20  vehicleDestroys  500000 non-null  int64  \n",
            " 21  walkDistance     500000 non-null  float64\n",
            " 22  weaponsAcquired  500000 non-null  int64  \n",
            " 23  winPoints        500000 non-null  int64  \n",
            "dtypes: float64(5), int64(19)\n",
            "memory usage: 95.4 MB\n"
          ]
        }
      ]
    },
    {
      "cell_type": "markdown",
      "source": [
        "# split"
      ],
      "metadata": {
        "id": "LU2nmTlu9PVl"
      }
    },
    {
      "cell_type": "code",
      "source": [
        "from sklearn.model_selection import train_test_split"
      ],
      "metadata": {
        "id": "7ua-CM4f9Hue"
      },
      "execution_count": 74,
      "outputs": []
    },
    {
      "cell_type": "code",
      "source": [
        "X_train, X_val, y_train, y_val = train_test_split(X, y, test_size=.2, random_state=True, shuffle=True)"
      ],
      "metadata": {
        "id": "gurBICpA9TaA"
      },
      "execution_count": 83,
      "outputs": []
    },
    {
      "cell_type": "markdown",
      "source": [
        "# Set metrics (MAE)\n",
        "> This is the metric used by Kaggle in this competition\n"
      ],
      "metadata": {
        "id": "4aOdlC_79F7u"
      }
    },
    {
      "cell_type": "code",
      "source": [
        "from sklearn.metrics import mean_absolute_error\n",
        "\n",
        "def print_score(m : RandomForestRegressor):\n",
        "    res = ['mae train: ', mean_absolute_error(m.predict(X_train), y_train),\n",
        "           'mae val: ', mean_absolute_error(m.predict(X_val), y_val)]\n",
        "    if hasattr(m, 'oob_score_'): res.append(m.oob_score_)\n",
        "    print(res)"
      ],
      "metadata": {
        "id": "gX52qgen85Jr"
      },
      "execution_count": 77,
      "outputs": []
    },
    {
      "cell_type": "markdown",
      "source": [
        "# First basic Random Forest Mode"
      ],
      "metadata": {
        "id": "oiTdPo2M9A2v"
      }
    },
    {
      "cell_type": "code",
      "source": [
        "# 24개의 columns\n",
        "m1 = RandomForestRegressor(n_estimators=40, min_samples_leaf=3,\n",
        "                           max_features='sqrt', n_jobs=-1)\n",
        "m1.fit(X_train, y_train)\n",
        "print_score(m1)"
      ],
      "metadata": {
        "colab": {
          "base_uri": "https://localhost:8080/"
        },
        "id": "Rcvp0Bzp-RGO",
        "outputId": "5a3b2b38-b9c5-439c-ff70-46b4f94b672d"
      },
      "execution_count": 84,
      "outputs": [
        {
          "output_type": "stream",
          "name": "stdout",
          "text": [
            "['mae train: ', 0.043680157407266, 'mae val: ', 0.06432627794497543]\n"
          ]
        }
      ]
    },
    {
      "cell_type": "code",
      "source": [
        "def rf_feat_importance(m, df):\n",
        "    return pd.DataFrame({'cols':df.columns, 'imp':m.feature_importances_}\n",
        "                       ).sort_values('imp', ascending=False)"
      ],
      "metadata": {
        "id": "DPPlgUNy_tW2"
      },
      "execution_count": 86,
      "outputs": []
    },
    {
      "cell_type": "code",
      "source": [
        "fi = rf_feat_importance(m1, X); fi[:10]"
      ],
      "metadata": {
        "colab": {
          "base_uri": "https://localhost:8080/",
          "height": 363
        },
        "id": "lIDNHlXt-Zjg",
        "outputId": "91be05e2-dbe9-4e99-fb8d-64f6d1557f52"
      },
      "execution_count": 87,
      "outputs": [
        {
          "output_type": "execute_result",
          "data": {
            "text/plain": [
              "               cols       imp\n",
              "21     walkDistance  0.279300\n",
              "6         killPlace  0.253619\n",
              "1            boosts  0.097748\n",
              "22  weaponsAcquired  0.083206\n",
              "5             heals  0.065996\n",
              "10      longestKill  0.046114\n",
              "16     rideDistance  0.035954\n",
              "2       damageDealt  0.020433\n",
              "8             kills  0.019933\n",
              "9       killStreaks  0.017218"
            ],
            "text/html": [
              "\n",
              "  <div id=\"df-87774592-be6f-4ca4-a56a-f2886e60694d\" class=\"colab-df-container\">\n",
              "    <div>\n",
              "<style scoped>\n",
              "    .dataframe tbody tr th:only-of-type {\n",
              "        vertical-align: middle;\n",
              "    }\n",
              "\n",
              "    .dataframe tbody tr th {\n",
              "        vertical-align: top;\n",
              "    }\n",
              "\n",
              "    .dataframe thead th {\n",
              "        text-align: right;\n",
              "    }\n",
              "</style>\n",
              "<table border=\"1\" class=\"dataframe\">\n",
              "  <thead>\n",
              "    <tr style=\"text-align: right;\">\n",
              "      <th></th>\n",
              "      <th>cols</th>\n",
              "      <th>imp</th>\n",
              "    </tr>\n",
              "  </thead>\n",
              "  <tbody>\n",
              "    <tr>\n",
              "      <th>21</th>\n",
              "      <td>walkDistance</td>\n",
              "      <td>0.279300</td>\n",
              "    </tr>\n",
              "    <tr>\n",
              "      <th>6</th>\n",
              "      <td>killPlace</td>\n",
              "      <td>0.253619</td>\n",
              "    </tr>\n",
              "    <tr>\n",
              "      <th>1</th>\n",
              "      <td>boosts</td>\n",
              "      <td>0.097748</td>\n",
              "    </tr>\n",
              "    <tr>\n",
              "      <th>22</th>\n",
              "      <td>weaponsAcquired</td>\n",
              "      <td>0.083206</td>\n",
              "    </tr>\n",
              "    <tr>\n",
              "      <th>5</th>\n",
              "      <td>heals</td>\n",
              "      <td>0.065996</td>\n",
              "    </tr>\n",
              "    <tr>\n",
              "      <th>10</th>\n",
              "      <td>longestKill</td>\n",
              "      <td>0.046114</td>\n",
              "    </tr>\n",
              "    <tr>\n",
              "      <th>16</th>\n",
              "      <td>rideDistance</td>\n",
              "      <td>0.035954</td>\n",
              "    </tr>\n",
              "    <tr>\n",
              "      <th>2</th>\n",
              "      <td>damageDealt</td>\n",
              "      <td>0.020433</td>\n",
              "    </tr>\n",
              "    <tr>\n",
              "      <th>8</th>\n",
              "      <td>kills</td>\n",
              "      <td>0.019933</td>\n",
              "    </tr>\n",
              "    <tr>\n",
              "      <th>9</th>\n",
              "      <td>killStreaks</td>\n",
              "      <td>0.017218</td>\n",
              "    </tr>\n",
              "  </tbody>\n",
              "</table>\n",
              "</div>\n",
              "    <div class=\"colab-df-buttons\">\n",
              "\n",
              "  <div class=\"colab-df-container\">\n",
              "    <button class=\"colab-df-convert\" onclick=\"convertToInteractive('df-87774592-be6f-4ca4-a56a-f2886e60694d')\"\n",
              "            title=\"Convert this dataframe to an interactive table.\"\n",
              "            style=\"display:none;\">\n",
              "\n",
              "  <svg xmlns=\"http://www.w3.org/2000/svg\" height=\"24px\" viewBox=\"0 -960 960 960\">\n",
              "    <path d=\"M120-120v-720h720v720H120Zm60-500h600v-160H180v160Zm220 220h160v-160H400v160Zm0 220h160v-160H400v160ZM180-400h160v-160H180v160Zm440 0h160v-160H620v160ZM180-180h160v-160H180v160Zm440 0h160v-160H620v160Z\"/>\n",
              "  </svg>\n",
              "    </button>\n",
              "\n",
              "  <style>\n",
              "    .colab-df-container {\n",
              "      display:flex;\n",
              "      gap: 12px;\n",
              "    }\n",
              "\n",
              "    .colab-df-convert {\n",
              "      background-color: #E8F0FE;\n",
              "      border: none;\n",
              "      border-radius: 50%;\n",
              "      cursor: pointer;\n",
              "      display: none;\n",
              "      fill: #1967D2;\n",
              "      height: 32px;\n",
              "      padding: 0 0 0 0;\n",
              "      width: 32px;\n",
              "    }\n",
              "\n",
              "    .colab-df-convert:hover {\n",
              "      background-color: #E2EBFA;\n",
              "      box-shadow: 0px 1px 2px rgba(60, 64, 67, 0.3), 0px 1px 3px 1px rgba(60, 64, 67, 0.15);\n",
              "      fill: #174EA6;\n",
              "    }\n",
              "\n",
              "    .colab-df-buttons div {\n",
              "      margin-bottom: 4px;\n",
              "    }\n",
              "\n",
              "    [theme=dark] .colab-df-convert {\n",
              "      background-color: #3B4455;\n",
              "      fill: #D2E3FC;\n",
              "    }\n",
              "\n",
              "    [theme=dark] .colab-df-convert:hover {\n",
              "      background-color: #434B5C;\n",
              "      box-shadow: 0px 1px 3px 1px rgba(0, 0, 0, 0.15);\n",
              "      filter: drop-shadow(0px 1px 2px rgba(0, 0, 0, 0.3));\n",
              "      fill: #FFFFFF;\n",
              "    }\n",
              "  </style>\n",
              "\n",
              "    <script>\n",
              "      const buttonEl =\n",
              "        document.querySelector('#df-87774592-be6f-4ca4-a56a-f2886e60694d button.colab-df-convert');\n",
              "      buttonEl.style.display =\n",
              "        google.colab.kernel.accessAllowed ? 'block' : 'none';\n",
              "\n",
              "      async function convertToInteractive(key) {\n",
              "        const element = document.querySelector('#df-87774592-be6f-4ca4-a56a-f2886e60694d');\n",
              "        const dataTable =\n",
              "          await google.colab.kernel.invokeFunction('convertToInteractive',\n",
              "                                                    [key], {});\n",
              "        if (!dataTable) return;\n",
              "\n",
              "        const docLinkHtml = 'Like what you see? Visit the ' +\n",
              "          '<a target=\"_blank\" href=https://colab.research.google.com/notebooks/data_table.ipynb>data table notebook</a>'\n",
              "          + ' to learn more about interactive tables.';\n",
              "        element.innerHTML = '';\n",
              "        dataTable['output_type'] = 'display_data';\n",
              "        await google.colab.output.renderOutput(dataTable, element);\n",
              "        const docLink = document.createElement('div');\n",
              "        docLink.innerHTML = docLinkHtml;\n",
              "        element.appendChild(docLink);\n",
              "      }\n",
              "    </script>\n",
              "  </div>\n",
              "\n",
              "\n",
              "<div id=\"df-8b03d42a-4b1f-42e7-8121-7856f8b5cc1d\">\n",
              "  <button class=\"colab-df-quickchart\" onclick=\"quickchart('df-8b03d42a-4b1f-42e7-8121-7856f8b5cc1d')\"\n",
              "            title=\"Suggest charts.\"\n",
              "            style=\"display:none;\">\n",
              "\n",
              "<svg xmlns=\"http://www.w3.org/2000/svg\" height=\"24px\"viewBox=\"0 0 24 24\"\n",
              "     width=\"24px\">\n",
              "    <g>\n",
              "        <path d=\"M19 3H5c-1.1 0-2 .9-2 2v14c0 1.1.9 2 2 2h14c1.1 0 2-.9 2-2V5c0-1.1-.9-2-2-2zM9 17H7v-7h2v7zm4 0h-2V7h2v10zm4 0h-2v-4h2v4z\"/>\n",
              "    </g>\n",
              "</svg>\n",
              "  </button>\n",
              "\n",
              "<style>\n",
              "  .colab-df-quickchart {\n",
              "      --bg-color: #E8F0FE;\n",
              "      --fill-color: #1967D2;\n",
              "      --hover-bg-color: #E2EBFA;\n",
              "      --hover-fill-color: #174EA6;\n",
              "      --disabled-fill-color: #AAA;\n",
              "      --disabled-bg-color: #DDD;\n",
              "  }\n",
              "\n",
              "  [theme=dark] .colab-df-quickchart {\n",
              "      --bg-color: #3B4455;\n",
              "      --fill-color: #D2E3FC;\n",
              "      --hover-bg-color: #434B5C;\n",
              "      --hover-fill-color: #FFFFFF;\n",
              "      --disabled-bg-color: #3B4455;\n",
              "      --disabled-fill-color: #666;\n",
              "  }\n",
              "\n",
              "  .colab-df-quickchart {\n",
              "    background-color: var(--bg-color);\n",
              "    border: none;\n",
              "    border-radius: 50%;\n",
              "    cursor: pointer;\n",
              "    display: none;\n",
              "    fill: var(--fill-color);\n",
              "    height: 32px;\n",
              "    padding: 0;\n",
              "    width: 32px;\n",
              "  }\n",
              "\n",
              "  .colab-df-quickchart:hover {\n",
              "    background-color: var(--hover-bg-color);\n",
              "    box-shadow: 0 1px 2px rgba(60, 64, 67, 0.3), 0 1px 3px 1px rgba(60, 64, 67, 0.15);\n",
              "    fill: var(--button-hover-fill-color);\n",
              "  }\n",
              "\n",
              "  .colab-df-quickchart-complete:disabled,\n",
              "  .colab-df-quickchart-complete:disabled:hover {\n",
              "    background-color: var(--disabled-bg-color);\n",
              "    fill: var(--disabled-fill-color);\n",
              "    box-shadow: none;\n",
              "  }\n",
              "\n",
              "  .colab-df-spinner {\n",
              "    border: 2px solid var(--fill-color);\n",
              "    border-color: transparent;\n",
              "    border-bottom-color: var(--fill-color);\n",
              "    animation:\n",
              "      spin 1s steps(1) infinite;\n",
              "  }\n",
              "\n",
              "  @keyframes spin {\n",
              "    0% {\n",
              "      border-color: transparent;\n",
              "      border-bottom-color: var(--fill-color);\n",
              "      border-left-color: var(--fill-color);\n",
              "    }\n",
              "    20% {\n",
              "      border-color: transparent;\n",
              "      border-left-color: var(--fill-color);\n",
              "      border-top-color: var(--fill-color);\n",
              "    }\n",
              "    30% {\n",
              "      border-color: transparent;\n",
              "      border-left-color: var(--fill-color);\n",
              "      border-top-color: var(--fill-color);\n",
              "      border-right-color: var(--fill-color);\n",
              "    }\n",
              "    40% {\n",
              "      border-color: transparent;\n",
              "      border-right-color: var(--fill-color);\n",
              "      border-top-color: var(--fill-color);\n",
              "    }\n",
              "    60% {\n",
              "      border-color: transparent;\n",
              "      border-right-color: var(--fill-color);\n",
              "    }\n",
              "    80% {\n",
              "      border-color: transparent;\n",
              "      border-right-color: var(--fill-color);\n",
              "      border-bottom-color: var(--fill-color);\n",
              "    }\n",
              "    90% {\n",
              "      border-color: transparent;\n",
              "      border-bottom-color: var(--fill-color);\n",
              "    }\n",
              "  }\n",
              "</style>\n",
              "\n",
              "  <script>\n",
              "    async function quickchart(key) {\n",
              "      const quickchartButtonEl =\n",
              "        document.querySelector('#' + key + ' button');\n",
              "      quickchartButtonEl.disabled = true;  // To prevent multiple clicks.\n",
              "      quickchartButtonEl.classList.add('colab-df-spinner');\n",
              "      try {\n",
              "        const charts = await google.colab.kernel.invokeFunction(\n",
              "            'suggestCharts', [key], {});\n",
              "      } catch (error) {\n",
              "        console.error('Error during call to suggestCharts:', error);\n",
              "      }\n",
              "      quickchartButtonEl.classList.remove('colab-df-spinner');\n",
              "      quickchartButtonEl.classList.add('colab-df-quickchart-complete');\n",
              "    }\n",
              "    (() => {\n",
              "      let quickchartButtonEl =\n",
              "        document.querySelector('#df-8b03d42a-4b1f-42e7-8121-7856f8b5cc1d button');\n",
              "      quickchartButtonEl.style.display =\n",
              "        google.colab.kernel.accessAllowed ? 'block' : 'none';\n",
              "    })();\n",
              "  </script>\n",
              "</div>\n",
              "    </div>\n",
              "  </div>\n"
            ]
          },
          "metadata": {},
          "execution_count": 87
        }
      ]
    },
    {
      "cell_type": "code",
      "source": [
        "fi.shape"
      ],
      "metadata": {
        "colab": {
          "base_uri": "https://localhost:8080/"
        },
        "id": "FVlpeNqL_8T5",
        "outputId": "8a587fc0-4957-48a4-eae1-40442b057871"
      },
      "execution_count": 88,
      "outputs": [
        {
          "output_type": "execute_result",
          "data": {
            "text/plain": [
              "(24, 2)"
            ]
          },
          "metadata": {},
          "execution_count": 88
        }
      ]
    },
    {
      "cell_type": "markdown",
      "source": [
        "# 시각화 팔레트 설정"
      ],
      "metadata": {
        "id": "6IKMPfxnDmy4"
      }
    },
    {
      "cell_type": "code",
      "source": [
        "my_palette = sns.color_palette(palette=\"rainbow\", n_colors=24, as_cmap=True)"
      ],
      "metadata": {
        "id": "3-_WG3SJAo7_"
      },
      "execution_count": 100,
      "outputs": []
    },
    {
      "cell_type": "code",
      "source": [
        "my_palette"
      ],
      "metadata": {
        "colab": {
          "base_uri": "https://localhost:8080/",
          "height": 122
        },
        "id": "na8E34J_BGo5",
        "outputId": "e06eaa66-7b05-4153-e208-66ec10027c86"
      },
      "execution_count": 101,
      "outputs": [
        {
          "output_type": "execute_result",
          "data": {
            "text/plain": [
              "<matplotlib.colors.LinearSegmentedColormap at 0x7896eb9eef80>"
            ],
            "text/html": [
              "<div style=\"vertical-align: middle;\"><strong>rainbow</strong> </div><div class=\"cmap\"><img alt=\"rainbow colormap\" title=\"rainbow\" style=\"border: 1px solid #555;\" src=\"data:image/png;base64,iVBORw0KGgoAAAANSUhEUgAAAgAAAABACAYAAABsv8+/AAAAFnRFWHRUaXRsZQByYWluYm93IGNvbG9ybWFw7W9oCwAAABx0RVh0RGVzY3JpcHRpb24AcmFpbmJvdyBjb2xvcm1hcEpB2XIAAAAwdEVYdEF1dGhvcgBNYXRwbG90bGliIHYzLjcuMSwgaHR0cHM6Ly9tYXRwbG90bGliLm9yZyqv+E0AAAAydEVYdFNvZnR3YXJlAE1hdHBsb3RsaWIgdjMuNy4xLCBodHRwczovL21hdHBsb3RsaWIub3JnBAlnagAAAeVJREFUeJzt1rtuwzAQRUFKyX/nxyMqhRUXKxCUZbi6Mw2xfMipgrP8tH1vrbX+tbfH2l5bv1+8/1zL702/M/v7bp6vs/ejd3W/zKPvjt497w/uDef6vsyjd8f5fszr8W499tf//fVD+0vdP9Zl8G6ZvB/N9XvL7H55d9q/uLYXz+/Os/3T2i/em7zfB+d1f++T88F36zo732+e9zf3e/l+H9yf7pe5D+6d5qv3yrw95uWY23N97LetzP/n24fm+nvbxftXz0/z3XcXvzu793vz3ek77/3dx79TACCJAACAQAIAAAIJAAAIJAAAIJAAAIBAAgAAAgkAAAgkAAAgkAAAgEACAAACCQAACCQAACCQAACAQAIAAAIJAAAIJAAAIJAAAIBAAgAAAgkAAAgkAAAgkAAAgEACAAACCQAACCQAACCQAACAQAIAAAIJAAAIJAAAIJAAAIBAAgAAAgkAAAgkAAAgkAAAgEACAAACCQAACCQAACCQAACAQAIAAAIJAAAIJAAAIJAAAIBAAgAAAgkAAAgkAAAgkAAAgEACAAACCQAACCQAACCQAACAQAIAAAIJAAAIJAAAIJAAAIBAAgAAAgkAAAgkAAAgkAAAgEACAAACCQAACCQAACCQAACAQAIAAAL9AfhLfo1FOYOvAAAAAElFTkSuQmCC\"></div><div style=\"vertical-align: middle; max-width: 514px; display: flex; justify-content: space-between;\"><div style=\"float: left;\"><div title=\"#8000ffff\" style=\"display: inline-block; width: 1em; height: 1em; margin: 0; vertical-align: middle; border: 1px solid #555; background-color: #8000ffff;\"></div> under</div><div style=\"margin: 0 auto; display: inline-block;\">bad <div title=\"#00000000\" style=\"display: inline-block; width: 1em; height: 1em; margin: 0; vertical-align: middle; border: 1px solid #555; background-color: #00000000;\"></div></div><div style=\"float: right;\">over <div title=\"#ff0000ff\" style=\"display: inline-block; width: 1em; height: 1em; margin: 0; vertical-align: middle; border: 1px solid #555; background-color: #ff0000ff;\"></div></div>"
            ],
            "image/png": "[encoded data removed]"
          },
          "metadata": {},
          "execution_count": 101
        }
      ]
    },
    {
      "cell_type": "code",
      "source": [
        "colors = ['#FF0000', '#FF9900', '#FFFF00', '#00FF00', '#00FFFF', '#0000FF',\n",
        "          '#9900FF', '#FF00FF', '#FF3366', '#FF6633', '#FFCC00', '#99FF00',\n",
        "          '#33FF99', '#00FFCC', '#0099FF', '#3300FF', '#9900CC', '#FF0099',\n",
        "          '#FF6600', '#FFCC33', '#CCFF00', '#66FF00', '#33CCFF', '#990066']"
      ],
      "metadata": {
        "id": "XR8HZ8SmBWVX"
      },
      "execution_count": 103,
      "outputs": []
    },
    {
      "cell_type": "code",
      "source": [
        "sns.set_style('whitegrid')"
      ],
      "metadata": {
        "id": "aHSPjcC3CsxW"
      },
      "execution_count": 110,
      "outputs": []
    },
    {
      "cell_type": "code",
      "source": [
        "plot1 = fi.plot('cols', 'imp', figsize=(14,6),\n",
        "                legend=False, kind = 'barh',\n",
        "                color=colors)\n",
        "plot1"
      ],
      "metadata": {
        "colab": {
          "base_uri": "https://localhost:8080/",
          "height": 372
        },
        "id": "oWh6w4ne_-c2",
        "outputId": "d8204007-9c96-492c-840e-b340c8778040"
      },
      "execution_count": 112,
      "outputs": [
        {
          "output_type": "execute_result",
          "data": {
            "text/plain": [
              "<Axes: ylabel='cols'>"
            ]
          },
          "metadata": {},
          "execution_count": 112
        },
        {
          "output_type": "display_data",
          "data": {
            "text/plain": [
              "<Figure size 1400x600 with 1 Axes>"
            ],
            "image/png": "[encoded data removed]"
          },
          "metadata": {}
        }
      ]
    },
    {
      "cell_type": "code",
      "source": [
        "fi"
      ],
      "metadata": {
        "colab": {
          "base_uri": "https://localhost:8080/",
          "height": 802
        },
        "id": "l1sCx0RfC8Fn",
        "outputId": "cff460fe-f666-421f-b925-31c7b8225ee3"
      },
      "execution_count": 113,
      "outputs": [
        {
          "output_type": "execute_result",
          "data": {
            "text/plain": [
              "               cols       imp\n",
              "21     walkDistance  0.279300\n",
              "6         killPlace  0.253619\n",
              "1            boosts  0.097748\n",
              "22  weaponsAcquired  0.083206\n",
              "5             heals  0.065996\n",
              "10      longestKill  0.046114\n",
              "16     rideDistance  0.035954\n",
              "2       damageDealt  0.020433\n",
              "8             kills  0.019933\n",
              "9       killStreaks  0.017218\n",
              "11    matchDuration  0.016527\n",
              "13        numGroups  0.012951\n",
              "12         maxPlace  0.012061\n",
              "0           assists  0.008237\n",
              "3             DBNOs  0.006532\n",
              "18     swimDistance  0.005864\n",
              "14       rankPoints  0.005575\n",
              "23        winPoints  0.003824\n",
              "15          revives  0.003771\n",
              "7        killPoints  0.003379\n",
              "4     headshotKills  0.001438\n",
              "19        teamKills  0.000222\n",
              "17        roadKills  0.000055\n",
              "20  vehicleDestroys  0.000042"
            ],
            "text/html": [
              "\n",
              "  <div id=\"df-85043bee-fb9d-499e-9b04-c6f7619c21fb\" class=\"colab-df-container\">\n",
              "    <div>\n",
              "<style scoped>\n",
              "    .dataframe tbody tr th:only-of-type {\n",
              "        vertical-align: middle;\n",
              "    }\n",
              "\n",
              "    .dataframe tbody tr th {\n",
              "        vertical-align: top;\n",
              "    }\n",
              "\n",
              "    .dataframe thead th {\n",
              "        text-align: right;\n",
              "    }\n",
              "</style>\n",
              "<table border=\"1\" class=\"dataframe\">\n",
              "  <thead>\n",
              "    <tr style=\"text-align: right;\">\n",
              "      <th></th>\n",
              "      <th>cols</th>\n",
              "      <th>imp</th>\n",
              "    </tr>\n",
              "  </thead>\n",
              "  <tbody>\n",
              "    <tr>\n",
              "      <th>21</th>\n",
              "      <td>walkDistance</td>\n",
              "      <td>0.279300</td>\n",
              "    </tr>\n",
              "    <tr>\n",
              "      <th>6</th>\n",
              "      <td>killPlace</td>\n",
              "      <td>0.253619</td>\n",
              "    </tr>\n",
              "    <tr>\n",
              "      <th>1</th>\n",
              "      <td>boosts</td>\n",
              "      <td>0.097748</td>\n",
              "    </tr>\n",
              "    <tr>\n",
              "      <th>22</th>\n",
              "      <td>weaponsAcquired</td>\n",
              "      <td>0.083206</td>\n",
              "    </tr>\n",
              "    <tr>\n",
              "      <th>5</th>\n",
              "      <td>heals</td>\n",
              "      <td>0.065996</td>\n",
              "    </tr>\n",
              "    <tr>\n",
              "      <th>10</th>\n",
              "      <td>longestKill</td>\n",
              "      <td>0.046114</td>\n",
              "    </tr>\n",
              "    <tr>\n",
              "      <th>16</th>\n",
              "      <td>rideDistance</td>\n",
              "      <td>0.035954</td>\n",
              "    </tr>\n",
              "    <tr>\n",
              "      <th>2</th>\n",
              "      <td>damageDealt</td>\n",
              "      <td>0.020433</td>\n",
              "    </tr>\n",
              "    <tr>\n",
              "      <th>8</th>\n",
              "      <td>kills</td>\n",
              "      <td>0.019933</td>\n",
              "    </tr>\n",
              "    <tr>\n",
              "      <th>9</th>\n",
              "      <td>killStreaks</td>\n",
              "      <td>0.017218</td>\n",
              "    </tr>\n",
              "    <tr>\n",
              "      <th>11</th>\n",
              "      <td>matchDuration</td>\n",
              "      <td>0.016527</td>\n",
              "    </tr>\n",
              "    <tr>\n",
              "      <th>13</th>\n",
              "      <td>numGroups</td>\n",
              "      <td>0.012951</td>\n",
              "    </tr>\n",
              "    <tr>\n",
              "      <th>12</th>\n",
              "      <td>maxPlace</td>\n",
              "      <td>0.012061</td>\n",
              "    </tr>\n",
              "    <tr>\n",
              "      <th>0</th>\n",
              "      <td>assists</td>\n",
              "      <td>0.008237</td>\n",
              "    </tr>\n",
              "    <tr>\n",
              "      <th>3</th>\n",
              "      <td>DBNOs</td>\n",
              "      <td>0.006532</td>\n",
              "    </tr>\n",
              "    <tr>\n",
              "      <th>18</th>\n",
              "      <td>swimDistance</td>\n",
              "      <td>0.005864</td>\n",
              "    </tr>\n",
              "    <tr>\n",
              "      <th>14</th>\n",
              "      <td>rankPoints</td>\n",
              "      <td>0.005575</td>\n",
              "    </tr>\n",
              "    <tr>\n",
              "      <th>23</th>\n",
              "      <td>winPoints</td>\n",
              "      <td>0.003824</td>\n",
              "    </tr>\n",
              "    <tr>\n",
              "      <th>15</th>\n",
              "      <td>revives</td>\n",
              "      <td>0.003771</td>\n",
              "    </tr>\n",
              "    <tr>\n",
              "      <th>7</th>\n",
              "      <td>killPoints</td>\n",
              "      <td>0.003379</td>\n",
              "    </tr>\n",
              "    <tr>\n",
              "      <th>4</th>\n",
              "      <td>headshotKills</td>\n",
              "      <td>0.001438</td>\n",
              "    </tr>\n",
              "    <tr>\n",
              "      <th>19</th>\n",
              "      <td>teamKills</td>\n",
              "      <td>0.000222</td>\n",
              "    </tr>\n",
              "    <tr>\n",
              "      <th>17</th>\n",
              "      <td>roadKills</td>\n",
              "      <td>0.000055</td>\n",
              "    </tr>\n",
              "    <tr>\n",
              "      <th>20</th>\n",
              "      <td>vehicleDestroys</td>\n",
              "      <td>0.000042</td>\n",
              "    </tr>\n",
              "  </tbody>\n",
              "</table>\n",
              "</div>\n",
              "    <div class=\"colab-df-buttons\">\n",
              "\n",
              "  <div class=\"colab-df-container\">\n",
              "    <button class=\"colab-df-convert\" onclick=\"convertToInteractive('df-85043bee-fb9d-499e-9b04-c6f7619c21fb')\"\n",
              "            title=\"Convert this dataframe to an interactive table.\"\n",
              "            style=\"display:none;\">\n",
              "\n",
              "  <svg xmlns=\"http://www.w3.org/2000/svg\" height=\"24px\" viewBox=\"0 -960 960 960\">\n",
              "    <path d=\"M120-120v-720h720v720H120Zm60-500h600v-160H180v160Zm220 220h160v-160H400v160Zm0 220h160v-160H400v160ZM180-400h160v-160H180v160Zm440 0h160v-160H620v160ZM180-180h160v-160H180v160Zm440 0h160v-160H620v160Z\"/>\n",
              "  </svg>\n",
              "    </button>\n",
              "\n",
              "  <style>\n",
              "    .colab-df-container {\n",
              "      display:flex;\n",
              "      gap: 12px;\n",
              "    }\n",
              "\n",
              "    .colab-df-convert {\n",
              "      background-color: #E8F0FE;\n",
              "      border: none;\n",
              "      border-radius: 50%;\n",
              "      cursor: pointer;\n",
              "      display: none;\n",
              "      fill: #1967D2;\n",
              "      height: 32px;\n",
              "      padding: 0 0 0 0;\n",
              "      width: 32px;\n",
              "    }\n",
              "\n",
              "    .colab-df-convert:hover {\n",
              "      background-color: #E2EBFA;\n",
              "      box-shadow: 0px 1px 2px rgba(60, 64, 67, 0.3), 0px 1px 3px 1px rgba(60, 64, 67, 0.15);\n",
              "      fill: #174EA6;\n",
              "    }\n",
              "\n",
              "    .colab-df-buttons div {\n",
              "      margin-bottom: 4px;\n",
              "    }\n",
              "\n",
              "    [theme=dark] .colab-df-convert {\n",
              "      background-color: #3B4455;\n",
              "      fill: #D2E3FC;\n",
              "    }\n",
              "\n",
              "    [theme=dark] .colab-df-convert:hover {\n",
              "      background-color: #434B5C;\n",
              "      box-shadow: 0px 1px 3px 1px rgba(0, 0, 0, 0.15);\n",
              "      filter: drop-shadow(0px 1px 2px rgba(0, 0, 0, 0.3));\n",
              "      fill: #FFFFFF;\n",
              "    }\n",
              "  </style>\n",
              "\n",
              "    <script>\n",
              "      const buttonEl =\n",
              "        document.querySelector('#df-85043bee-fb9d-499e-9b04-c6f7619c21fb button.colab-df-convert');\n",
              "      buttonEl.style.display =\n",
              "        google.colab.kernel.accessAllowed ? 'block' : 'none';\n",
              "\n",
              "      async function convertToInteractive(key) {\n",
              "        const element = document.querySelector('#df-85043bee-fb9d-499e-9b04-c6f7619c21fb');\n",
              "        const dataTable =\n",
              "          await google.colab.kernel.invokeFunction('convertToInteractive',\n",
              "                                                    [key], {});\n",
              "        if (!dataTable) return;\n",
              "\n",
              "        const docLinkHtml = 'Like what you see? Visit the ' +\n",
              "          '<a target=\"_blank\" href=https://colab.research.google.com/notebooks/data_table.ipynb>data table notebook</a>'\n",
              "          + ' to learn more about interactive tables.';\n",
              "        element.innerHTML = '';\n",
              "        dataTable['output_type'] = 'display_data';\n",
              "        await google.colab.output.renderOutput(dataTable, element);\n",
              "        const docLink = document.createElement('div');\n",
              "        docLink.innerHTML = docLinkHtml;\n",
              "        element.appendChild(docLink);\n",
              "      }\n",
              "    </script>\n",
              "  </div>\n",
              "\n",
              "\n",
              "<div id=\"df-9cb6a8ea-deed-4aab-bc52-f8b4e4920525\">\n",
              "  <button class=\"colab-df-quickchart\" onclick=\"quickchart('df-9cb6a8ea-deed-4aab-bc52-f8b4e4920525')\"\n",
              "            title=\"Suggest charts.\"\n",
              "            style=\"display:none;\">\n",
              "\n",
              "<svg xmlns=\"http://www.w3.org/2000/svg\" height=\"24px\"viewBox=\"0 0 24 24\"\n",
              "     width=\"24px\">\n",
              "    <g>\n",
              "        <path d=\"M19 3H5c-1.1 0-2 .9-2 2v14c0 1.1.9 2 2 2h14c1.1 0 2-.9 2-2V5c0-1.1-.9-2-2-2zM9 17H7v-7h2v7zm4 0h-2V7h2v10zm4 0h-2v-4h2v4z\"/>\n",
              "    </g>\n",
              "</svg>\n",
              "  </button>\n",
              "\n",
              "<style>\n",
              "  .colab-df-quickchart {\n",
              "      --bg-color: #E8F0FE;\n",
              "      --fill-color: #1967D2;\n",
              "      --hover-bg-color: #E2EBFA;\n",
              "      --hover-fill-color: #174EA6;\n",
              "      --disabled-fill-color: #AAA;\n",
              "      --disabled-bg-color: #DDD;\n",
              "  }\n",
              "\n",
              "  [theme=dark] .colab-df-quickchart {\n",
              "      --bg-color: #3B4455;\n",
              "      --fill-color: #D2E3FC;\n",
              "      --hover-bg-color: #434B5C;\n",
              "      --hover-fill-color: #FFFFFF;\n",
              "      --disabled-bg-color: #3B4455;\n",
              "      --disabled-fill-color: #666;\n",
              "  }\n",
              "\n",
              "  .colab-df-quickchart {\n",
              "    background-color: var(--bg-color);\n",
              "    border: none;\n",
              "    border-radius: 50%;\n",
              "    cursor: pointer;\n",
              "    display: none;\n",
              "    fill: var(--fill-color);\n",
              "    height: 32px;\n",
              "    padding: 0;\n",
              "    width: 32px;\n",
              "  }\n",
              "\n",
              "  .colab-df-quickchart:hover {\n",
              "    background-color: var(--hover-bg-color);\n",
              "    box-shadow: 0 1px 2px rgba(60, 64, 67, 0.3), 0 1px 3px 1px rgba(60, 64, 67, 0.15);\n",
              "    fill: var(--button-hover-fill-color);\n",
              "  }\n",
              "\n",
              "  .colab-df-quickchart-complete:disabled,\n",
              "  .colab-df-quickchart-complete:disabled:hover {\n",
              "    background-color: var(--disabled-bg-color);\n",
              "    fill: var(--disabled-fill-color);\n",
              "    box-shadow: none;\n",
              "  }\n",
              "\n",
              "  .colab-df-spinner {\n",
              "    border: 2px solid var(--fill-color);\n",
              "    border-color: transparent;\n",
              "    border-bottom-color: var(--fill-color);\n",
              "    animation:\n",
              "      spin 1s steps(1) infinite;\n",
              "  }\n",
              "\n",
              "  @keyframes spin {\n",
              "    0% {\n",
              "      border-color: transparent;\n",
              "      border-bottom-color: var(--fill-color);\n",
              "      border-left-color: var(--fill-color);\n",
              "    }\n",
              "    20% {\n",
              "      border-color: transparent;\n",
              "      border-left-color: var(--fill-color);\n",
              "      border-top-color: var(--fill-color);\n",
              "    }\n",
              "    30% {\n",
              "      border-color: transparent;\n",
              "      border-left-color: var(--fill-color);\n",
              "      border-top-color: var(--fill-color);\n",
              "      border-right-color: var(--fill-color);\n",
              "    }\n",
              "    40% {\n",
              "      border-color: transparent;\n",
              "      border-right-color: var(--fill-color);\n",
              "      border-top-color: var(--fill-color);\n",
              "    }\n",
              "    60% {\n",
              "      border-color: transparent;\n",
              "      border-right-color: var(--fill-color);\n",
              "    }\n",
              "    80% {\n",
              "      border-color: transparent;\n",
              "      border-right-color: var(--fill-color);\n",
              "      border-bottom-color: var(--fill-color);\n",
              "    }\n",
              "    90% {\n",
              "      border-color: transparent;\n",
              "      border-bottom-color: var(--fill-color);\n",
              "    }\n",
              "  }\n",
              "</style>\n",
              "\n",
              "  <script>\n",
              "    async function quickchart(key) {\n",
              "      const quickchartButtonEl =\n",
              "        document.querySelector('#' + key + ' button');\n",
              "      quickchartButtonEl.disabled = true;  // To prevent multiple clicks.\n",
              "      quickchartButtonEl.classList.add('colab-df-spinner');\n",
              "      try {\n",
              "        const charts = await google.colab.kernel.invokeFunction(\n",
              "            'suggestCharts', [key], {});\n",
              "      } catch (error) {\n",
              "        console.error('Error during call to suggestCharts:', error);\n",
              "      }\n",
              "      quickchartButtonEl.classList.remove('colab-df-spinner');\n",
              "      quickchartButtonEl.classList.add('colab-df-quickchart-complete');\n",
              "    }\n",
              "    (() => {\n",
              "      let quickchartButtonEl =\n",
              "        document.querySelector('#df-9cb6a8ea-deed-4aab-bc52-f8b4e4920525 button');\n",
              "      quickchartButtonEl.style.display =\n",
              "        google.colab.kernel.accessAllowed ? 'block' : 'none';\n",
              "    })();\n",
              "  </script>\n",
              "</div>\n",
              "    </div>\n",
              "  </div>\n"
            ]
          },
          "metadata": {},
          "execution_count": 113
        }
      ]
    },
    {
      "cell_type": "code",
      "source": [
        "to_keep = fi[fi.imp>0.005].cols\n",
        "print('Significant features: ', len(to_keep))\n",
        "to_keep"
      ],
      "metadata": {
        "colab": {
          "base_uri": "https://localhost:8080/"
        },
        "id": "Qr8zmvD7BpCK",
        "outputId": "acf423a0-0b2c-48f8-e7e3-a467eb947fa3"
      },
      "execution_count": 114,
      "outputs": [
        {
          "output_type": "stream",
          "name": "stdout",
          "text": [
            "Significant features:  17\n"
          ]
        },
        {
          "output_type": "execute_result",
          "data": {
            "text/plain": [
              "21       walkDistance\n",
              "6           killPlace\n",
              "1              boosts\n",
              "22    weaponsAcquired\n",
              "5               heals\n",
              "10        longestKill\n",
              "16       rideDistance\n",
              "2         damageDealt\n",
              "8               kills\n",
              "9         killStreaks\n",
              "11      matchDuration\n",
              "13          numGroups\n",
              "12           maxPlace\n",
              "0             assists\n",
              "3               DBNOs\n",
              "18       swimDistance\n",
              "14         rankPoints\n",
              "Name: cols, dtype: object"
            ]
          },
          "metadata": {},
          "execution_count": 114
        }
      ]
    },
    {
      "cell_type": "code",
      "source": [
        "df_keep = X[to_keep].copy()"
      ],
      "metadata": {
        "id": "90xbOqiaDAEv"
      },
      "execution_count": 115,
      "outputs": []
    },
    {
      "cell_type": "markdown",
      "source": [
        "# Second Random Forest Model"
      ],
      "metadata": {
        "id": "QEBzneOFDvgH"
      }
    },
    {
      "cell_type": "code",
      "source": [
        "X_train2, X_val2, y_train2, y_val2 = train_test_split(df_keep, y, test_size=.2, random_state=1, shuffle=True)"
      ],
      "metadata": {
        "id": "ddnBx4PCDO_V"
      },
      "execution_count": 116,
      "outputs": []
    },
    {
      "cell_type": "code",
      "source": [
        "def print_score(m : RandomForestRegressor, X_train, X_val, y_train, y_val):\n",
        "    res = ['mae train: ', mean_absolute_error(m.predict(X_train), y_train),\n",
        "           'mae val: ', mean_absolute_error(m.predict(X_val), y_val)]\n",
        "    if hasattr(m, 'oob_score_'): res.append(m.oob_score_)\n",
        "    print(res)"
      ],
      "metadata": {
        "id": "MHmGIcTaEAk1"
      },
      "execution_count": 117,
      "outputs": []
    },
    {
      "cell_type": "code",
      "source": [
        "m2 = RandomForestRegressor(n_estimators=80, min_samples_leaf=3, max_features='sqrt',\n",
        "                          n_jobs=-1)\n",
        "m2.fit(X_train2, y_train2)\n",
        "print_score(m2, X_train2, X_val2, y_train2, y_val2 )"
      ],
      "metadata": {
        "colab": {
          "base_uri": "https://localhost:8080/"
        },
        "id": "kBj5l7G2D1X5",
        "outputId": "5ed079c4-1545-4f8d-b09c-c02824ce3fff"
      },
      "execution_count": 118,
      "outputs": [
        {
          "output_type": "stream",
          "name": "stdout",
          "text": [
            "['mae train: ', 0.04004212247030413, 'mae val: ', 0.06201882785940821]\n"
          ]
        }
      ]
    },
    {
      "cell_type": "code",
      "source": [
        "fi_to_keep = rf_feat_importance(m2, df_keep)\n",
        "plot2 = fi_to_keep.plot('cols', 'imp', figsize=(14,6), legend=False, kind = 'barh', color=colors)\n",
        "plot2"
      ],
      "metadata": {
        "colab": {
          "base_uri": "https://localhost:8080/",
          "height": 372
        },
        "id": "Tvd6omPgERIF",
        "outputId": "c37838a7-7c4f-43bb-a44c-c9c615c9b604"
      },
      "execution_count": 119,
      "outputs": [
        {
          "output_type": "execute_result",
          "data": {
            "text/plain": [
              "<Axes: ylabel='cols'>"
            ]
          },
          "metadata": {},
          "execution_count": 119
        },
        {
          "output_type": "display_data",
          "data": {
            "text/plain": [
              "<Figure size 1400x600 with 1 Axes>"
            ],
            "image/png": "[encoded data removed]"
          },
          "metadata": {}
        }
      ]
    },
    {
      "cell_type": "code",
      "source": [
        "fi_to_keep.shape"
      ],
      "metadata": {
        "colab": {
          "base_uri": "https://localhost:8080/"
        },
        "id": "msDZKVTDE7b9",
        "outputId": "0565be10-a906-4f93-9f73-872a8e7bdab8"
      },
      "execution_count": 121,
      "outputs": [
        {
          "output_type": "execute_result",
          "data": {
            "text/plain": [
              "(17, 2)"
            ]
          },
          "metadata": {},
          "execution_count": 121
        }
      ]
    },
    {
      "cell_type": "code",
      "source": [
        "# png 저장 방법\n",
        "#fig = plot2.get_figure()\n",
        "#fig.savefig(\"Feature_importances(TopFeatures).png\")"
      ],
      "metadata": {
        "id": "4tMBa9g5FAw9"
      },
      "execution_count": null,
      "outputs": []
    },
    {
      "cell_type": "markdown",
      "source": [
        "# Correlations"
      ],
      "metadata": {
        "id": "ZQ-9EaZXFNll"
      }
    },
    {
      "cell_type": "code",
      "source": [
        "f, ax = plt.subplots(figsize=(11, 9))\n",
        "\n",
        "# Create heatmap\n",
        "heatmap = sns.heatmap(df_keep.corr())"
      ],
      "metadata": {
        "colab": {
          "base_uri": "https://localhost:8080/",
          "height": 758
        },
        "id": "xWHjk_e1FXk5",
        "outputId": "81b50dd4-d98d-4ddd-9a95-a8849fda7fd7"
      },
      "execution_count": 122,
      "outputs": [
        {
          "output_type": "display_data",
          "data": {
            "text/plain": [
              "<Figure size 1100x900 with 2 Axes>"
            ],
            "image/png": "[encoded data removed]"
          },
          "metadata": {}
        }
      ]
    },
    {
      "cell_type": "markdown",
      "source": [
        "### dendrogram"
      ],
      "metadata": {
        "id": "WEfmr2awPbx8"
      }
    },
    {
      "cell_type": "code",
      "source": [
        "import scipy\n",
        "from scipy.cluster import hierarchy as hc"
      ],
      "metadata": {
        "id": "AOsZBNctFQct"
      },
      "execution_count": 123,
      "outputs": []
    },
    {
      "cell_type": "code",
      "source": [
        "corr = np.round(scipy.stats.spearmanr(df_keep).correlation, 4)\n",
        "corr_condensed = hc.distance.squareform(1-corr)\n",
        "z = hc.linkage(corr_condensed, method='average')\n",
        "\n",
        "fig = plt.figure(figsize=(14,10))\n",
        "dendrogram = hc.dendrogram(z, labels=df_keep.columns, orientation='left', leaf_font_size=16)\n",
        "plt.plot()"
      ],
      "metadata": {
        "colab": {
          "base_uri": "https://localhost:8080/",
          "height": 555
        },
        "id": "ywRlQWM9FNqZ",
        "outputId": "8608ce1e-066f-40fd-8902-8341eb3ae1ef"
      },
      "execution_count": 136,
      "outputs": [
        {
          "output_type": "execute_result",
          "data": {
            "text/plain": [
              "[]"
            ]
          },
          "metadata": {},
          "execution_count": 136
        },
        {
          "output_type": "display_data",
          "data": {
            "text/plain": [
              "<Figure size 1400x1000 with 1 Axes>"
            ],
            "image/png": "[encoded data removed]"
          },
          "metadata": {}
        }
      ]
    },
    {
      "cell_type": "code",
      "source": [
        "corr.shape, corr_condensed.shape, z.shape"
      ],
      "metadata": {
        "colab": {
          "base_uri": "https://localhost:8080/"
        },
        "id": "vpUYSM56FXJC",
        "outputId": "f13e018c-7035-478b-caa1-69001ef5daf6"
      },
      "execution_count": 131,
      "outputs": [
        {
          "output_type": "execute_result",
          "data": {
            "text/plain": [
              "((17, 17), (136,), (16, 4))"
            ]
          },
          "metadata": {},
          "execution_count": 131
        }
      ]
    },
    {
      "cell_type": "markdown",
      "source": [
        "### Dendro gram, Heatmap 이미지로 저장"
      ],
      "metadata": {
        "id": "mEcgGjO9KxSx"
      }
    },
    {
      "cell_type": "code",
      "source": [
        "fig = plt.figure(figsize=(14,10))\n",
        "dendrogram = hc.dendrogram(z, labels=df_keep.columns, orientation='left', leaf_font_size=16)\n",
        "plt.savefig('Dendrogram.png', transparent=False)"
      ],
      "metadata": {
        "colab": {
          "base_uri": "https://localhost:8080/",
          "height": 537
        },
        "id": "u52HzR4iIWPX",
        "outputId": "9febe440-5311-439a-ac37-c892b4ba3dc3"
      },
      "execution_count": 140,
      "outputs": [
        {
          "output_type": "display_data",
          "data": {
            "text/plain": [
              "<Figure size 1400x1000 with 1 Axes>"
            ],
            "image/png": "[encoded data removed]"
          },
          "metadata": {}
        }
      ]
    },
    {
      "cell_type": "code",
      "source": [
        "fig = heatmap.get_figure()\n",
        "fig.savefig(\"Heatmap(TopFeatures).png\")"
      ],
      "metadata": {
        "id": "PZN0eTSeIF9b"
      },
      "execution_count": 134,
      "outputs": []
    },
    {
      "cell_type": "markdown",
      "source": [
        "### gg plot\n",
        "> The Grammar of Graphics plot"
      ],
      "metadata": {
        "id": "4AkoT6wYO1CY"
      }
    },
    {
      "cell_type": "code",
      "source": [
        "from plotnine import ggplot, aes, geom_point, stat_smooth"
      ],
      "metadata": {
        "id": "b2_e_VtwJXGT"
      },
      "execution_count": 153,
      "outputs": []
    },
    {
      "cell_type": "code",
      "source": [
        "def get_sample(df,n):\n",
        "    idxs = sorted(np.random.permutation(len(df))[:n])\n",
        "    return df.iloc[idxs].copy()"
      ],
      "metadata": {
        "id": "dUjaVec7Ib70"
      },
      "execution_count": 154,
      "outputs": []
    },
    {
      "cell_type": "markdown",
      "source": [
        "### Predictive quality of kills"
      ],
      "metadata": {
        "id": "949T_R7VPHAb"
      }
    },
    {
      "cell_type": "code",
      "source": [
        "x_all = get_sample(train_df, 100000)\n",
        "ggplot(x_all, aes('kills','winPlacePerc'))+ stat_smooth(se=True, colour='red', method='mavg')"
      ],
      "metadata": {
        "colab": {
          "base_uri": "https://localhost:8080/",
          "height": 554
        },
        "id": "F2bQKm2dIb_7",
        "outputId": "12045d21-e7df-4faf-e5f4-a1c8927fff71"
      },
      "execution_count": 155,
      "outputs": [
        {
          "output_type": "stream",
          "name": "stderr",
          "text": [
            "/usr/local/lib/python3.10/dist-packages/plotnine/stats/stat_smooth.py:182: PlotnineWarning: No 'window' specified in the method_args. Using window = 10000. The same window is used for all groups or facets\n"
          ]
        },
        {
          "output_type": "display_data",
          "data": {
            "text/plain": [
              "<Figure size 640x480 with 1 Axes>"
            ],
            "image/png": "[encoded data removed]"
          },
          "metadata": {
            "image/png": {
              "width": 640,
              "height": 480
            }
          }
        },
        {
          "output_type": "execute_result",
          "data": {
            "text/plain": [
              "<Figure Size: (640 x 480)>"
            ]
          },
          "metadata": {},
          "execution_count": 155
        }
      ]
    },
    {
      "cell_type": "markdown",
      "source": [
        "### Predictive quality of walkDistance"
      ],
      "metadata": {
        "id": "gwNRk7JNIpLZ"
      }
    },
    {
      "cell_type": "code",
      "source": [
        "x_all = get_sample(train_df, 100000)\n",
        "ggplot(x_all, aes('walkDistance','winPlacePerc')) + stat_smooth(se=True, colour='red', method='mavg')"
      ],
      "metadata": {
        "colab": {
          "base_uri": "https://localhost:8080/",
          "height": 554
        },
        "id": "eo7FV3OXIpMv",
        "outputId": "b5c19745-77dc-4bf5-eafa-865cf117e5fa"
      },
      "execution_count": 156,
      "outputs": [
        {
          "output_type": "stream",
          "name": "stderr",
          "text": [
            "/usr/local/lib/python3.10/dist-packages/plotnine/stats/stat_smooth.py:182: PlotnineWarning: No 'window' specified in the method_args. Using window = 10000. The same window is used for all groups or facets\n"
          ]
        },
        {
          "output_type": "display_data",
          "data": {
            "text/plain": [
              "<Figure size 640x480 with 1 Axes>"
            ],
            "image/png": "[encoded data removed]"
          },
          "metadata": {
            "image/png": {
              "width": 640,
              "height": 480
            }
          }
        },
        {
          "output_type": "execute_result",
          "data": {
            "text/plain": [
              "<Figure Size: (640 x 480)>"
            ]
          },
          "metadata": {},
          "execution_count": 156
        }
      ]
    },
    {
      "cell_type": "markdown",
      "source": [
        "### Final Random Forest Model"
      ],
      "metadata": {
        "id": "6PY5-uafIrQD"
      }
    },
    {
      "cell_type": "code",
      "source": [
        "m3 = RandomForestRegressor(n_estimators=70, min_samples_leaf=3, max_features=0.5,\n",
        "                          n_jobs=-1)\n",
        "m3.fit(X_train2, y_train2)\n",
        "print_score(m3, X_train2, X_val2, y_train2, y_val2 )"
      ],
      "metadata": {
        "colab": {
          "base_uri": "https://localhost:8080/"
        },
        "id": "_O1ChZElIpSl",
        "outputId": "808e245c-0ce2-4141-8b40-0ba241cbd905"
      },
      "execution_count": 132,
      "outputs": [
        {
          "output_type": "stream",
          "name": "stdout",
          "text": [
            "['mae train: ', 0.03494204634904325, 'mae val: ', 0.06055949497511965]\n"
          ]
        }
      ]
    },
    {
      "cell_type": "markdown",
      "source": [
        "### Submission"
      ],
      "metadata": {
        "id": "a2h-hEMdIzEA"
      }
    },
    {
      "cell_type": "code",
      "source": [
        "test = test_df.copy()"
      ],
      "metadata": {
        "id": "lK7ttGg_LDdf"
      },
      "execution_count": 141,
      "outputs": []
    },
    {
      "cell_type": "code",
      "source": [
        "train_df['playersJoined'] = train_df.groupby('matchId')['matchId'].transform('count')"
      ],
      "metadata": {
        "id": "y6bbVYaLLZ3K"
      },
      "execution_count": 146,
      "outputs": []
    },
    {
      "cell_type": "code",
      "source": [
        "# Add engineered features to the test set\n",
        "test['headshot_rate'] = test['headshotKills'] / test['kills']\n",
        "test['headshot_rate'] = test['headshot_rate'].fillna(0)\n",
        "test['totalDistance'] = test['rideDistance'] + test['walkDistance'] + test['swimDistance']\n",
        "test['playersJoined'] = test.groupby('matchId')['matchId'].transform('count')\n",
        "test['killsNorm'] = test['kills']*((100-test['playersJoined'])/100 + 1)\n",
        "test['damageDealtNorm'] = test['damageDealt']*((100-test['playersJoined'])/100 + 1)\n",
        "test['maxPlaceNorm'] = test['maxPlace']*((100-train_df['playersJoined'])/100 + 1)\n",
        "test['matchDurationNorm'] = test['matchDuration']*((100-test['playersJoined'])/100 + 1)\n",
        "test['healsandboosts'] = test['heals'] + test['boosts']\n",
        "test['killsWithoutMoving'] = ((test['kills'] > 0) & (test['totalDistance'] == 0))\n",
        "\n",
        "# Turn groupId and match Id into categorical types\n",
        "test['groupId'] = test['groupId'].astype('category')\n",
        "test['matchId'] = test['matchId'].astype('category')\n",
        "\n",
        "# Get category coding for groupId and matchID\n",
        "test['groupId_cat'] = test['groupId'].cat.codes\n",
        "test['matchId_cat'] = test['matchId'].cat.codes\n",
        "\n",
        "# Remove irrelevant features from the test set\n",
        "test_pred = test[to_keep].copy()\n",
        "\n",
        "# Fill NaN with 0 (temporary)\n",
        "test_pred.fillna(0, inplace=True)\n",
        "test_pred.head()"
      ],
      "metadata": {
        "colab": {
          "base_uri": "https://localhost:8080/",
          "height": 226
        },
        "id": "fRf9Kdc6LDhL",
        "outputId": "964d647e-4203-4187-92d0-a9bec0b437cf"
      },
      "execution_count": 147,
      "outputs": [
        {
          "output_type": "execute_result",
          "data": {
            "text/plain": [
              "   walkDistance  killPlace  boosts  weaponsAcquired  heals  longestKill  \\\n",
              "0         588.0         73       0                1      0         0.00   \n",
              "1        2017.0         11       4                6      2       361.90   \n",
              "2         787.8         49       0                4      4         0.00   \n",
              "3        1812.0         54       0                3      0         0.00   \n",
              "4        2963.0          7       4                4      1        60.06   \n",
              "\n",
              "   rideDistance  damageDealt  kills  killStreaks  matchDuration  numGroups  \\\n",
              "0           0.0        51.46      0            0           1884         28   \n",
              "1        4669.0       179.10      2            1           1811         47   \n",
              "2           0.0        23.40      0            0           1793         27   \n",
              "3           0.0        65.52      0            0           1834         44   \n",
              "4           0.0       330.20      3            1           1326         27   \n",
              "\n",
              "   maxPlace  assists  DBNOs  swimDistance  rankPoints  \n",
              "0        28        0      0           0.0        1500  \n",
              "1        48        0      0           0.0        1503  \n",
              "2        28        1      0           0.0        1565  \n",
              "3        45        0      0           0.0        1465  \n",
              "4        28        0      1           0.0        1480  "
            ],
            "text/html": [
              "\n",
              "  <div id=\"df-44fa6594-bb2d-436c-b433-90b6e118e47a\" class=\"colab-df-container\">\n",
              "    <div>\n",
              "<style scoped>\n",
              "    .dataframe tbody tr th:only-of-type {\n",
              "        vertical-align: middle;\n",
              "    }\n",
              "\n",
              "    .dataframe tbody tr th {\n",
              "        vertical-align: top;\n",
              "    }\n",
              "\n",
              "    .dataframe thead th {\n",
              "        text-align: right;\n",
              "    }\n",
              "</style>\n",
              "<table border=\"1\" class=\"dataframe\">\n",
              "  <thead>\n",
              "    <tr style=\"text-align: right;\">\n",
              "      <th></th>\n",
              "      <th>walkDistance</th>\n",
              "      <th>killPlace</th>\n",
              "      <th>boosts</th>\n",
              "      <th>weaponsAcquired</th>\n",
              "      <th>heals</th>\n",
              "      <th>longestKill</th>\n",
              "      <th>rideDistance</th>\n",
              "      <th>damageDealt</th>\n",
              "      <th>kills</th>\n",
              "      <th>killStreaks</th>\n",
              "      <th>matchDuration</th>\n",
              "      <th>numGroups</th>\n",
              "      <th>maxPlace</th>\n",
              "      <th>assists</th>\n",
              "      <th>DBNOs</th>\n",
              "      <th>swimDistance</th>\n",
              "      <th>rankPoints</th>\n",
              "    </tr>\n",
              "  </thead>\n",
              "  <tbody>\n",
              "    <tr>\n",
              "      <th>0</th>\n",
              "      <td>588.0</td>\n",
              "      <td>73</td>\n",
              "      <td>0</td>\n",
              "      <td>1</td>\n",
              "      <td>0</td>\n",
              "      <td>0.00</td>\n",
              "      <td>0.0</td>\n",
              "      <td>51.46</td>\n",
              "      <td>0</td>\n",
              "      <td>0</td>\n",
              "      <td>1884</td>\n",
              "      <td>28</td>\n",
              "      <td>28</td>\n",
              "      <td>0</td>\n",
              "      <td>0</td>\n",
              "      <td>0.0</td>\n",
              "      <td>1500</td>\n",
              "    </tr>\n",
              "    <tr>\n",
              "      <th>1</th>\n",
              "      <td>2017.0</td>\n",
              "      <td>11</td>\n",
              "      <td>4</td>\n",
              "      <td>6</td>\n",
              "      <td>2</td>\n",
              "      <td>361.90</td>\n",
              "      <td>4669.0</td>\n",
              "      <td>179.10</td>\n",
              "      <td>2</td>\n",
              "      <td>1</td>\n",
              "      <td>1811</td>\n",
              "      <td>47</td>\n",
              "      <td>48</td>\n",
              "      <td>0</td>\n",
              "      <td>0</td>\n",
              "      <td>0.0</td>\n",
              "      <td>1503</td>\n",
              "    </tr>\n",
              "    <tr>\n",
              "      <th>2</th>\n",
              "      <td>787.8</td>\n",
              "      <td>49</td>\n",
              "      <td>0</td>\n",
              "      <td>4</td>\n",
              "      <td>4</td>\n",
              "      <td>0.00</td>\n",
              "      <td>0.0</td>\n",
              "      <td>23.40</td>\n",
              "      <td>0</td>\n",
              "      <td>0</td>\n",
              "      <td>1793</td>\n",
              "      <td>27</td>\n",
              "      <td>28</td>\n",
              "      <td>1</td>\n",
              "      <td>0</td>\n",
              "      <td>0.0</td>\n",
              "      <td>1565</td>\n",
              "    </tr>\n",
              "    <tr>\n",
              "      <th>3</th>\n",
              "      <td>1812.0</td>\n",
              "      <td>54</td>\n",
              "      <td>0</td>\n",
              "      <td>3</td>\n",
              "      <td>0</td>\n",
              "      <td>0.00</td>\n",
              "      <td>0.0</td>\n",
              "      <td>65.52</td>\n",
              "      <td>0</td>\n",
              "      <td>0</td>\n",
              "      <td>1834</td>\n",
              "      <td>44</td>\n",
              "      <td>45</td>\n",
              "      <td>0</td>\n",
              "      <td>0</td>\n",
              "      <td>0.0</td>\n",
              "      <td>1465</td>\n",
              "    </tr>\n",
              "    <tr>\n",
              "      <th>4</th>\n",
              "      <td>2963.0</td>\n",
              "      <td>7</td>\n",
              "      <td>4</td>\n",
              "      <td>4</td>\n",
              "      <td>1</td>\n",
              "      <td>60.06</td>\n",
              "      <td>0.0</td>\n",
              "      <td>330.20</td>\n",
              "      <td>3</td>\n",
              "      <td>1</td>\n",
              "      <td>1326</td>\n",
              "      <td>27</td>\n",
              "      <td>28</td>\n",
              "      <td>0</td>\n",
              "      <td>1</td>\n",
              "      <td>0.0</td>\n",
              "      <td>1480</td>\n",
              "    </tr>\n",
              "  </tbody>\n",
              "</table>\n",
              "</div>\n",
              "    <div class=\"colab-df-buttons\">\n",
              "\n",
              "  <div class=\"colab-df-container\">\n",
              "    <button class=\"colab-df-convert\" onclick=\"convertToInteractive('df-44fa6594-bb2d-436c-b433-90b6e118e47a')\"\n",
              "            title=\"Convert this dataframe to an interactive table.\"\n",
              "            style=\"display:none;\">\n",
              "\n",
              "  <svg xmlns=\"http://www.w3.org/2000/svg\" height=\"24px\" viewBox=\"0 -960 960 960\">\n",
              "    <path d=\"M120-120v-720h720v720H120Zm60-500h600v-160H180v160Zm220 220h160v-160H400v160Zm0 220h160v-160H400v160ZM180-400h160v-160H180v160Zm440 0h160v-160H620v160ZM180-180h160v-160H180v160Zm440 0h160v-160H620v160Z\"/>\n",
              "  </svg>\n",
              "    </button>\n",
              "\n",
              "  <style>\n",
              "    .colab-df-container {\n",
              "      display:flex;\n",
              "      gap: 12px;\n",
              "    }\n",
              "\n",
              "    .colab-df-convert {\n",
              "      background-color: #E8F0FE;\n",
              "      border: none;\n",
              "      border-radius: 50%;\n",
              "      cursor: pointer;\n",
              "      display: none;\n",
              "      fill: #1967D2;\n",
              "      height: 32px;\n",
              "      padding: 0 0 0 0;\n",
              "      width: 32px;\n",
              "    }\n",
              "\n",
              "    .colab-df-convert:hover {\n",
              "      background-color: #E2EBFA;\n",
              "      box-shadow: 0px 1px 2px rgba(60, 64, 67, 0.3), 0px 1px 3px 1px rgba(60, 64, 67, 0.15);\n",
              "      fill: #174EA6;\n",
              "    }\n",
              "\n",
              "    .colab-df-buttons div {\n",
              "      margin-bottom: 4px;\n",
              "    }\n",
              "\n",
              "    [theme=dark] .colab-df-convert {\n",
              "      background-color: #3B4455;\n",
              "      fill: #D2E3FC;\n",
              "    }\n",
              "\n",
              "    [theme=dark] .colab-df-convert:hover {\n",
              "      background-color: #434B5C;\n",
              "      box-shadow: 0px 1px 3px 1px rgba(0, 0, 0, 0.15);\n",
              "      filter: drop-shadow(0px 1px 2px rgba(0, 0, 0, 0.3));\n",
              "      fill: #FFFFFF;\n",
              "    }\n",
              "  </style>\n",
              "\n",
              "    <script>\n",
              "      const buttonEl =\n",
              "        document.querySelector('#df-44fa6594-bb2d-436c-b433-90b6e118e47a button.colab-df-convert');\n",
              "      buttonEl.style.display =\n",
              "        google.colab.kernel.accessAllowed ? 'block' : 'none';\n",
              "\n",
              "      async function convertToInteractive(key) {\n",
              "        const element = document.querySelector('#df-44fa6594-bb2d-436c-b433-90b6e118e47a');\n",
              "        const dataTable =\n",
              "          await google.colab.kernel.invokeFunction('convertToInteractive',\n",
              "                                                    [key], {});\n",
              "        if (!dataTable) return;\n",
              "\n",
              "        const docLinkHtml = 'Like what you see? Visit the ' +\n",
              "          '<a target=\"_blank\" href=https://colab.research.google.com/notebooks/data_table.ipynb>data table notebook</a>'\n",
              "          + ' to learn more about interactive tables.';\n",
              "        element.innerHTML = '';\n",
              "        dataTable['output_type'] = 'display_data';\n",
              "        await google.colab.output.renderOutput(dataTable, element);\n",
              "        const docLink = document.createElement('div');\n",
              "        docLink.innerHTML = docLinkHtml;\n",
              "        element.appendChild(docLink);\n",
              "      }\n",
              "    </script>\n",
              "  </div>\n",
              "\n",
              "\n",
              "<div id=\"df-cfa7ed81-a85a-4a60-8025-42b337225694\">\n",
              "  <button class=\"colab-df-quickchart\" onclick=\"quickchart('df-cfa7ed81-a85a-4a60-8025-42b337225694')\"\n",
              "            title=\"Suggest charts.\"\n",
              "            style=\"display:none;\">\n",
              "\n",
              "<svg xmlns=\"http://www.w3.org/2000/svg\" height=\"24px\"viewBox=\"0 0 24 24\"\n",
              "     width=\"24px\">\n",
              "    <g>\n",
              "        <path d=\"M19 3H5c-1.1 0-2 .9-2 2v14c0 1.1.9 2 2 2h14c1.1 0 2-.9 2-2V5c0-1.1-.9-2-2-2zM9 17H7v-7h2v7zm4 0h-2V7h2v10zm4 0h-2v-4h2v4z\"/>\n",
              "    </g>\n",
              "</svg>\n",
              "  </button>\n",
              "\n",
              "<style>\n",
              "  .colab-df-quickchart {\n",
              "      --bg-color: #E8F0FE;\n",
              "      --fill-color: #1967D2;\n",
              "      --hover-bg-color: #E2EBFA;\n",
              "      --hover-fill-color: #174EA6;\n",
              "      --disabled-fill-color: #AAA;\n",
              "      --disabled-bg-color: #DDD;\n",
              "  }\n",
              "\n",
              "  [theme=dark] .colab-df-quickchart {\n",
              "      --bg-color: #3B4455;\n",
              "      --fill-color: #D2E3FC;\n",
              "      --hover-bg-color: #434B5C;\n",
              "      --hover-fill-color: #FFFFFF;\n",
              "      --disabled-bg-color: #3B4455;\n",
              "      --disabled-fill-color: #666;\n",
              "  }\n",
              "\n",
              "  .colab-df-quickchart {\n",
              "    background-color: var(--bg-color);\n",
              "    border: none;\n",
              "    border-radius: 50%;\n",
              "    cursor: pointer;\n",
              "    display: none;\n",
              "    fill: var(--fill-color);\n",
              "    height: 32px;\n",
              "    padding: 0;\n",
              "    width: 32px;\n",
              "  }\n",
              "\n",
              "  .colab-df-quickchart:hover {\n",
              "    background-color: var(--hover-bg-color);\n",
              "    box-shadow: 0 1px 2px rgba(60, 64, 67, 0.3), 0 1px 3px 1px rgba(60, 64, 67, 0.15);\n",
              "    fill: var(--button-hover-fill-color);\n",
              "  }\n",
              "\n",
              "  .colab-df-quickchart-complete:disabled,\n",
              "  .colab-df-quickchart-complete:disabled:hover {\n",
              "    background-color: var(--disabled-bg-color);\n",
              "    fill: var(--disabled-fill-color);\n",
              "    box-shadow: none;\n",
              "  }\n",
              "\n",
              "  .colab-df-spinner {\n",
              "    border: 2px solid var(--fill-color);\n",
              "    border-color: transparent;\n",
              "    border-bottom-color: var(--fill-color);\n",
              "    animation:\n",
              "      spin 1s steps(1) infinite;\n",
              "  }\n",
              "\n",
              "  @keyframes spin {\n",
              "    0% {\n",
              "      border-color: transparent;\n",
              "      border-bottom-color: var(--fill-color);\n",
              "      border-left-color: var(--fill-color);\n",
              "    }\n",
              "    20% {\n",
              "      border-color: transparent;\n",
              "      border-left-color: var(--fill-color);\n",
              "      border-top-color: var(--fill-color);\n",
              "    }\n",
              "    30% {\n",
              "      border-color: transparent;\n",
              "      border-left-color: var(--fill-color);\n",
              "      border-top-color: var(--fill-color);\n",
              "      border-right-color: var(--fill-color);\n",
              "    }\n",
              "    40% {\n",
              "      border-color: transparent;\n",
              "      border-right-color: var(--fill-color);\n",
              "      border-top-color: var(--fill-color);\n",
              "    }\n",
              "    60% {\n",
              "      border-color: transparent;\n",
              "      border-right-color: var(--fill-color);\n",
              "    }\n",
              "    80% {\n",
              "      border-color: transparent;\n",
              "      border-right-color: var(--fill-color);\n",
              "      border-bottom-color: var(--fill-color);\n",
              "    }\n",
              "    90% {\n",
              "      border-color: transparent;\n",
              "      border-bottom-color: var(--fill-color);\n",
              "    }\n",
              "  }\n",
              "</style>\n",
              "\n",
              "  <script>\n",
              "    async function quickchart(key) {\n",
              "      const quickchartButtonEl =\n",
              "        document.querySelector('#' + key + ' button');\n",
              "      quickchartButtonEl.disabled = true;  // To prevent multiple clicks.\n",
              "      quickchartButtonEl.classList.add('colab-df-spinner');\n",
              "      try {\n",
              "        const charts = await google.colab.kernel.invokeFunction(\n",
              "            'suggestCharts', [key], {});\n",
              "      } catch (error) {\n",
              "        console.error('Error during call to suggestCharts:', error);\n",
              "      }\n",
              "      quickchartButtonEl.classList.remove('colab-df-spinner');\n",
              "      quickchartButtonEl.classList.add('colab-df-quickchart-complete');\n",
              "    }\n",
              "    (() => {\n",
              "      let quickchartButtonEl =\n",
              "        document.querySelector('#df-cfa7ed81-a85a-4a60-8025-42b337225694 button');\n",
              "      quickchartButtonEl.style.display =\n",
              "        google.colab.kernel.accessAllowed ? 'block' : 'none';\n",
              "    })();\n",
              "  </script>\n",
              "</div>\n",
              "    </div>\n",
              "  </div>\n"
            ]
          },
          "metadata": {},
          "execution_count": 147
        }
      ]
    },
    {
      "cell_type": "code",
      "source": [
        "predictions = np.clip(a = m3.predict(test_pred), a_min = 0.0, a_max = 1.0)\n",
        "pred_df = pd.DataFrame({'Id' : test['Id'], 'winPlacePerc' : predictions})"
      ],
      "metadata": {
        "id": "BQ3BLlMuLKkZ"
      },
      "execution_count": 148,
      "outputs": []
    },
    {
      "cell_type": "code",
      "source": [
        "pred_df"
      ],
      "metadata": {
        "colab": {
          "base_uri": "https://localhost:8080/",
          "height": 424
        },
        "id": "2nCHZ2_1MGym",
        "outputId": "6987359e-6df8-4944-a950-2d6899df92d6"
      },
      "execution_count": 149,
      "outputs": [
        {
          "output_type": "execute_result",
          "data": {
            "text/plain": [
              "                     Id  winPlacePerc\n",
              "0        9329eb41e215eb      0.238456\n",
              "1        639bd0dcd7bda8      0.905569\n",
              "2        63d5c8ef8dfe91      0.717816\n",
              "3        cf5b81422591d1      0.541196\n",
              "4        ee6a295187ba21      0.932475\n",
              "...                 ...           ...\n",
              "1934169  a316c3a13887d5      0.730537\n",
              "1934170  5312146b27d875      0.446375\n",
              "1934171  fc8818b5b32ad3      0.892083\n",
              "1934172  a0f91e35f8458f      0.847080\n",
              "1934173  3696fc9f3a42b2      0.051079\n",
              "\n",
              "[1934174 rows x 2 columns]"
            ],
            "text/html": [
              "\n",
              "  <div id=\"df-f4212162-dd27-40c9-b300-ea36946d6819\" class=\"colab-df-container\">\n",
              "    <div>\n",
              "<style scoped>\n",
              "    .dataframe tbody tr th:only-of-type {\n",
              "        vertical-align: middle;\n",
              "    }\n",
              "\n",
              "    .dataframe tbody tr th {\n",
              "        vertical-align: top;\n",
              "    }\n",
              "\n",
              "    .dataframe thead th {\n",
              "        text-align: right;\n",
              "    }\n",
              "</style>\n",
              "<table border=\"1\" class=\"dataframe\">\n",
              "  <thead>\n",
              "    <tr style=\"text-align: right;\">\n",
              "      <th></th>\n",
              "      <th>Id</th>\n",
              "      <th>winPlacePerc</th>\n",
              "    </tr>\n",
              "  </thead>\n",
              "  <tbody>\n",
              "    <tr>\n",
              "      <th>0</th>\n",
              "      <td>9329eb41e215eb</td>\n",
              "      <td>0.238456</td>\n",
              "    </tr>\n",
              "    <tr>\n",
              "      <th>1</th>\n",
              "      <td>639bd0dcd7bda8</td>\n",
              "      <td>0.905569</td>\n",
              "    </tr>\n",
              "    <tr>\n",
              "      <th>2</th>\n",
              "      <td>63d5c8ef8dfe91</td>\n",
              "      <td>0.717816</td>\n",
              "    </tr>\n",
              "    <tr>\n",
              "      <th>3</th>\n",
              "      <td>cf5b81422591d1</td>\n",
              "      <td>0.541196</td>\n",
              "    </tr>\n",
              "    <tr>\n",
              "      <th>4</th>\n",
              "      <td>ee6a295187ba21</td>\n",
              "      <td>0.932475</td>\n",
              "    </tr>\n",
              "    <tr>\n",
              "      <th>...</th>\n",
              "      <td>...</td>\n",
              "      <td>...</td>\n",
              "    </tr>\n",
              "    <tr>\n",
              "      <th>1934169</th>\n",
              "      <td>a316c3a13887d5</td>\n",
              "      <td>0.730537</td>\n",
              "    </tr>\n",
              "    <tr>\n",
              "      <th>1934170</th>\n",
              "      <td>5312146b27d875</td>\n",
              "      <td>0.446375</td>\n",
              "    </tr>\n",
              "    <tr>\n",
              "      <th>1934171</th>\n",
              "      <td>fc8818b5b32ad3</td>\n",
              "      <td>0.892083</td>\n",
              "    </tr>\n",
              "    <tr>\n",
              "      <th>1934172</th>\n",
              "      <td>a0f91e35f8458f</td>\n",
              "      <td>0.847080</td>\n",
              "    </tr>\n",
              "    <tr>\n",
              "      <th>1934173</th>\n",
              "      <td>3696fc9f3a42b2</td>\n",
              "      <td>0.051079</td>\n",
              "    </tr>\n",
              "  </tbody>\n",
              "</table>\n",
              "<p>1934174 rows × 2 columns</p>\n",
              "</div>\n",
              "    <div class=\"colab-df-buttons\">\n",
              "\n",
              "  <div class=\"colab-df-container\">\n",
              "    <button class=\"colab-df-convert\" onclick=\"convertToInteractive('df-f4212162-dd27-40c9-b300-ea36946d6819')\"\n",
              "            title=\"Convert this dataframe to an interactive table.\"\n",
              "            style=\"display:none;\">\n",
              "\n",
              "  <svg xmlns=\"http://www.w3.org/2000/svg\" height=\"24px\" viewBox=\"0 -960 960 960\">\n",
              "    <path d=\"M120-120v-720h720v720H120Zm60-500h600v-160H180v160Zm220 220h160v-160H400v160Zm0 220h160v-160H400v160ZM180-400h160v-160H180v160Zm440 0h160v-160H620v160ZM180-180h160v-160H180v160Zm440 0h160v-160H620v160Z\"/>\n",
              "  </svg>\n",
              "    </button>\n",
              "\n",
              "  <style>\n",
              "    .colab-df-container {\n",
              "      display:flex;\n",
              "      gap: 12px;\n",
              "    }\n",
              "\n",
              "    .colab-df-convert {\n",
              "      background-color: #E8F0FE;\n",
              "      border: none;\n",
              "      border-radius: 50%;\n",
              "      cursor: pointer;\n",
              "      display: none;\n",
              "      fill: #1967D2;\n",
              "      height: 32px;\n",
              "      padding: 0 0 0 0;\n",
              "      width: 32px;\n",
              "    }\n",
              "\n",
              "    .colab-df-convert:hover {\n",
              "      background-color: #E2EBFA;\n",
              "      box-shadow: 0px 1px 2px rgba(60, 64, 67, 0.3), 0px 1px 3px 1px rgba(60, 64, 67, 0.15);\n",
              "      fill: #174EA6;\n",
              "    }\n",
              "\n",
              "    .colab-df-buttons div {\n",
              "      margin-bottom: 4px;\n",
              "    }\n",
              "\n",
              "    [theme=dark] .colab-df-convert {\n",
              "      background-color: #3B4455;\n",
              "      fill: #D2E3FC;\n",
              "    }\n",
              "\n",
              "    [theme=dark] .colab-df-convert:hover {\n",
              "      background-color: #434B5C;\n",
              "      box-shadow: 0px 1px 3px 1px rgba(0, 0, 0, 0.15);\n",
              "      filter: drop-shadow(0px 1px 2px rgba(0, 0, 0, 0.3));\n",
              "      fill: #FFFFFF;\n",
              "    }\n",
              "  </style>\n",
              "\n",
              "    <script>\n",
              "      const buttonEl =\n",
              "        document.querySelector('#df-f4212162-dd27-40c9-b300-ea36946d6819 button.colab-df-convert');\n",
              "      buttonEl.style.display =\n",
              "        google.colab.kernel.accessAllowed ? 'block' : 'none';\n",
              "\n",
              "      async function convertToInteractive(key) {\n",
              "        const element = document.querySelector('#df-f4212162-dd27-40c9-b300-ea36946d6819');\n",
              "        const dataTable =\n",
              "          await google.colab.kernel.invokeFunction('convertToInteractive',\n",
              "                                                    [key], {});\n",
              "        if (!dataTable) return;\n",
              "\n",
              "        const docLinkHtml = 'Like what you see? Visit the ' +\n",
              "          '<a target=\"_blank\" href=https://colab.research.google.com/notebooks/data_table.ipynb>data table notebook</a>'\n",
              "          + ' to learn more about interactive tables.';\n",
              "        element.innerHTML = '';\n",
              "        dataTable['output_type'] = 'display_data';\n",
              "        await google.colab.output.renderOutput(dataTable, element);\n",
              "        const docLink = document.createElement('div');\n",
              "        docLink.innerHTML = docLinkHtml;\n",
              "        element.appendChild(docLink);\n",
              "      }\n",
              "    </script>\n",
              "  </div>\n",
              "\n",
              "\n",
              "<div id=\"df-9df65acb-bf8a-47e3-ac2c-bef0f9f178cd\">\n",
              "  <button class=\"colab-df-quickchart\" onclick=\"quickchart('df-9df65acb-bf8a-47e3-ac2c-bef0f9f178cd')\"\n",
              "            title=\"Suggest charts.\"\n",
              "            style=\"display:none;\">\n",
              "\n",
              "<svg xmlns=\"http://www.w3.org/2000/svg\" height=\"24px\"viewBox=\"0 0 24 24\"\n",
              "     width=\"24px\">\n",
              "    <g>\n",
              "        <path d=\"M19 3H5c-1.1 0-2 .9-2 2v14c0 1.1.9 2 2 2h14c1.1 0 2-.9 2-2V5c0-1.1-.9-2-2-2zM9 17H7v-7h2v7zm4 0h-2V7h2v10zm4 0h-2v-4h2v4z\"/>\n",
              "    </g>\n",
              "</svg>\n",
              "  </button>\n",
              "\n",
              "<style>\n",
              "  .colab-df-quickchart {\n",
              "      --bg-color: #E8F0FE;\n",
              "      --fill-color: #1967D2;\n",
              "      --hover-bg-color: #E2EBFA;\n",
              "      --hover-fill-color: #174EA6;\n",
              "      --disabled-fill-color: #AAA;\n",
              "      --disabled-bg-color: #DDD;\n",
              "  }\n",
              "\n",
              "  [theme=dark] .colab-df-quickchart {\n",
              "      --bg-color: #3B4455;\n",
              "      --fill-color: #D2E3FC;\n",
              "      --hover-bg-color: #434B5C;\n",
              "      --hover-fill-color: #FFFFFF;\n",
              "      --disabled-bg-color: #3B4455;\n",
              "      --disabled-fill-color: #666;\n",
              "  }\n",
              "\n",
              "  .colab-df-quickchart {\n",
              "    background-color: var(--bg-color);\n",
              "    border: none;\n",
              "    border-radius: 50%;\n",
              "    cursor: pointer;\n",
              "    display: none;\n",
              "    fill: var(--fill-color);\n",
              "    height: 32px;\n",
              "    padding: 0;\n",
              "    width: 32px;\n",
              "  }\n",
              "\n",
              "  .colab-df-quickchart:hover {\n",
              "    background-color: var(--hover-bg-color);\n",
              "    box-shadow: 0 1px 2px rgba(60, 64, 67, 0.3), 0 1px 3px 1px rgba(60, 64, 67, 0.15);\n",
              "    fill: var(--button-hover-fill-color);\n",
              "  }\n",
              "\n",
              "  .colab-df-quickchart-complete:disabled,\n",
              "  .colab-df-quickchart-complete:disabled:hover {\n",
              "    background-color: var(--disabled-bg-color);\n",
              "    fill: var(--disabled-fill-color);\n",
              "    box-shadow: none;\n",
              "  }\n",
              "\n",
              "  .colab-df-spinner {\n",
              "    border: 2px solid var(--fill-color);\n",
              "    border-color: transparent;\n",
              "    border-bottom-color: var(--fill-color);\n",
              "    animation:\n",
              "      spin 1s steps(1) infinite;\n",
              "  }\n",
              "\n",
              "  @keyframes spin {\n",
              "    0% {\n",
              "      border-color: transparent;\n",
              "      border-bottom-color: var(--fill-color);\n",
              "      border-left-color: var(--fill-color);\n",
              "    }\n",
              "    20% {\n",
              "      border-color: transparent;\n",
              "      border-left-color: var(--fill-color);\n",
              "      border-top-color: var(--fill-color);\n",
              "    }\n",
              "    30% {\n",
              "      border-color: transparent;\n",
              "      border-left-color: var(--fill-color);\n",
              "      border-top-color: var(--fill-color);\n",
              "      border-right-color: var(--fill-color);\n",
              "    }\n",
              "    40% {\n",
              "      border-color: transparent;\n",
              "      border-right-color: var(--fill-color);\n",
              "      border-top-color: var(--fill-color);\n",
              "    }\n",
              "    60% {\n",
              "      border-color: transparent;\n",
              "      border-right-color: var(--fill-color);\n",
              "    }\n",
              "    80% {\n",
              "      border-color: transparent;\n",
              "      border-right-color: var(--fill-color);\n",
              "      border-bottom-color: var(--fill-color);\n",
              "    }\n",
              "    90% {\n",
              "      border-color: transparent;\n",
              "      border-bottom-color: var(--fill-color);\n",
              "    }\n",
              "  }\n",
              "</style>\n",
              "\n",
              "  <script>\n",
              "    async function quickchart(key) {\n",
              "      const quickchartButtonEl =\n",
              "        document.querySelector('#' + key + ' button');\n",
              "      quickchartButtonEl.disabled = true;  // To prevent multiple clicks.\n",
              "      quickchartButtonEl.classList.add('colab-df-spinner');\n",
              "      try {\n",
              "        const charts = await google.colab.kernel.invokeFunction(\n",
              "            'suggestCharts', [key], {});\n",
              "      } catch (error) {\n",
              "        console.error('Error during call to suggestCharts:', error);\n",
              "      }\n",
              "      quickchartButtonEl.classList.remove('colab-df-spinner');\n",
              "      quickchartButtonEl.classList.add('colab-df-quickchart-complete');\n",
              "    }\n",
              "    (() => {\n",
              "      let quickchartButtonEl =\n",
              "        document.querySelector('#df-9df65acb-bf8a-47e3-ac2c-bef0f9f178cd button');\n",
              "      quickchartButtonEl.style.display =\n",
              "        google.colab.kernel.accessAllowed ? 'block' : 'none';\n",
              "    })();\n",
              "  </script>\n",
              "</div>\n",
              "    </div>\n",
              "  </div>\n"
            ]
          },
          "metadata": {},
          "execution_count": 149
        }
      ]
    },
    {
      "cell_type": "code",
      "source": [
        "pred_df.to_csv(\"submission.csv\", index=False)"
      ],
      "metadata": {
        "id": "qWKHfqNBMb8s"
      },
      "execution_count": 152,
      "outputs": []
    },
    {
      "cell_type": "code",
      "source": [],
      "metadata": {
        "id": "0-TUgECtMlp-"
      },
      "execution_count": null,
      "outputs": []
    }
  ]
}