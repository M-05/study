{
 "cells": [
  {
   "cell_type": "code",
   "execution_count": 2,
   "metadata": {},
   "outputs": [],
   "source": [
    "# 각 클래스의 비율을 정하여 뽑힐 확률에 대한 가중치를 산정한다.\n",
    "import torch\n",
    "from torch.utils.data import DataLoader\n",
    "import torchvision\n",
    "import numpy as np\n",
    "import torchvision.transforms as tr \n",
    "\n",
    "def make_weights(labels, nclasses):\n",
    "    labels = np.array(labels)\n",
    "    weight_list = []\n",
    "    for cls in range(nclasses):\n",
    "        idx = np.where(labels == cls)[0]\n",
    "        count = len(idx)\n",
    "        weight = 1 / count\n",
    "        weights = [weight] * count\n",
    "        weight_list += weights\n",
    "    return weight_list"
   ]
  },
  {
   "cell_type": "code",
   "execution_count": null,
   "metadata": {},
   "outputs": [],
   "source": [
    "# torchvision.datasets.ImageFolder를 사용할 경우 라벨이 정렬이 되어 데이터가 만들어 집니다. \n",
    "# 따라서 라벨을 기준으로 순차적으로 가중치를 할당하면 됩니다. \n",
    "# 만약 클래스가 순차적으로 정렬되어 있지 않은 데이터인 경우 인덱싱이 매칭되지 않아 아래 코드를 사용하셔야 합니다.\n",
    "\n",
    "def make_weights(labels, nclasses):\n",
    "    labels = np.array(labels) # where, unique 함수를 사용하기 위해 numpy로 변환한다.\n",
    "    weight_arr = np.zeros_like(labels) # 가중치를 저장하는 배열을 생성한다.\n",
    "    _, counts = np.unique(labels, return_counts=True) # 각 클래스의 데이터 개수를 센다.\n",
    "    for cls in range(nclasses):\n",
    "        weight_arr = np.where(labels == cls, 1/counts[cls], weight_arr) \n",
    "    return weight_arr\n",
    "\n",
    "# 각 클래스의의 인덱스를 산출하여 해당 클래스 개수의 역수를 확률로 할당한다.\n",
    "# 이를 통해 각 클래스의 전체 가중치를 동일하게 한다."
   ]
  },
  {
   "cell_type": "code",
   "execution_count": null,
   "metadata": {},
   "outputs": [],
   "source": [
    "transf = tr.Compose([tr.Resize((16,16)),tr.ToTensor()]) \n",
    "trainset = torchvision.datasets.ImageFolder(root='./class', transform=transf) # 데이터 세트 불러오기\n",
    "\n",
    "weights = make_weights(trainset.targets, len(trainset.classes)) # 가중치 계산\n",
    "weights = torch.DoubleTensor(weights) # 텐서 변환\n",
    "print(weights)\n",
    "sampler = torch.utils.data.sampler.WeightedRandomSampler(weights, len(weights)) # 샘플링 방법 정의\n",
    "\n",
    "trainloader_wrs = DataLoader(trainset, batch_size=6, sampler=sampler) # 데이터 로더 정의\n",
    "trainloader_rs = DataLoader(trainset, batch_size=6, shuffle=True)"
   ]
  },
  {
   "cell_type": "code",
   "execution_count": null,
   "metadata": {},
   "outputs": [],
   "source": [
    "for epoch in range(3):\n",
    "    for data in trainloader_wrs:\n",
    "        print(data[1])"
   ]
  },
  {
   "cell_type": "code",
   "execution_count": null,
   "metadata": {},
   "outputs": [],
   "source": [
    "for epoch in range(5):\n",
    "    for data in trainloader_rs:\n",
    "        print(data[1])"
   ]
  },
  {
   "cell_type": "markdown",
   "metadata": {},
   "source": [
    "## Weighted Loss Function"
   ]
  },
  {
   "cell_type": "code",
   "execution_count": 8,
   "metadata": {},
   "outputs": [],
   "source": [
    "import torch.nn as nn\n",
    "import torch\n",
    "\n",
    "device = torch.device(\"cuda:0\" if torch.cuda.is_available() else \"cpu\")\n",
    "num_ins = [40,45,30,62,70,153,395,46,75,194]\n",
    "weights = [1-(x/sum(num_ins)) for x in num_ins]\n",
    "class_weights = torch.FloatTensor(weights).to(device)\n",
    "criterion = nn.CrossEntropyLoss(weight=class_weights)"
   ]
  },
  {
   "cell_type": "code",
   "execution_count": 9,
   "metadata": {},
   "outputs": [
    {
     "data": {
      "text/plain": [
       "[0.963963963963964,\n",
       " 0.9594594594594594,\n",
       " 0.972972972972973,\n",
       " 0.9441441441441442,\n",
       " 0.9369369369369369,\n",
       " 0.8621621621621621,\n",
       " 0.6441441441441442,\n",
       " 0.9585585585585585,\n",
       " 0.9324324324324325,\n",
       " 0.8252252252252252]"
      ]
     },
     "execution_count": 9,
     "metadata": {},
     "output_type": "execute_result"
    }
   ],
   "source": [
    "weights"
   ]
  },
  {
   "cell_type": "code",
   "execution_count": 10,
   "metadata": {},
   "outputs": [
    {
     "data": {
      "text/plain": [
       "tensor([0.9640, 0.9595, 0.9730, 0.9441, 0.9369, 0.8622, 0.6441, 0.9586, 0.9324,\n",
       "        0.8252], device='cuda:0')"
      ]
     },
     "execution_count": 10,
     "metadata": {},
     "output_type": "execute_result"
    }
   ],
   "source": [
    "class_weights"
   ]
  },
  {
   "cell_type": "code",
   "execution_count": 11,
   "metadata": {},
   "outputs": [
    {
     "data": {
      "text/plain": [
       "CrossEntropyLoss()"
      ]
     },
     "execution_count": 11,
     "metadata": {},
     "output_type": "execute_result"
    }
   ],
   "source": [
    "criterion"
   ]
  },
  {
   "cell_type": "markdown",
   "metadata": {},
   "source": [
    "## Confusion Matrix"
   ]
  },
  {
   "cell_type": "code",
   "execution_count": 6,
   "metadata": {},
   "outputs": [
    {
     "data": {
      "image/png": "[encoded data removed]",
      "text/plain": [
       "<Figure size 800x600 with 2 Axes>"
      ]
     },
     "metadata": {},
     "output_type": "display_data"
    }
   ],
   "source": [
    "from sklearn.metrics import confusion_matrix\n",
    "import seaborn as sns\n",
    "from matplotlib import pyplot as plt\n",
    "\n",
    "actual = [1,1,1,0,0,0,0,0,2,2,2,2,2,2,2,2]\n",
    "prediction = [1,2,2,0,2,2,1,2,0,1,0,2,2,2,2,2]\n",
    "c_mat = confusion_matrix(actual, prediction) # 실제 라벨, 예측값\n",
    "plt.figure(figsize = (8,6))\n",
    "sns.heatmap(c_mat, annot=True, fmt=\"d\", cmap='Blues',linewidths=.5)\n",
    "b, t = plt.ylim() \n",
    "b += 0.5 \n",
    "t -= 0.5 \n",
    "plt.ylim(b, t) \n",
    "plt.savefig('confusion_matrix.png')\n",
    "plt.show()"
   ]
  },
  {
   "cell_type": "code",
   "execution_count": 7,
   "metadata": {},
   "outputs": [
    {
     "data": {
      "text/plain": [
       "array([[1, 1, 3],\n",
       "       [0, 1, 2],\n",
       "       [2, 1, 5]], dtype=int64)"
      ]
     },
     "execution_count": 7,
     "metadata": {},
     "output_type": "execute_result"
    }
   ],
   "source": [
    "c_mat"
   ]
  },
  {
   "cell_type": "code",
   "execution_count": null,
   "metadata": {},
   "outputs": [],
   "source": []
  }
 ],
 "metadata": {
  "kernelspec": {
   "display_name": "tf_gpu",
   "language": "python",
   "name": "python3"
  },
  "language_info": {
   "codemirror_mode": {
    "name": "ipython",
    "version": 3
   },
   "file_extension": ".py",
   "mimetype": "text/x-python",
   "name": "python",
   "nbconvert_exporter": "python",
   "pygments_lexer": "ipython3",
   "version": "3.9.18"
  },
  "orig_nbformat": 4
 },
 "nbformat": 4,
 "nbformat_minor": 2
}
