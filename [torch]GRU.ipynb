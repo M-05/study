{
  "nbformat": 4,
  "nbformat_minor": 0,
  "metadata": {
    "colab": {
      "provenance": []
    },
    "kernelspec": {
      "name": "python3",
      "display_name": "Python 3"
    },
    "language_info": {
      "name": "python"
    }
  },
  "cells": [
    {
      "cell_type": "markdown",
      "source": [
        "# Gated Recurrent Unit\n",
        "Applies a multi-layer gated recurrent unit (GRU) RNN to an input sequence.\n",
        "\n",
        "GRU는 Vanilla RNN보다 더 발전한 순환 신경망 아키텍처  \n",
        "게이트 메커니즘을 사용하여 장기 의존성을 더 잘 처리하고 더 빠른 학습 속도를 제공."
      ],
      "metadata": {
        "id": "XqzzSnukGNK1"
      }
    },
    {
      "cell_type": "code",
      "execution_count": 45,
      "metadata": {
        "id": "taokh7s7F4cz"
      },
      "outputs": [],
      "source": [
        "import numpy as np\n",
        "import pandas as pd\n",
        "from sklearn.preprocessing import MinMaxScaler\n",
        "\n",
        "import torch\n",
        "import torch.nn as nn\n",
        "import torch.optim as optim\n",
        "\n",
        "import matplotlib.pyplot as plt\n",
        "import seaborn as sns"
      ]
    },
    {
      "cell_type": "code",
      "source": [
        "df = pd.read_csv('kospi.csv')\n",
        "df"
      ],
      "metadata": {
        "colab": {
          "base_uri": "https://localhost:8080/",
          "height": 424
        },
        "id": "0NjOvOxSF5zQ",
        "outputId": "9d522d70-06b4-42a1-8b55-1aa1cab72308"
      },
      "execution_count": 46,
      "outputs": [
        {
          "output_type": "execute_result",
          "data": {
            "text/plain": [
              "           Date         Open         High          Low        Close  \\\n",
              "0    2019-01-30  2183.489990  2206.199951  2177.879883  2206.199951   \n",
              "1    2019-01-31  2222.879883  2222.879883  2201.219971  2204.850098   \n",
              "2    2019-02-01  2211.929932  2218.780029  2201.409912  2203.459961   \n",
              "3    2019-02-07  2215.770020  2215.790039  2196.770020  2203.419922   \n",
              "4    2019-02-08  2192.010010  2192.479980  2171.959961  2177.050049   \n",
              "..          ...          ...          ...          ...          ...   \n",
              "426  2020-10-26  2366.500000  2374.500000  2342.580078  2343.909912   \n",
              "427  2020-10-27  2328.659912  2349.330078  2321.229980  2330.840088   \n",
              "428  2020-10-28  2324.179932  2345.459961  2316.469971  2345.260010   \n",
              "429  2020-10-29  2312.340088  2330.169922  2299.909912  2326.669922   \n",
              "430  2020-10-30  2319.560059  2320.199951  2266.929932  2267.149902   \n",
              "\n",
              "       Adj Close  Volume  \n",
              "0    2206.199951  480400  \n",
              "1    2204.850098  545200  \n",
              "2    2203.459961  479400  \n",
              "3    2203.419922  427800  \n",
              "4    2177.050049  391000  \n",
              "..           ...     ...  \n",
              "426  2343.909912  822300  \n",
              "427  2330.840088  666900  \n",
              "428  2345.260010  705200  \n",
              "429  2326.669922  509100  \n",
              "430  2267.149902  795585  \n",
              "\n",
              "[431 rows x 7 columns]"
            ],
            "text/html": [
              "\n",
              "  <div id=\"df-b39b41f7-aa92-4031-8729-1de3715adc4b\" class=\"colab-df-container\">\n",
              "    <div>\n",
              "<style scoped>\n",
              "    .dataframe tbody tr th:only-of-type {\n",
              "        vertical-align: middle;\n",
              "    }\n",
              "\n",
              "    .dataframe tbody tr th {\n",
              "        vertical-align: top;\n",
              "    }\n",
              "\n",
              "    .dataframe thead th {\n",
              "        text-align: right;\n",
              "    }\n",
              "</style>\n",
              "<table border=\"1\" class=\"dataframe\">\n",
              "  <thead>\n",
              "    <tr style=\"text-align: right;\">\n",
              "      <th></th>\n",
              "      <th>Date</th>\n",
              "      <th>Open</th>\n",
              "      <th>High</th>\n",
              "      <th>Low</th>\n",
              "      <th>Close</th>\n",
              "      <th>Adj Close</th>\n",
              "      <th>Volume</th>\n",
              "    </tr>\n",
              "  </thead>\n",
              "  <tbody>\n",
              "    <tr>\n",
              "      <th>0</th>\n",
              "      <td>2019-01-30</td>\n",
              "      <td>2183.489990</td>\n",
              "      <td>2206.199951</td>\n",
              "      <td>2177.879883</td>\n",
              "      <td>2206.199951</td>\n",
              "      <td>2206.199951</td>\n",
              "      <td>480400</td>\n",
              "    </tr>\n",
              "    <tr>\n",
              "      <th>1</th>\n",
              "      <td>2019-01-31</td>\n",
              "      <td>2222.879883</td>\n",
              "      <td>2222.879883</td>\n",
              "      <td>2201.219971</td>\n",
              "      <td>2204.850098</td>\n",
              "      <td>2204.850098</td>\n",
              "      <td>545200</td>\n",
              "    </tr>\n",
              "    <tr>\n",
              "      <th>2</th>\n",
              "      <td>2019-02-01</td>\n",
              "      <td>2211.929932</td>\n",
              "      <td>2218.780029</td>\n",
              "      <td>2201.409912</td>\n",
              "      <td>2203.459961</td>\n",
              "      <td>2203.459961</td>\n",
              "      <td>479400</td>\n",
              "    </tr>\n",
              "    <tr>\n",
              "      <th>3</th>\n",
              "      <td>2019-02-07</td>\n",
              "      <td>2215.770020</td>\n",
              "      <td>2215.790039</td>\n",
              "      <td>2196.770020</td>\n",
              "      <td>2203.419922</td>\n",
              "      <td>2203.419922</td>\n",
              "      <td>427800</td>\n",
              "    </tr>\n",
              "    <tr>\n",
              "      <th>4</th>\n",
              "      <td>2019-02-08</td>\n",
              "      <td>2192.010010</td>\n",
              "      <td>2192.479980</td>\n",
              "      <td>2171.959961</td>\n",
              "      <td>2177.050049</td>\n",
              "      <td>2177.050049</td>\n",
              "      <td>391000</td>\n",
              "    </tr>\n",
              "    <tr>\n",
              "      <th>...</th>\n",
              "      <td>...</td>\n",
              "      <td>...</td>\n",
              "      <td>...</td>\n",
              "      <td>...</td>\n",
              "      <td>...</td>\n",
              "      <td>...</td>\n",
              "      <td>...</td>\n",
              "    </tr>\n",
              "    <tr>\n",
              "      <th>426</th>\n",
              "      <td>2020-10-26</td>\n",
              "      <td>2366.500000</td>\n",
              "      <td>2374.500000</td>\n",
              "      <td>2342.580078</td>\n",
              "      <td>2343.909912</td>\n",
              "      <td>2343.909912</td>\n",
              "      <td>822300</td>\n",
              "    </tr>\n",
              "    <tr>\n",
              "      <th>427</th>\n",
              "      <td>2020-10-27</td>\n",
              "      <td>2328.659912</td>\n",
              "      <td>2349.330078</td>\n",
              "      <td>2321.229980</td>\n",
              "      <td>2330.840088</td>\n",
              "      <td>2330.840088</td>\n",
              "      <td>666900</td>\n",
              "    </tr>\n",
              "    <tr>\n",
              "      <th>428</th>\n",
              "      <td>2020-10-28</td>\n",
              "      <td>2324.179932</td>\n",
              "      <td>2345.459961</td>\n",
              "      <td>2316.469971</td>\n",
              "      <td>2345.260010</td>\n",
              "      <td>2345.260010</td>\n",
              "      <td>705200</td>\n",
              "    </tr>\n",
              "    <tr>\n",
              "      <th>429</th>\n",
              "      <td>2020-10-29</td>\n",
              "      <td>2312.340088</td>\n",
              "      <td>2330.169922</td>\n",
              "      <td>2299.909912</td>\n",
              "      <td>2326.669922</td>\n",
              "      <td>2326.669922</td>\n",
              "      <td>509100</td>\n",
              "    </tr>\n",
              "    <tr>\n",
              "      <th>430</th>\n",
              "      <td>2020-10-30</td>\n",
              "      <td>2319.560059</td>\n",
              "      <td>2320.199951</td>\n",
              "      <td>2266.929932</td>\n",
              "      <td>2267.149902</td>\n",
              "      <td>2267.149902</td>\n",
              "      <td>795585</td>\n",
              "    </tr>\n",
              "  </tbody>\n",
              "</table>\n",
              "<p>431 rows × 7 columns</p>\n",
              "</div>\n",
              "    <div class=\"colab-df-buttons\">\n",
              "\n",
              "  <div class=\"colab-df-container\">\n",
              "    <button class=\"colab-df-convert\" onclick=\"convertToInteractive('df-b39b41f7-aa92-4031-8729-1de3715adc4b')\"\n",
              "            title=\"Convert this dataframe to an interactive table.\"\n",
              "            style=\"display:none;\">\n",
              "\n",
              "  <svg xmlns=\"http://www.w3.org/2000/svg\" height=\"24px\" viewBox=\"0 -960 960 960\">\n",
              "    <path d=\"M120-120v-720h720v720H120Zm60-500h600v-160H180v160Zm220 220h160v-160H400v160Zm0 220h160v-160H400v160ZM180-400h160v-160H180v160Zm440 0h160v-160H620v160ZM180-180h160v-160H180v160Zm440 0h160v-160H620v160Z\"/>\n",
              "  </svg>\n",
              "    </button>\n",
              "\n",
              "  <style>\n",
              "    .colab-df-container {\n",
              "      display:flex;\n",
              "      gap: 12px;\n",
              "    }\n",
              "\n",
              "    .colab-df-convert {\n",
              "      background-color: #E8F0FE;\n",
              "      border: none;\n",
              "      border-radius: 50%;\n",
              "      cursor: pointer;\n",
              "      display: none;\n",
              "      fill: #1967D2;\n",
              "      height: 32px;\n",
              "      padding: 0 0 0 0;\n",
              "      width: 32px;\n",
              "    }\n",
              "\n",
              "    .colab-df-convert:hover {\n",
              "      background-color: #E2EBFA;\n",
              "      box-shadow: 0px 1px 2px rgba(60, 64, 67, 0.3), 0px 1px 3px 1px rgba(60, 64, 67, 0.15);\n",
              "      fill: #174EA6;\n",
              "    }\n",
              "\n",
              "    .colab-df-buttons div {\n",
              "      margin-bottom: 4px;\n",
              "    }\n",
              "\n",
              "    [theme=dark] .colab-df-convert {\n",
              "      background-color: #3B4455;\n",
              "      fill: #D2E3FC;\n",
              "    }\n",
              "\n",
              "    [theme=dark] .colab-df-convert:hover {\n",
              "      background-color: #434B5C;\n",
              "      box-shadow: 0px 1px 3px 1px rgba(0, 0, 0, 0.15);\n",
              "      filter: drop-shadow(0px 1px 2px rgba(0, 0, 0, 0.3));\n",
              "      fill: #FFFFFF;\n",
              "    }\n",
              "  </style>\n",
              "\n",
              "    <script>\n",
              "      const buttonEl =\n",
              "        document.querySelector('#df-b39b41f7-aa92-4031-8729-1de3715adc4b button.colab-df-convert');\n",
              "      buttonEl.style.display =\n",
              "        google.colab.kernel.accessAllowed ? 'block' : 'none';\n",
              "\n",
              "      async function convertToInteractive(key) {\n",
              "        const element = document.querySelector('#df-b39b41f7-aa92-4031-8729-1de3715adc4b');\n",
              "        const dataTable =\n",
              "          await google.colab.kernel.invokeFunction('convertToInteractive',\n",
              "                                                    [key], {});\n",
              "        if (!dataTable) return;\n",
              "\n",
              "        const docLinkHtml = 'Like what you see? Visit the ' +\n",
              "          '<a target=\"_blank\" href=https://colab.research.google.com/notebooks/data_table.ipynb>data table notebook</a>'\n",
              "          + ' to learn more about interactive tables.';\n",
              "        element.innerHTML = '';\n",
              "        dataTable['output_type'] = 'display_data';\n",
              "        await google.colab.output.renderOutput(dataTable, element);\n",
              "        const docLink = document.createElement('div');\n",
              "        docLink.innerHTML = docLinkHtml;\n",
              "        element.appendChild(docLink);\n",
              "      }\n",
              "    </script>\n",
              "  </div>\n",
              "\n",
              "\n",
              "<div id=\"df-e44b0fd7-8d3c-496c-9bc9-2a40a3048efc\">\n",
              "  <button class=\"colab-df-quickchart\" onclick=\"quickchart('df-e44b0fd7-8d3c-496c-9bc9-2a40a3048efc')\"\n",
              "            title=\"Suggest charts.\"\n",
              "            style=\"display:none;\">\n",
              "\n",
              "<svg xmlns=\"http://www.w3.org/2000/svg\" height=\"24px\"viewBox=\"0 0 24 24\"\n",
              "     width=\"24px\">\n",
              "    <g>\n",
              "        <path d=\"M19 3H5c-1.1 0-2 .9-2 2v14c0 1.1.9 2 2 2h14c1.1 0 2-.9 2-2V5c0-1.1-.9-2-2-2zM9 17H7v-7h2v7zm4 0h-2V7h2v10zm4 0h-2v-4h2v4z\"/>\n",
              "    </g>\n",
              "</svg>\n",
              "  </button>\n",
              "\n",
              "<style>\n",
              "  .colab-df-quickchart {\n",
              "      --bg-color: #E8F0FE;\n",
              "      --fill-color: #1967D2;\n",
              "      --hover-bg-color: #E2EBFA;\n",
              "      --hover-fill-color: #174EA6;\n",
              "      --disabled-fill-color: #AAA;\n",
              "      --disabled-bg-color: #DDD;\n",
              "  }\n",
              "\n",
              "  [theme=dark] .colab-df-quickchart {\n",
              "      --bg-color: #3B4455;\n",
              "      --fill-color: #D2E3FC;\n",
              "      --hover-bg-color: #434B5C;\n",
              "      --hover-fill-color: #FFFFFF;\n",
              "      --disabled-bg-color: #3B4455;\n",
              "      --disabled-fill-color: #666;\n",
              "  }\n",
              "\n",
              "  .colab-df-quickchart {\n",
              "    background-color: var(--bg-color);\n",
              "    border: none;\n",
              "    border-radius: 50%;\n",
              "    cursor: pointer;\n",
              "    display: none;\n",
              "    fill: var(--fill-color);\n",
              "    height: 32px;\n",
              "    padding: 0;\n",
              "    width: 32px;\n",
              "  }\n",
              "\n",
              "  .colab-df-quickchart:hover {\n",
              "    background-color: var(--hover-bg-color);\n",
              "    box-shadow: 0 1px 2px rgba(60, 64, 67, 0.3), 0 1px 3px 1px rgba(60, 64, 67, 0.15);\n",
              "    fill: var(--button-hover-fill-color);\n",
              "  }\n",
              "\n",
              "  .colab-df-quickchart-complete:disabled,\n",
              "  .colab-df-quickchart-complete:disabled:hover {\n",
              "    background-color: var(--disabled-bg-color);\n",
              "    fill: var(--disabled-fill-color);\n",
              "    box-shadow: none;\n",
              "  }\n",
              "\n",
              "  .colab-df-spinner {\n",
              "    border: 2px solid var(--fill-color);\n",
              "    border-color: transparent;\n",
              "    border-bottom-color: var(--fill-color);\n",
              "    animation:\n",
              "      spin 1s steps(1) infinite;\n",
              "  }\n",
              "\n",
              "  @keyframes spin {\n",
              "    0% {\n",
              "      border-color: transparent;\n",
              "      border-bottom-color: var(--fill-color);\n",
              "      border-left-color: var(--fill-color);\n",
              "    }\n",
              "    20% {\n",
              "      border-color: transparent;\n",
              "      border-left-color: var(--fill-color);\n",
              "      border-top-color: var(--fill-color);\n",
              "    }\n",
              "    30% {\n",
              "      border-color: transparent;\n",
              "      border-left-color: var(--fill-color);\n",
              "      border-top-color: var(--fill-color);\n",
              "      border-right-color: var(--fill-color);\n",
              "    }\n",
              "    40% {\n",
              "      border-color: transparent;\n",
              "      border-right-color: var(--fill-color);\n",
              "      border-top-color: var(--fill-color);\n",
              "    }\n",
              "    60% {\n",
              "      border-color: transparent;\n",
              "      border-right-color: var(--fill-color);\n",
              "    }\n",
              "    80% {\n",
              "      border-color: transparent;\n",
              "      border-right-color: var(--fill-color);\n",
              "      border-bottom-color: var(--fill-color);\n",
              "    }\n",
              "    90% {\n",
              "      border-color: transparent;\n",
              "      border-bottom-color: var(--fill-color);\n",
              "    }\n",
              "  }\n",
              "</style>\n",
              "\n",
              "  <script>\n",
              "    async function quickchart(key) {\n",
              "      const quickchartButtonEl =\n",
              "        document.querySelector('#' + key + ' button');\n",
              "      quickchartButtonEl.disabled = true;  // To prevent multiple clicks.\n",
              "      quickchartButtonEl.classList.add('colab-df-spinner');\n",
              "      try {\n",
              "        const charts = await google.colab.kernel.invokeFunction(\n",
              "            'suggestCharts', [key], {});\n",
              "      } catch (error) {\n",
              "        console.error('Error during call to suggestCharts:', error);\n",
              "      }\n",
              "      quickchartButtonEl.classList.remove('colab-df-spinner');\n",
              "      quickchartButtonEl.classList.add('colab-df-quickchart-complete');\n",
              "    }\n",
              "    (() => {\n",
              "      let quickchartButtonEl =\n",
              "        document.querySelector('#df-e44b0fd7-8d3c-496c-9bc9-2a40a3048efc button');\n",
              "      quickchartButtonEl.style.display =\n",
              "        google.colab.kernel.accessAllowed ? 'block' : 'none';\n",
              "    })();\n",
              "  </script>\n",
              "</div>\n",
              "    </div>\n",
              "  </div>\n"
            ]
          },
          "metadata": {},
          "execution_count": 46
        }
      ]
    },
    {
      "cell_type": "code",
      "source": [
        "scaler = MinMaxScaler()\n",
        "df[['Open','High','Low','Close','Volume']] = scaler.fit_transform(df[['Open','High','Low','Close','Volume']])"
      ],
      "metadata": {
        "id": "UbwJFMXhF95Q"
      },
      "execution_count": 47,
      "outputs": []
    },
    {
      "cell_type": "code",
      "source": [
        "device = torch.device(\"cuda:0\" if torch.cuda.is_available() else \"cpu\")\n",
        "device\n",
        "# cpu, cuda, ipu, xpu, mkldnn, opengl, opencl, ideep, hip, ve, fpga, ort, xla, lazy, vulkan, mps, meta, hpu, mtia, privateuseone"
      ],
      "metadata": {
        "colab": {
          "base_uri": "https://localhost:8080/"
        },
        "id": "UnsY5_xeGTG3",
        "outputId": "cc3429c4-32f5-4670-80db-bdac4b8bf2d9"
      },
      "execution_count": 48,
      "outputs": [
        {
          "output_type": "execute_result",
          "data": {
            "text/plain": [
              "device(type='cpu')"
            ]
          },
          "metadata": {},
          "execution_count": 48
        }
      ]
    },
    {
      "cell_type": "code",
      "source": [
        "X = df[['Open','High','Low','Volume']].values\n",
        "y = df['Close'].values"
      ],
      "metadata": {
        "id": "b9giiFbfGWut"
      },
      "execution_count": 49,
      "outputs": []
    },
    {
      "cell_type": "code",
      "source": [
        "def seq_data(x, y, sequence_length):\n",
        "\n",
        "    x_seq = []\n",
        "    y_seq = []\n",
        "    for i in range(len(x) - sequence_length):\n",
        "        x_seq.append(x[i:i + sequence_length])\n",
        "        y_seq.append(y[i + sequence_length])\n",
        "\n",
        "    return torch.FloatTensor(x_seq).to(device), torch.FloatTensor(y_seq).to(device).view([-1, 1])"
      ],
      "metadata": {
        "id": "ApZnOYFVGZqs"
      },
      "execution_count": 50,
      "outputs": []
    },
    {
      "cell_type": "code",
      "source": [
        "split = 200\n",
        "sequence_length = 5\n",
        "\n",
        "x_seq, y_seq = seq_data(X, y, sequence_length)\n",
        "x_train_seq = x_seq[:split]\n",
        "y_train_seq = y_seq[:split]\n",
        "x_test_seq = x_seq[split:]\n",
        "y_test_seq = y_seq[split:]\n",
        "print(x_train_seq.size(), y_train_seq.size())\n",
        "print(x_test_seq.size(), y_test_seq.size())"
      ],
      "metadata": {
        "colab": {
          "base_uri": "https://localhost:8080/"
        },
        "id": "g-Gq_noyGeNO",
        "outputId": "6e826e38-5cd6-490b-9afc-e4057d0d07bf"
      },
      "execution_count": 51,
      "outputs": [
        {
          "output_type": "stream",
          "name": "stdout",
          "text": [
            "torch.Size([200, 5, 4]) torch.Size([200, 1])\n",
            "torch.Size([226, 5, 4]) torch.Size([226, 1])\n"
          ]
        }
      ]
    },
    {
      "cell_type": "code",
      "source": [
        "train = torch.utils.data.TensorDataset(x_train_seq, y_train_seq)\n",
        "test = torch.utils.data.TensorDataset(x_test_seq, y_test_seq)\n",
        "\n",
        "batch_size = 20\n",
        "train_loader = torch.utils.data.DataLoader(dataset=train, batch_size=batch_size, shuffle=False)\n",
        "test_loader = torch.utils.data.DataLoader(dataset=test, batch_size=batch_size, shuffle=False)"
      ],
      "metadata": {
        "id": "XYxp_oa7Iifx"
      },
      "execution_count": 52,
      "outputs": []
    },
    {
      "cell_type": "code",
      "source": [
        "# RNN\n",
        "input_size = x_seq.size(2)\n",
        "num_layers = 2\n",
        "hidden_size = 8"
      ],
      "metadata": {
        "id": "9EnIVDvIIq8Q"
      },
      "execution_count": 53,
      "outputs": []
    },
    {
      "cell_type": "code",
      "source": [
        "input_size, x_seq.size()"
      ],
      "metadata": {
        "colab": {
          "base_uri": "https://localhost:8080/"
        },
        "id": "nNzt8LsYIvD9",
        "outputId": "5ff87fe1-3598-422e-f141-c82476d025d7"
      },
      "execution_count": 21,
      "outputs": [
        {
          "output_type": "execute_result",
          "data": {
            "text/plain": [
              "(4, torch.Size([426, 5, 4]))"
            ]
          },
          "metadata": {},
          "execution_count": 21
        }
      ]
    },
    {
      "cell_type": "code",
      "source": [
        "class GRU(nn.Module):\n",
        "\n",
        "    def __init__(self, input_size, hidden_size, sequence_length, num_layers, device):\n",
        "        super(GRU, self).__init__()\n",
        "        self.device = device\n",
        "        self.hidden_size = hidden_size\n",
        "        self.num_layers = num_layers\n",
        "        self.gru = nn.GRU(input_size, hidden_size, num_layers, batch_first=True)\n",
        "        self.fc = nn.Linear(hidden_size * sequence_length, 1)\n",
        "\n",
        "    def forward(self, x):\n",
        "        h0 = torch.zeros(self.num_layers, x.size(0), self.hidden_size).to(self.device)\n",
        "        # print(h0.shape) torch.Size([2, 20, 8])\n",
        "        out, _ = self.gru(x, h0)\n",
        "        # print(out.shape) torch.Size([20, 5, 8])\n",
        "        out = out.reshape(out.shape[0], -1) # <- state 추가\n",
        "        # print(out.shape) torch.Size([20, 40])\n",
        "        out = self.fc(out)\n",
        "        return out"
      ],
      "metadata": {
        "id": "DTakWC78IwLk"
      },
      "execution_count": 54,
      "outputs": []
    },
    {
      "cell_type": "code",
      "source": [
        "model = GRU(input_size=input_size,\n",
        "                   hidden_size=hidden_size,\n",
        "                   sequence_length=sequence_length,\n",
        "                   num_layers=num_layers, device=device)\n",
        "\n",
        "model = model.to(device)"
      ],
      "metadata": {
        "id": "VPN3oRylI13m"
      },
      "execution_count": 55,
      "outputs": []
    },
    {
      "cell_type": "code",
      "source": [
        "input_size, hidden_size, sequence_length, num_layers"
      ],
      "metadata": {
        "colab": {
          "base_uri": "https://localhost:8080/"
        },
        "id": "T9BeWvrjKxfN",
        "outputId": "cfaf5fac-7db6-4064-cc7b-c7a92f727507"
      },
      "execution_count": 28,
      "outputs": [
        {
          "output_type": "execute_result",
          "data": {
            "text/plain": [
              "(4, 8, 5, 2)"
            ]
          },
          "metadata": {},
          "execution_count": 28
        }
      ]
    },
    {
      "cell_type": "code",
      "source": [
        "model.parameters"
      ],
      "metadata": {
        "colab": {
          "base_uri": "https://localhost:8080/"
        },
        "id": "IZMGnoOMLY3v",
        "outputId": "a7183881-d419-424a-d67a-15c0aa60869e"
      },
      "execution_count": 30,
      "outputs": [
        {
          "output_type": "execute_result",
          "data": {
            "text/plain": [
              "<bound method Module.parameters of GRU(\n",
              "  (gru): GRU(4, 8, num_layers=2, batch_first=True)\n",
              "  (fc): Linear(in_features=40, out_features=1, bias=True)\n",
              ")>"
            ]
          },
          "metadata": {},
          "execution_count": 30
        }
      ]
    },
    {
      "cell_type": "markdown",
      "source": [
        "**GRU**(   \n",
        "batch_first=True\n",
        "> (batch, seq, feature)   \n",
        "\n",
        "batch_first=False\n",
        "> (seq, batch, feature)  \n",
        "\n",
        ")"
      ],
      "metadata": {
        "id": "jQj9ZQ1eO7bJ"
      }
    },
    {
      "cell_type": "code",
      "source": [
        "criterion = nn.MSELoss()\n",
        "lr = 1e-3\n",
        "num_epochs = 301\n",
        "optimizer = optim.Adam(model.parameters(), lr=lr)"
      ],
      "metadata": {
        "id": "3O0cVpFyLS3J"
      },
      "execution_count": 56,
      "outputs": []
    },
    {
      "cell_type": "code",
      "source": [
        "from tqdm import tqdm"
      ],
      "metadata": {
        "id": "zG8wG1ciO0UP"
      },
      "execution_count": 34,
      "outputs": []
    },
    {
      "cell_type": "code",
      "source": [
        "loss_graph = []\n",
        "n = len(train_loader)\n",
        "for epoch in tqdm(range(num_epochs)):\n",
        "    running_loss = 0.0\n",
        "\n",
        "    for i, data in enumerate(train_loader, start=0):\n",
        "\n",
        "        seq, target = data # 배치 데이터\n",
        "        out = model(seq)\n",
        "        loss = criterion(out, target)\n",
        "\n",
        "        optimizer.zero_grad()\n",
        "        loss.backward()\n",
        "        optimizer.step()\n",
        "        running_loss += loss.item()\n",
        "\n",
        "    loss_graph.append(running_loss/n)\n",
        "    if epoch % 100 == 0:\n",
        "        print('[epoch: %d] loss: %.4f' %(epoch, running_loss/n))"
      ],
      "metadata": {
        "colab": {
          "base_uri": "https://localhost:8080/"
        },
        "id": "YrLJWmwCPBT_",
        "outputId": "a25375fe-ffb5-4641-9c39-0bb86f120ee7"
      },
      "execution_count": 57,
      "outputs": [
        {
          "output_type": "stream",
          "name": "stderr",
          "text": [
            "  2%|▏         | 6/301 [00:00<00:11, 25.28it/s]"
          ]
        },
        {
          "output_type": "stream",
          "name": "stdout",
          "text": [
            "[epoch: 0] loss: 0.3276\n"
          ]
        },
        {
          "output_type": "stream",
          "name": "stderr",
          "text": [
            " 35%|███▍      | 105/301 [00:04<00:07, 25.16it/s]"
          ]
        },
        {
          "output_type": "stream",
          "name": "stdout",
          "text": [
            "[epoch: 100] loss: 0.0019\n"
          ]
        },
        {
          "output_type": "stream",
          "name": "stderr",
          "text": [
            " 68%|██████▊   | 205/301 [00:09<00:05, 18.52it/s]"
          ]
        },
        {
          "output_type": "stream",
          "name": "stdout",
          "text": [
            "[epoch: 200] loss: 0.0009\n"
          ]
        },
        {
          "output_type": "stream",
          "name": "stderr",
          "text": [
            "100%|██████████| 301/301 [00:13<00:00, 23.07it/s]"
          ]
        },
        {
          "output_type": "stream",
          "name": "stdout",
          "text": [
            "[epoch: 300] loss: 0.0008\n"
          ]
        },
        {
          "output_type": "stream",
          "name": "stderr",
          "text": [
            "\n"
          ]
        }
      ]
    },
    {
      "cell_type": "code",
      "source": [
        "plt.figure(figsize=(20,10))\n",
        "plt.plot(loss_graph)\n",
        "plt.show()"
      ],
      "metadata": {
        "colab": {
          "base_uri": "https://localhost:8080/",
          "height": 830
        },
        "id": "zPBFVXWCPD4N",
        "outputId": "e21e050c-ab20-4371-c408-662109dfa8e5"
      },
      "execution_count": 58,
      "outputs": [
        {
          "output_type": "display_data",
          "data": {
            "text/plain": [
              "<Figure size 2000x1000 with 1 Axes>"
            ],
            "image/png": "[encoded data removed]"
          },
          "metadata": {}
        }
      ]
    },
    {
      "cell_type": "code",
      "source": [
        "concatdata = torch.utils.data.ConcatDataset([train, test])\n",
        "data_loader = torch.utils.data.DataLoader(dataset=concatdata, batch_size=100, shuffle=False)"
      ],
      "metadata": {
        "id": "IrXFAaszQY9J"
      },
      "execution_count": 63,
      "outputs": []
    },
    {
      "cell_type": "code",
      "source": [
        "with torch.no_grad():\n",
        "    pred = []\n",
        "\n",
        "    for data in data_loader:\n",
        "        seq, target = data\n",
        "        out = model(seq)\n",
        "        pred += out.cpu().tolist()"
      ],
      "metadata": {
        "id": "OOmeQnfQP4tb"
      },
      "execution_count": 64,
      "outputs": []
    },
    {
      "cell_type": "code",
      "source": [
        "out.shape, len(pred)"
      ],
      "metadata": {
        "colab": {
          "base_uri": "https://localhost:8080/"
        },
        "id": "velxMXRvQkZt",
        "outputId": "bed89335-8baf-4bb5-e2d7-de3ceca47fb4"
      },
      "execution_count": 71,
      "outputs": [
        {
          "output_type": "execute_result",
          "data": {
            "text/plain": [
              "(torch.Size([26, 1]), 426)"
            ]
          },
          "metadata": {},
          "execution_count": 71
        }
      ]
    },
    {
      "cell_type": "code",
      "source": [
        "sequence_length"
      ],
      "metadata": {
        "colab": {
          "base_uri": "https://localhost:8080/"
        },
        "id": "lfWqxvbBQjHl",
        "outputId": "64fc34fe-da49-4941-bb03-bdccd30ea6f8"
      },
      "execution_count": 66,
      "outputs": [
        {
          "output_type": "execute_result",
          "data": {
            "text/plain": [
              "5"
            ]
          },
          "metadata": {},
          "execution_count": 66
        }
      ]
    },
    {
      "cell_type": "code",
      "source": [
        "np.ones(100) * len(train)"
      ],
      "metadata": {
        "colab": {
          "base_uri": "https://localhost:8080/"
        },
        "id": "ISUAiO4MQ6EJ",
        "outputId": "34712749-4301-4581-cfdd-d79f61cd1dd7"
      },
      "execution_count": 73,
      "outputs": [
        {
          "output_type": "execute_result",
          "data": {
            "text/plain": [
              "array([200., 200., 200., 200., 200., 200., 200., 200., 200., 200., 200.,\n",
              "       200., 200., 200., 200., 200., 200., 200., 200., 200., 200., 200.,\n",
              "       200., 200., 200., 200., 200., 200., 200., 200., 200., 200., 200.,\n",
              "       200., 200., 200., 200., 200., 200., 200., 200., 200., 200., 200.,\n",
              "       200., 200., 200., 200., 200., 200., 200., 200., 200., 200., 200.,\n",
              "       200., 200., 200., 200., 200., 200., 200., 200., 200., 200., 200.,\n",
              "       200., 200., 200., 200., 200., 200., 200., 200., 200., 200., 200.,\n",
              "       200., 200., 200., 200., 200., 200., 200., 200., 200., 200., 200.,\n",
              "       200., 200., 200., 200., 200., 200., 200., 200., 200., 200., 200.,\n",
              "       200.])"
            ]
          },
          "metadata": {},
          "execution_count": 73
        }
      ]
    },
    {
      "cell_type": "code",
      "source": [
        "train.tensors[0].shape, train.tensors[1].shape"
      ],
      "metadata": {
        "colab": {
          "base_uri": "https://localhost:8080/"
        },
        "id": "kZtsrP8GQ9hc",
        "outputId": "b1d4a178-5a09-421c-a0d9-d651626e222f"
      },
      "execution_count": 81,
      "outputs": [
        {
          "output_type": "execute_result",
          "data": {
            "text/plain": [
              "(torch.Size([200, 5, 4]), torch.Size([200, 1]))"
            ]
          },
          "metadata": {},
          "execution_count": 81
        }
      ]
    },
    {
      "cell_type": "code",
      "source": [
        "plt.figure(figsize=(20,10))\n",
        "\n",
        "plt.plot(np.ones(100) * len(train), np.linspace(0,1,100),'--', linewidth=0.6)\n",
        "plt.plot(df['Close'][sequence_length:].values,'--')\n",
        "plt.plot(pred,'b', linewidth=0.6)\n",
        "\n",
        "plt.legend(['train boundary','actual','prediction'])\n",
        "plt.grid()\n",
        "plt.show()"
      ],
      "metadata": {
        "colab": {
          "base_uri": "https://localhost:8080/",
          "height": 830
        },
        "id": "mnTUzs-LQahV",
        "outputId": "379b9c3b-6c3c-4ca2-a965-bdc78b044a02"
      },
      "execution_count": 72,
      "outputs": [
        {
          "output_type": "display_data",
          "data": {
            "text/plain": [
              "<Figure size 2000x1000 with 1 Axes>"
            ],
            "image/png": "[encoded data removed]"
          },
          "metadata": {}
        }
      ]
    },
    {
      "cell_type": "code",
      "source": [],
      "metadata": {
        "id": "LFSVLtrsQgAk"
      },
      "execution_count": null,
      "outputs": []
    }
  ]
}