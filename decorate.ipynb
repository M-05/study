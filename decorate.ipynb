{
  "nbformat": 4,
  "nbformat_minor": 0,
  "metadata": {
    "colab": {
      "provenance": []
    },
    "kernelspec": {
      "name": "python3",
      "display_name": "Python 3"
    },
    "language_info": {
      "name": "python"
    }
  },
  "cells": [
    {
      "cell_type": "code",
      "execution_count": 1,
      "metadata": {
        "colab": {
          "base_uri": "https://localhost:8080/"
        },
        "id": "VOW-iGb60gNn",
        "outputId": "81422f8d-3c42-403b-e611-f2fd50f3170d"
      },
      "outputs": [
        {
          "output_type": "stream",
          "name": "stdout",
          "text": [
            "*****\n",
            "hello\n",
            "*****\n"
          ]
        }
      ],
      "source": [
        "def decorate(func):\n",
        "    print(\"*\" * 5)\n",
        "    func()\n",
        "    print(\"*\" * 5)\n",
        "\n",
        "def saySomthing():\n",
        "    print(\"hello\")\n",
        "\n",
        "decorate(saySomthing)"
      ]
    },
    {
      "cell_type": "code",
      "source": [
        "def decorate(func):\n",
        "    def wrapper():\n",
        "        print(\"*\" * 5)\n",
        "        func()\n",
        "        print(\"*\" * 5)\n",
        "    return wrapper\n",
        "\n",
        "def saySomthing():\n",
        "    print(\"hello\")\n",
        "\n",
        "x = decorate(saySomthing)\n",
        "x()"
      ],
      "metadata": {
        "colab": {
          "base_uri": "https://localhost:8080/"
        },
        "id": "MLv_bH8h0rmG",
        "outputId": "eada46a1-530e-44f4-dd5f-c6942a2c5994"
      },
      "execution_count": 3,
      "outputs": [
        {
          "output_type": "stream",
          "name": "stdout",
          "text": [
            "*****\n",
            "hello\n",
            "*****\n"
          ]
        }
      ]
    },
    {
      "cell_type": "code",
      "source": [
        "def decorate(func):\n",
        "    def wrapper():\n",
        "        print(\"*\" * 5)\n",
        "        func()\n",
        "        print(\"*\" * 5)\n",
        "    return wrapper()\n",
        "\n",
        "def saySomthing():\n",
        "    print(\"hello\")\n",
        "\n",
        "decorate(saySomthing)"
      ],
      "metadata": {
        "colab": {
          "base_uri": "https://localhost:8080/"
        },
        "id": "sDqBmBUV03a6",
        "outputId": "c9aa1a84-8de4-480c-d882-20231b01a768"
      },
      "execution_count": 4,
      "outputs": [
        {
          "output_type": "stream",
          "name": "stdout",
          "text": [
            "*****\n",
            "hello\n",
            "*****\n"
          ]
        }
      ]
    },
    {
      "cell_type": "code",
      "source": [
        "def decorate(func):\n",
        "    def wrapper():\n",
        "        print(\"*\" * 5)\n",
        "        func()\n",
        "        print(\"*\" * 5)\n",
        "    return wrapper\n",
        "\n",
        "@decorate\n",
        "def saySomthing():\n",
        "    print(\"hello\")\n",
        "\n",
        "saySomthing()"
      ],
      "metadata": {
        "colab": {
          "base_uri": "https://localhost:8080/"
        },
        "id": "svhAJY251RRf",
        "outputId": "ee079001-d33d-438a-8a0e-64ec00dd997f"
      },
      "execution_count": 8,
      "outputs": [
        {
          "output_type": "stream",
          "name": "stdout",
          "text": [
            "*****\n",
            "hello\n",
            "*****\n"
          ]
        }
      ]
    },
    {
      "cell_type": "code",
      "source": [
        "def decorate(func):\n",
        "    def wrapper(saying):\n",
        "        print(\"*\" * 5)\n",
        "        func(saying)\n",
        "        print(\"*\" * 5)\n",
        "    return wrapper\n",
        "\n",
        "@decorate\n",
        "def saySomthing(saying):\n",
        "    print(saying)\n",
        "\n",
        "saySomthing(\"i am happy for you\")"
      ],
      "metadata": {
        "colab": {
          "base_uri": "https://localhost:8080/"
        },
        "id": "4NDPIMoH1fZ3",
        "outputId": "44dd296d-5403-4b88-fdff-f85db98bf88b"
      },
      "execution_count": 9,
      "outputs": [
        {
          "output_type": "stream",
          "name": "stdout",
          "text": [
            "*****\n",
            "i am happy for you\n",
            "*****\n"
          ]
        }
      ]
    },
    {
      "cell_type": "code",
      "source": [
        "def decorate(func):\n",
        "    def wrapper(*arg):\n",
        "        print(\"*\" * 5)\n",
        "        func(*arg)\n",
        "        print(\"*\" * 5)\n",
        "    return wrapper\n",
        "\n",
        "@decorate\n",
        "def saySomthing(saying, saying2, saying3, saying4):\n",
        "    print(saying, saying2, saying3, saying4)\n",
        "\n",
        "saySomthing(\"i am happy for you\", \"  love you\", \" i miss you\", \" i see you\")"
      ],
      "metadata": {
        "colab": {
          "base_uri": "https://localhost:8080/"
        },
        "id": "E-eEOrWx17kA",
        "outputId": "33543a0b-18b7-4172-9134-4db5f387f4ae"
      },
      "execution_count": 10,
      "outputs": [
        {
          "output_type": "stream",
          "name": "stdout",
          "text": [
            "*****\n",
            "i am happy for you   love you  i miss you  i see you\n",
            "*****\n"
          ]
        }
      ]
    },
    {
      "cell_type": "code",
      "source": [],
      "metadata": {
        "id": "yfx-TRjE2i39"
      },
      "execution_count": null,
      "outputs": []
    }
  ]
}