{
  "nbformat": 4,
  "nbformat_minor": 0,
  "metadata": {
    "colab": {
      "provenance": []
    },
    "kernelspec": {
      "name": "python3",
      "display_name": "Python 3"
    },
    "language_info": {
      "name": "python"
    }
  },
  "cells": [
    {
      "cell_type": "code",
      "execution_count": 32,
      "metadata": {
        "id": "IecvV4Y3tOA5"
      },
      "outputs": [],
      "source": [
        "import numpy as np\n",
        "import torch\n",
        "import tensorflow as tf"
      ]
    },
    {
      "cell_type": "code",
      "source": [
        "# [0, 1) 범위 내에서 균일하게 분포된 난수를 생성\n",
        "print(\"numpy\", np.random.rand(5))\n",
        "print(\"torch\", torch.rand(5))\n",
        "print(\"tensorflow\", tf.random.uniform(shape=(5,)))"
      ],
      "metadata": {
        "colab": {
          "base_uri": "https://localhost:8080/"
        },
        "id": "3H-jVOsh6ceh",
        "outputId": "d6440b8e-c0cf-405e-d320-5eed19cace1e"
      },
      "execution_count": 57,
      "outputs": [
        {
          "output_type": "stream",
          "name": "stdout",
          "text": [
            "numpy [0.58898821 0.9090524  0.55963631 0.3208566  0.13787079]\n",
            "torch tensor([0.8369, 0.3747, 0.6526, 0.4255, 0.9629])\n",
            "tensorflow tf.Tensor([0.9677826  0.84752536 0.26275766 0.6527345  0.64443314], shape=(5,), dtype=float32)\n"
          ]
        }
      ]
    },
    {
      "cell_type": "code",
      "source": [
        "# (범위가 [0, 4]) 중 임의로 선택한 숫자들을 포함하는 길이가 5\n",
        "print(np.random.randint(5, size=(5,)))\n",
        "print(\"torch\", torch.randint(5, size=(5,)))\n",
        "\n",
        "uniform_float = tf.random.uniform(shape=(5,), minval=0, maxval=5, dtype=tf.float32)\n",
        "print(\"tensorflow\", tf.dtypes.cast(uniform_float, dtype=tf.int32))"
      ],
      "metadata": {
        "colab": {
          "base_uri": "https://localhost:8080/"
        },
        "id": "0SwaeS1F7FWG",
        "outputId": "54e6c7a5-4135-41c0-d4be-854a9fd23345"
      },
      "execution_count": 58,
      "outputs": [
        {
          "output_type": "stream",
          "name": "stdout",
          "text": [
            "[2 3 4 0 3]\n",
            "torch tensor([4, 0, 0, 4, 2])\n",
            "tensorflow tf.Tensor([1 3 0 1 1], shape=(5,), dtype=int32)\n"
          ]
        }
      ]
    },
    {
      "cell_type": "code",
      "source": [
        "# 표준 정규 분포(평균 0, 표준 편차 1)에서 난수를 생성\n",
        "print(\"numpy\", np.random.randn(5))\n",
        "print(\"torch\", torch.randn(5))\n",
        "print(\"tensorflow\", tf.random.normal(shape=(5,)))"
      ],
      "metadata": {
        "colab": {
          "base_uri": "https://localhost:8080/"
        },
        "id": "2gRTqT_f7Li3",
        "outputId": "3af59fa3-5868-4b49-f0a8-0a99278ef5a7"
      },
      "execution_count": 59,
      "outputs": [
        {
          "output_type": "stream",
          "name": "stdout",
          "text": [
            "numpy [-2.61208473  0.24647735 -0.53172702  1.07093896  1.20383833]\n",
            "torch tensor([0.6675, 0.2782, 0.9835, 2.8401, 0.9286])\n",
            "tensorflow tf.Tensor([ 1.2271191   0.18503666 -1.2535399   0.6432251  -1.2461982 ], shape=(5,), dtype=float32)\n"
          ]
        }
      ]
    },
    {
      "cell_type": "markdown",
      "source": [
        "---"
      ],
      "metadata": {
        "id": "4IA9d0Us_Hh5"
      }
    },
    {
      "cell_type": "code",
      "source": [
        "torch.empty(size=(3,3))"
      ],
      "metadata": {
        "colab": {
          "base_uri": "https://localhost:8080/"
        },
        "id": "yDd-OMgV8lUX",
        "outputId": "464b1a31-aabf-4c43-ed9b-c143100e21fe"
      },
      "execution_count": 45,
      "outputs": [
        {
          "output_type": "execute_result",
          "data": {
            "text/plain": [
              "tensor([[ 2.1188e-13,  4.3565e-41, -6.8961e+25],\n",
              "        [ 3.2434e-41,  5.6350e-15,  4.3565e-41],\n",
              "        [-5.6670e+13,  4.3562e-41,  3.2851e-10]])"
            ]
          },
          "metadata": {},
          "execution_count": 45
        }
      ]
    }
  ]
}