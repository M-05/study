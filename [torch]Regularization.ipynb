{
 "cells": [
  {
   "cell_type": "markdown",
   "metadata": {},
   "source": [
    "## Dropout & Batch Normalization"
   ]
  },
  {
   "cell_type": "code",
   "execution_count": null,
   "metadata": {},
   "outputs": [],
   "source": [
    "class CNN(nn.Module):\n",
    "    def __init__(self):\n",
    "        super(CNN, self).__init__()\n",
    "        \n",
    "        self.feature_extraction = nn.Sequential(nn.Conv2d(3, 6, 5), \n",
    "                                                nn.BatchNorm2d(6),\n",
    "                                                nn.ReLU(),\n",
    "                                                nn.MaxPool2d(2, 2), \n",
    "                                                nn.Conv2d(6, 16, 5),\n",
    "                                                nn.BatchNorm2d(16),\n",
    "                                                nn.ReLU(),\n",
    "                                                nn.MaxPool2d(2, 2))\n",
    "        \n",
    "        self.classifier = nn.Sequential(nn.Linear(512, 120),\n",
    "                                        nn.ReLU(),\n",
    "                                        nn.Dropout(0.5), # 비활성화 시킬 노드의 비율\n",
    "                                        nn.Linear(120, 64),\n",
    "                                        nn.ReLU(),\n",
    "                                        nn.Linear(64, 10))\n",
    "                                        \n",
    "    def forward(self, x):\n",
    "        x = self.feature_extraction(x)\n",
    "        x = x.view(-1, 512) \n",
    "        x = self.classifier(x)\n",
    "\n",
    "        return x\n",
    "\n",
    "net = CNN().to(device) # 모델 선언"
   ]
  },
  {
   "cell_type": "code",
   "execution_count": null,
   "metadata": {},
   "outputs": [],
   "source": []
  },
  {
   "cell_type": "markdown",
   "metadata": {},
   "source": [
    "## L2 Regularization"
   ]
  },
  {
   "cell_type": "code",
   "execution_count": null,
   "metadata": {},
   "outputs": [],
   "source": [
    "import torch.optim as optim\n",
    "\n",
    "optimizer = optim.Adam(model.parameters(), lr=1e-4, weight_decay=1e-2)"
   ]
  },
  {
   "cell_type": "code",
   "execution_count": null,
   "metadata": {},
   "outputs": [],
   "source": []
  },
  {
   "cell_type": "markdown",
   "metadata": {},
   "source": [
    "## Data Augmentation"
   ]
  },
  {
   "cell_type": "code",
   "execution_count": null,
   "metadata": {},
   "outputs": [],
   "source": [
    "import torchvision.transforms as tr\n",
    "import PIL\n",
    "\n",
    "transf = tr.Compose(\n",
    "                [tr.ToPILImage(), \n",
    "                 tr.RandomCrop(60), \n",
    "                 tr.ColorJitter(brightness=0.1, contrast=0.1, saturation=0.1, hue=0.1),\n",
    "                 tr.RandomHorizontalFlip(),\n",
    "                 tr.RandomRotation(10, resample=PIL.Image.BILINEAR),\n",
    "                 tr.ToTensor()\n",
    "                 ])\n",
    "\n",
    "# tr.Normalize(mean=(.5,.5), std=(.5,.5))"
   ]
  },
  {
   "cell_type": "code",
   "execution_count": null,
   "metadata": {},
   "outputs": [],
   "source": []
  }
 ],
 "metadata": {
  "kernelspec": {
   "display_name": "tf_gpu",
   "language": "python",
   "name": "python3"
  },
  "language_info": {
   "name": "python",
   "version": "3.9.18"
  },
  "orig_nbformat": 4
 },
 "nbformat": 4,
 "nbformat_minor": 2
}
